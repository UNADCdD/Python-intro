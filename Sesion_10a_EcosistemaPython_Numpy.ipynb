{
 "cells": [
  {
   "cell_type": "markdown",
   "metadata": {
    "slideshow": {
     "slide_type": "slide"
    }
   },
   "source": [
    "![Logo_unad](https://upload.wikimedia.org/wikipedia/commons/5/5f/Logo_unad.png)\n",
    "\n",
    "<font size=3 color=\"midnightblue\" face=\"arial\">\n",
    "<h1 align=\"center\">Escuela de Ciencias Básicas, Tecnología e Ingeniería</h1>\n",
    "</font>\n",
    "\n",
    "<font size=3 color=\"navy\" face=\"arial\">\n",
    "<h1 align=\"center\">ECBTI</h1>\n",
    "</font>\n",
    "\n",
    "<font size=2 color=\"darkorange\" face=\"arial\">\n",
    "<h1 align=\"center\">Curso:</h1>\n",
    "</font>\n",
    "\n",
    "<font size=2 color=\"navy\" face=\"arial\">\n",
    "<h1 align=\"center\">Introducción al lenguaje de programación Python</h1>\n",
    "</font>\n",
    "\n",
    "<font size=1 color=\"darkorange\" face=\"arial\">\n",
    "<h1 align=\"center\">Febrero de 2020</h1>\n",
    "</font>"
   ]
  },
  {
   "cell_type": "markdown",
   "metadata": {
    "slideshow": {
     "slide_type": "slide"
    }
   },
   "source": [
    "<h2 align=\"center\">Sesión 10a - Ecosistema Python - Numpy</h2>"
   ]
  },
  {
   "cell_type": "markdown",
   "metadata": {
    "slideshow": {
     "slide_type": "fragment"
    }
   },
   "source": [
    "## Instructor:\n",
    "> <strong> *Carlos Alberto Álvarez Henao, I.C. Ph.D.* </strong> "
   ]
  },
  {
   "cell_type": "code",
   "execution_count": 2,
   "metadata": {},
   "outputs": [
    {
     "name": "stdout",
     "output_type": "stream",
     "text": [
      "[1, 2, 3, 4, 5, 6]\n"
     ]
    }
   ],
   "source": [
    "lista1 = [1,2,3]\n",
    "lista2 = [4,5,6]\n",
    "lista3 = lista1 + lista2\n",
    "print(lista3)"
   ]
  },
  {
   "cell_type": "code",
   "execution_count": 3,
   "metadata": {},
   "outputs": [
    {
     "data": {
      "text/plain": [
       "[5, 7, 9]"
      ]
     },
     "execution_count": 3,
     "metadata": {},
     "output_type": "execute_result"
    }
   ],
   "source": [
    "lista4 = []\n",
    "for i in range(3):\n",
    "    lista4.append(lista1[i]+lista2[i])\n",
    "lista4"
   ]
  },
  {
   "cell_type": "markdown",
   "metadata": {
    "slideshow": {
     "slide_type": "slide"
    }
   },
   "source": [
    "## Arrays de `NumPy`"
   ]
  },
  {
   "cell_type": "markdown",
   "metadata": {
    "slideshow": {
     "slide_type": "subslide"
    }
   },
   "source": [
    "### ¿Qué es `NumPy`?\n",
    "\n",
    "- Una biblioteca para `Python`: `ndarray` + `ufunc`\n",
    "\n",
    "- Los arrays multidimensionales (`ndarray`) nos permiten almacenar datos de manera estructurada\n",
    "\n",
    "- Las funciones universales (`ufunc`) nos permiten operar con esos datos de manera eficiente\n",
    "\n",
    "`Python` está organizado en módulos, que son archivos con extensión `*.py` que contienen funciones, variables y otros objetos, y paquetes, que son conjuntos de módulos. \n",
    "\n",
    "\n",
    "Cuando queremos utilizar objetos que están definidos en un módulo tenemos que *importarlo*, y una vez que lo hemos hecho podemos usar el operador \"`.`\" para ir descendiendo en la jerarquía de paquetes y acceder al objeto que necesitamos."
   ]
  },
  {
   "cell_type": "code",
   "execution_count": 8,
   "metadata": {
    "slideshow": {
     "slide_type": "subslide"
    }
   },
   "outputs": [],
   "source": [
    "import numpy as np"
   ]
  },
  {
   "cell_type": "code",
   "execution_count": null,
   "metadata": {
    "slideshow": {
     "slide_type": "fragment"
    }
   },
   "outputs": [],
   "source": [
    "np."
   ]
  },
  {
   "cell_type": "code",
   "execution_count": 6,
   "metadata": {
    "slideshow": {
     "slide_type": "fragment"
    }
   },
   "outputs": [],
   "source": [
    "import math"
   ]
  },
  {
   "cell_type": "code",
   "execution_count": null,
   "metadata": {},
   "outputs": [],
   "source": [
    "math."
   ]
  },
  {
   "cell_type": "code",
   "execution_count": null,
   "metadata": {},
   "outputs": [],
   "source": [
    "np.random."
   ]
  },
  {
   "cell_type": "code",
   "execution_count": 7,
   "metadata": {},
   "outputs": [],
   "source": [
    "from numpy import random"
   ]
  },
  {
   "cell_type": "code",
   "execution_count": null,
   "metadata": {},
   "outputs": [],
   "source": [
    "np.random."
   ]
  },
  {
   "cell_type": "markdown",
   "metadata": {},
   "source": [
    "Y de esta manera accedemos a la función `norm`, que calcula la norma (o módulo) de un array:"
   ]
  },
  {
   "cell_type": "code",
   "execution_count": null,
   "metadata": {},
   "outputs": [],
   "source": [
    "np.linalg."
   ]
  },
  {
   "cell_type": "markdown",
   "metadata": {},
   "source": [
    "La función *norm* está dentro del paquete *linalg*, que a su vez está dentro del paquete NumPy."
   ]
  },
  {
   "cell_type": "code",
   "execution_count": null,
   "metadata": {
    "slideshow": {
     "slide_type": "fragment"
    }
   },
   "outputs": [],
   "source": [
    "import numpy as np"
   ]
  },
  {
   "cell_type": "code",
   "execution_count": null,
   "metadata": {},
   "outputs": [],
   "source": [
    "from numpy import *"
   ]
  },
  {
   "cell_type": "code",
   "execution_count": null,
   "metadata": {},
   "outputs": [],
   "source": [
    "np.randint()"
   ]
  },
  {
   "cell_type": "markdown",
   "metadata": {},
   "source": [
    "Para encontrar ayuda sobre cierto tema podemos usar la función `lookfor`:"
   ]
  },
  {
   "cell_type": "code",
   "execution_count": 11,
   "metadata": {
    "collapsed": true
   },
   "outputs": [
    {
     "name": "stdout",
     "output_type": "stream",
     "text": [
      "Search results for 'random'\n",
      "---------------------------\n",
      "numpy.matlib.rand\n",
      "    Return a matrix of random values with given shape.\n",
      "numpy.matlib.randn\n",
      "    Return a random matrix with data from the \"standard normal\" distribution.\n",
      "numpy.flip\n",
      "    Reverse the order of elements in an array along the given axis.\n",
      "numpy.poly\n",
      "    Find the coefficients of a polynomial with the given sequence of roots.\n",
      "numpy.prod\n",
      "    Return the product of array elements over a given axis.\n",
      "numpy.empty\n",
      "    Return a new array of given shape and type, without initializing entries.\n",
      "numpy.stack\n",
      "    Join a sequence of arrays along a new axis.\n",
      "numpy.fliplr\n",
      "    Flip array in the left/right direction.\n",
      "numpy.flipud\n",
      "    Flip array in the up/down direction.\n",
      "numpy.ndarray\n",
      "    ndarray(shape, dtype=float, buffer=None, offset=0,\n",
      "numpy.convolve\n",
      "    Returns the discrete, linear convolution of two one-dimensional sequences.\n",
      "numpy.histogram\n",
      "    Compute the histogram of a set of data.\n",
      "numpy.empty_like\n",
      "    Return a new array with the same shape and type as a given array.\n",
      "numpy.einsum_path\n",
      "    Evaluates the lowest cost contraction order for an einsum expression by\n",
      "numpy.histogram2d\n",
      "    Compute the bi-dimensional histogram of two data samples.\n",
      "numpy.histogramdd\n",
      "    Compute the multidimensional histogram of some data.\n",
      "numpy.ma.empty\n",
      "    Return a new array of given shape and type, without initializing entries.\n",
      "numpy.ma.stack\n",
      "    Join a sequence of arrays along a new axis.\n",
      "numpy.linalg.qr\n",
      "    Compute the qr factorization of a matrix.\n",
      "numpy.linalg.svd\n",
      "    Singular Value Decomposition.\n",
      "numpy.linalg.pinv\n",
      "    Compute the (Moore-Penrose) pseudo-inverse of a matrix.\n",
      "numpy.savez_compressed\n",
      "    Save several arrays into a single file in compressed ``.npz`` format.\n",
      "numpy.chararray.item\n",
      "    a.item(*args)\n",
      "numpy.matlib.empty\n",
      "    Return a new matrix of given shape and type, without initializing entries.\n",
      "numpy.ma.empty_like\n",
      "    Return a new array with the same shape and type as a given array.\n",
      "numpy.linalg.eigvals\n",
      "    Compute the eigenvalues of a general matrix.\n",
      "numpy.set_string_function\n",
      "    Set a Python function to be used when pretty printing arrays.\n",
      "numpy.chararray.itemset\n",
      "    a.itemset(*args)\n",
      "numpy.linalg.multi_dot\n",
      "    Compute the dot product of two or more arrays in a single function call,\n",
      "numpy.linalg.tensorinv\n",
      "    Compute the 'inverse' of an N-dimensional array.\n",
      "numpy.linalg.tensorsolve\n",
      "    Solve the tensor equation ``a x = b`` for x.\n",
      "numpy.distutils.read_config\n",
      "    Return library info for a package from its configuration file."
     ]
    }
   ],
   "source": [
    "np.lookfor(\"random\")"
   ]
  },
  {
   "cell_type": "markdown",
   "metadata": {},
   "source": [
    "### Constantes y funciones matemáticas"
   ]
  },
  {
   "cell_type": "markdown",
   "metadata": {},
   "source": [
    "Además de arrays, NumPy contiene también constantes y funciones matemáticas de uso cotidiano."
   ]
  },
  {
   "cell_type": "code",
   "execution_count": 12,
   "metadata": {},
   "outputs": [
    {
     "ename": "NameError",
     "evalue": "name 'pi' is not defined",
     "output_type": "error",
     "traceback": [
      "\u001b[0;31m---------------------------------------------------------------------------\u001b[0m",
      "\u001b[0;31mNameError\u001b[0m                                 Traceback (most recent call last)",
      "\u001b[0;32m<ipython-input-12-f84ab820532c>\u001b[0m in \u001b[0;36m<module>\u001b[0;34m\u001b[0m\n\u001b[0;32m----> 1\u001b[0;31m \u001b[0mpi\u001b[0m\u001b[0;34m\u001b[0m\u001b[0;34m\u001b[0m\u001b[0m\n\u001b[0m",
      "\u001b[0;31mNameError\u001b[0m: name 'pi' is not defined"
     ]
    }
   ],
   "source": [
    "pi"
   ]
  },
  {
   "cell_type": "code",
   "execution_count": 13,
   "metadata": {},
   "outputs": [
    {
     "data": {
      "text/plain": [
       "2.718281828459045"
      ]
     },
     "execution_count": 13,
     "metadata": {},
     "output_type": "execute_result"
    }
   ],
   "source": [
    "np.e"
   ]
  },
  {
   "cell_type": "code",
   "execution_count": 14,
   "metadata": {},
   "outputs": [
    {
     "data": {
      "text/plain": [
       "3.141592653589793"
      ]
     },
     "execution_count": 14,
     "metadata": {},
     "output_type": "execute_result"
    }
   ],
   "source": [
    "np.pi"
   ]
  },
  {
   "cell_type": "code",
   "execution_count": 15,
   "metadata": {},
   "outputs": [
    {
     "data": {
      "text/plain": [
       "0.6931471805599453"
      ]
     },
     "execution_count": 15,
     "metadata": {},
     "output_type": "execute_result"
    }
   ],
   "source": [
    "np.log(2)"
   ]
  },
  {
   "cell_type": "code",
   "execution_count": 16,
   "metadata": {},
   "outputs": [
    {
     "name": "stdout",
     "output_type": "stream",
     "text": [
      "[ nan   1.   2. -inf]\n"
     ]
    }
   ],
   "source": [
    "lista = np.log([-10., np.e, np.e**2, 0])\n",
    "print(lista)"
   ]
  },
  {
   "cell_type": "code",
   "execution_count": 18,
   "metadata": {},
   "outputs": [
    {
     "data": {
      "text/plain": [
       "list"
      ]
     },
     "execution_count": 18,
     "metadata": {},
     "output_type": "execute_result"
    }
   ],
   "source": [
    "type(list(lista))"
   ]
  },
  {
   "cell_type": "code",
   "execution_count": 19,
   "metadata": {},
   "outputs": [
    {
     "name": "stdout",
     "output_type": "stream",
     "text": [
      "<class 'list'>\n"
     ]
    }
   ],
   "source": [
    "milista=[1,2,3]\n",
    "print(type(milista))"
   ]
  },
  {
   "cell_type": "code",
   "execution_count": 20,
   "metadata": {},
   "outputs": [
    {
     "name": "stdout",
     "output_type": "stream",
     "text": [
      "[1, 2, 3, 4]\n"
     ]
    },
    {
     "data": {
      "text/plain": [
       "list"
      ]
     },
     "execution_count": 20,
     "metadata": {},
     "output_type": "execute_result"
    }
   ],
   "source": [
    "lista=[1,2,3,4]\n",
    "print(lista)\n",
    "type(lista)"
   ]
  },
  {
   "cell_type": "markdown",
   "metadata": {
    "slideshow": {
     "slide_type": "slide"
    }
   },
   "source": [
    "### ¿Qué es exactamente un array?\n",
    "\n",
    "Un array de `NumPy` es una colección de `N` elementos, igual que una secuencia de `Python` (por ejemplo, una lista). \n",
    "\n",
    "\n",
    "- Tiene las mismas propiedades que una secuencia y alguna más. \n",
    "\n",
    "\n",
    "- Para crear un array, la forma más directa es pasarle una secuencia a la función `np.array`."
   ]
  },
  {
   "cell_type": "code",
   "execution_count": 21,
   "metadata": {},
   "outputs": [],
   "source": [
    "import numpy as np"
   ]
  },
  {
   "cell_type": "code",
   "execution_count": 22,
   "metadata": {},
   "outputs": [
    {
     "name": "stdout",
     "output_type": "stream",
     "text": [
      "[1.0, 2.0, 3.0, 4.0, 5.0, 6]\n",
      "<class 'list'>\n"
     ]
    }
   ],
   "source": [
    "lista1 = [1.,2.,3.]\n",
    "lista2 = [4.,5.,6]\n",
    "lista3 = lista1+lista2\n",
    "print(lista3)\n",
    "print(type(lista3))"
   ]
  },
  {
   "cell_type": "code",
   "execution_count": 23,
   "metadata": {},
   "outputs": [
    {
     "name": "stdout",
     "output_type": "stream",
     "text": [
      "[5.0, 7.0, 9.0]\n"
     ]
    }
   ],
   "source": [
    "lista3 = []\n",
    "for i in range(len(lista2)):\n",
    "    lista3.append(lista1[i]+lista2[i])\n",
    "print(lista3)"
   ]
  },
  {
   "cell_type": "code",
   "execution_count": 30,
   "metadata": {
    "collapsed": true
   },
   "outputs": [
    {
     "ename": "TypeError",
     "evalue": "ufunc 'add' did not contain a loop with signature matching types dtype('<U1') dtype('<U1') dtype('<U1')",
     "output_type": "error",
     "traceback": [
      "\u001b[0;31m---------------------------------------------------------------------------\u001b[0m",
      "\u001b[0;31mTypeError\u001b[0m                                 Traceback (most recent call last)",
      "\u001b[0;32m<ipython-input-30-7301d1e267ec>\u001b[0m in \u001b[0;36m<module>\u001b[0;34m\u001b[0m\n\u001b[1;32m      1\u001b[0m \u001b[0marreglo1\u001b[0m \u001b[0;34m=\u001b[0m \u001b[0mnp\u001b[0m\u001b[0;34m.\u001b[0m\u001b[0marray\u001b[0m\u001b[0;34m(\u001b[0m\u001b[0;34m[\u001b[0m\u001b[0;34m\"1\"\u001b[0m\u001b[0;34m,\u001b[0m\u001b[0;34m\"2\"\u001b[0m\u001b[0;34m,\u001b[0m\u001b[0;34m\"3\"\u001b[0m\u001b[0;34m]\u001b[0m\u001b[0;34m)\u001b[0m\u001b[0;34m\u001b[0m\u001b[0;34m\u001b[0m\u001b[0m\n\u001b[1;32m      2\u001b[0m \u001b[0marreglo2\u001b[0m \u001b[0;34m=\u001b[0m \u001b[0mnp\u001b[0m\u001b[0;34m.\u001b[0m\u001b[0marray\u001b[0m\u001b[0;34m(\u001b[0m\u001b[0;34m[\u001b[0m\u001b[0;34m\"4\"\u001b[0m\u001b[0;34m,\u001b[0m\u001b[0;34m\"5\"\u001b[0m\u001b[0;34m,\u001b[0m\u001b[0;34m\"6\"\u001b[0m\u001b[0;34m]\u001b[0m\u001b[0;34m)\u001b[0m\u001b[0;34m\u001b[0m\u001b[0;34m\u001b[0m\u001b[0m\n\u001b[0;32m----> 3\u001b[0;31m \u001b[0marreglo3\u001b[0m \u001b[0;34m=\u001b[0m \u001b[0marreglo1\u001b[0m \u001b[0;34m+\u001b[0m \u001b[0marreglo2\u001b[0m\u001b[0;34m\u001b[0m\u001b[0;34m\u001b[0m\u001b[0m\n\u001b[0m\u001b[1;32m      4\u001b[0m \u001b[0marreglo3\u001b[0m\u001b[0;34m\u001b[0m\u001b[0;34m\u001b[0m\u001b[0m\n\u001b[1;32m      5\u001b[0m \u001b[0marreglo3\u001b[0m\u001b[0;34m.\u001b[0m\u001b[0mdtype\u001b[0m\u001b[0;34m\u001b[0m\u001b[0;34m\u001b[0m\u001b[0m\n",
      "\u001b[0;31mTypeError\u001b[0m: ufunc 'add' did not contain a loop with signature matching types dtype('<U1') dtype('<U1') dtype('<U1')"
     ]
    }
   ],
   "source": [
    "arreglo1 = np.array([\"1\",\"2\",\"3\"])\n",
    "arreglo2 = np.array([\"4\",\"5\",\"6\"])\n",
    "arreglo3 = arreglo1 + arreglo2\n",
    "arreglo3\n",
    "arreglo3.dtype"
   ]
  },
  {
   "cell_type": "markdown",
   "metadata": {},
   "source": [
    "Los arrays de `NumPy` son *homogéneos*, es decir, todos sus elementos son del mismo tipo. \n",
    "\n",
    "\n",
    "- Si le pasamos a `np.array` una secuencia con objetos de tipos diferentes, promocionará todos al tipo con más información. \n",
    "\n",
    "\n",
    "- Para acceder al tipo del `array`, podemos usar el atributo `dtype`."
   ]
  },
  {
   "cell_type": "code",
   "execution_count": 31,
   "metadata": {},
   "outputs": [
    {
     "name": "stdout",
     "output_type": "stream",
     "text": [
      "[1. 2. 3.]\n",
      "float64\n"
     ]
    }
   ],
   "source": [
    "a = np.array([1, 2., 3])\n",
    "print(a)\n",
    "print(a.dtype)"
   ]
  },
  {
   "cell_type": "code",
   "execution_count": 32,
   "metadata": {},
   "outputs": [
    {
     "data": {
      "text/plain": [
       "array(['1', '2', '3'], dtype='<U21')"
      ]
     },
     "execution_count": 32,
     "metadata": {},
     "output_type": "execute_result"
    }
   ],
   "source": [
    "np.array([1, 2, \"3\"])"
   ]
  },
  {
   "cell_type": "markdown",
   "metadata": {},
   "source": [
    "<div class=\"alert alert-warning\"> **Nota**: Si *NumPy* no entiende el tipo de datos o construimos un array con argumentos incorrectos devolverá un array con *dtype* *object*. Estos arrays rara vez son útiles y su aparición suele ser signo de que algo falla en nuestro programa.</div>"
   ]
  },
  {
   "cell_type": "markdown",
   "metadata": {
    "slideshow": {
     "slide_type": "notes"
    }
   },
   "source": [
    "`NumPy` intentará automáticamente construir un `array` con el tipo adecuado teniendo en cuenta los datos de entrada, aunque nosotros podemos forzarlo."
   ]
  },
  {
   "cell_type": "code",
   "execution_count": 40,
   "metadata": {
    "slideshow": {
     "slide_type": "fragment"
    }
   },
   "outputs": [
    {
     "name": "stdout",
     "output_type": "stream",
     "text": [
      "int64\n",
      "[1 2 3]\n"
     ]
    }
   ],
   "source": [
    "a = np.array([1.,2.,3.],dtype=int)\n",
    "print(a.dtype)\n",
    "print(a)"
   ]
  },
  {
   "cell_type": "code",
   "execution_count": null,
   "metadata": {},
   "outputs": [],
   "source": [
    "np.array([1, 2, 3], dtype=complex)"
   ]
  },
  {
   "cell_type": "markdown",
   "metadata": {},
   "source": [
    "También podemos convertir un array de un tipo a otro utilizando el método `.astype`."
   ]
  },
  {
   "cell_type": "code",
   "execution_count": 41,
   "metadata": {},
   "outputs": [
    {
     "data": {
      "text/plain": [
       "array([1, 2, 3])"
      ]
     },
     "execution_count": 41,
     "metadata": {},
     "output_type": "execute_result"
    }
   ],
   "source": [
    "a"
   ]
  },
  {
   "cell_type": "code",
   "execution_count": 42,
   "metadata": {},
   "outputs": [
    {
     "data": {
      "text/plain": [
       "array([1., 2., 3.])"
      ]
     },
     "execution_count": 42,
     "metadata": {},
     "output_type": "execute_result"
    }
   ],
   "source": [
    "a.astype(float)"
   ]
  },
  {
   "cell_type": "markdown",
   "metadata": {
    "slideshow": {
     "slide_type": "slide"
    }
   },
   "source": [
    "### Motivo: eficiencia\n",
    "\n",
    "* Los CICLOS son costosos\n",
    "* Eliminar bucles: **vectorizar** operaciones\n",
    "* Los bucles se ejecutan en `Python`, las operaciones vectorizadas en `C`\n",
    "* Las operaciones entre arrays de `NumPy` se realizan **elemento a elemento**\n",
    "\n",
    "Ejemplo:\n",
    "\n",
    "$$ a_{ij} = b_{ij} + c_{ij} $$"
   ]
  },
  {
   "cell_type": "code",
   "execution_count": 44,
   "metadata": {},
   "outputs": [],
   "source": [
    "k = 10000\n",
    "N, M = k, k\n",
    "a = np.empty(k*k).reshape(N, M)\n",
    "b = np.random.rand(k*k).reshape(N, M)\n",
    "c = np.random.rand(k*k).reshape(N, M)"
   ]
  },
  {
   "cell_type": "code",
   "execution_count": 45,
   "metadata": {},
   "outputs": [],
   "source": [
    "import time"
   ]
  },
  {
   "cell_type": "code",
   "execution_count": 46,
   "metadata": {},
   "outputs": [
    {
     "name": "stdout",
     "output_type": "stream",
     "text": [
      "el tiempo de solucion fue de:  71.1084349155426\n"
     ]
    }
   ],
   "source": [
    "#%%timeit\n",
    "\n",
    "tin = time.time()\n",
    "for i in range(N):\n",
    "    for j in range(M):\n",
    "        a[i, j] = b[i, j] + c[i, j]\n",
    "tout = time.time()\n",
    "elapsedt = tout - tin\n",
    "print(\"el tiempo de solucion fue de: \", elapsedt)"
   ]
  },
  {
   "cell_type": "code",
   "execution_count": 47,
   "metadata": {},
   "outputs": [
    {
     "name": "stdout",
     "output_type": "stream",
     "text": [
      "el tiempo de solucion fue de:  0.43818235397338867\n"
     ]
    }
   ],
   "source": [
    "#%%timeit\n",
    "tin = time.time()\n",
    "a = b + c\n",
    "tout = time.time()\n",
    "elapsedt = tout - tin\n",
    "print(\"el tiempo de solucion fue de: \", elapsedt)"
   ]
  },
  {
   "cell_type": "markdown",
   "metadata": {},
   "source": [
    "¡1000 veces más rápido! Se hace fundamental **vectorizar** las operaciones y aprovechar al máximo la velocidad de `NumPy`."
   ]
  },
  {
   "cell_type": "markdown",
   "metadata": {},
   "source": [
    "### Indexación de arrays"
   ]
  },
  {
   "cell_type": "markdown",
   "metadata": {},
   "source": [
    "Una de las herramientas más importantes a la hora de trabajar con arrays es el indexado. \n",
    "\n",
    "\n",
    "- Consiste en seleccionar elementos aislados o secciones de un array. \n",
    "\n",
    "\n",
    "- En este curso se verá la indexación básica, pero existen técnicas de indexación avanzada que convierten los arrays en herramientas potentísimas."
   ]
  },
  {
   "cell_type": "code",
   "execution_count": 51,
   "metadata": {},
   "outputs": [
    {
     "name": "stdout",
     "output_type": "stream",
     "text": [
      "[list([1, 2, 3]) list([4, 5, 6]) list([7, 8, 9]) list([10, 11, 12, 13])]\n"
     ]
    }
   ],
   "source": [
    "a = np.array([[1,2,3],[4,5,6],[7,8,9],[10,11,12,13]])\n",
    "print(a)"
   ]
  },
  {
   "cell_type": "code",
   "execution_count": 52,
   "metadata": {},
   "outputs": [
    {
     "name": "stdout",
     "output_type": "stream",
     "text": [
      "[[ 1  2  3  4  5]\n",
      " [ 4  5  6  7  8]\n",
      " [ 7  8  9 10 11]\n",
      " [10 11 12 13 14]\n",
      " [15 16 17 18 19]]\n"
     ]
    }
   ],
   "source": [
    "a = np.array([[1,2,3,4,5],[4,5,6,7,8],[7,8,9,10,11],[10,11,12,13,14],[15,16,17,18,19]])\n",
    "print(a)"
   ]
  },
  {
   "cell_type": "code",
   "execution_count": 53,
   "metadata": {},
   "outputs": [
    {
     "name": "stdout",
     "output_type": "stream",
     "text": [
      "1\n",
      "5\n",
      "9\n",
      "13\n",
      "19\n"
     ]
    }
   ],
   "source": [
    "for i in range(5):\n",
    "    print(a[i,i])"
   ]
  },
  {
   "cell_type": "code",
   "execution_count": 54,
   "metadata": {},
   "outputs": [
    {
     "name": "stdout",
     "output_type": "stream",
     "text": [
      "[[10 11]\n",
      " [13 14]]\n"
     ]
    }
   ],
   "source": [
    "print(a[2:4,3:5])"
   ]
  },
  {
   "cell_type": "markdown",
   "metadata": {},
   "source": [
    "Los índices se indican entre corchetes justo después del array. \n",
    "\n",
    "\n",
    "- Recuerda que en `Python` la indexación empieza en `0`. \n",
    "\n",
    "- Si recuperamos el primer elemento de un array de dos dimensiones, obtenemos la primera fila."
   ]
  },
  {
   "cell_type": "code",
   "execution_count": 55,
   "metadata": {},
   "outputs": [
    {
     "data": {
      "text/plain": [
       "8"
      ]
     },
     "execution_count": 55,
     "metadata": {},
     "output_type": "execute_result"
    }
   ],
   "source": [
    "a[2][1]"
   ]
  },
  {
   "cell_type": "markdown",
   "metadata": {},
   "source": [
    "En vez de usar `a[0][0]` para recuperar el primer elemento de la primera fila, podemos abreviar aún más la sintaxis:"
   ]
  },
  {
   "cell_type": "code",
   "execution_count": 56,
   "metadata": {},
   "outputs": [
    {
     "name": "stdout",
     "output_type": "stream",
     "text": [
      "[[ 1  2  3  4  5]\n",
      " [ 4  5  6  7  8]\n",
      " [ 7  8  9 10 11]\n",
      " [10 11 12 13 14]\n",
      " [15 16 17 18 19]]\n"
     ]
    },
    {
     "data": {
      "text/plain": [
       "8"
      ]
     },
     "execution_count": 56,
     "metadata": {},
     "output_type": "execute_result"
    }
   ],
   "source": [
    "print(a)\n",
    "a[2, 1]"
   ]
  },
  {
   "cell_type": "markdown",
   "metadata": {},
   "source": [
    "No solo podemos recuperar un elemento aislado, sino también porciones del array, utilizando la sintaxis `[<inicio>:<final>:<salto>]`."
   ]
  },
  {
   "cell_type": "code",
   "execution_count": null,
   "metadata": {},
   "outputs": [],
   "source": [
    "print(a)\n",
    "a[1:3, 1:3]"
   ]
  },
  {
   "cell_type": "code",
   "execution_count": null,
   "metadata": {},
   "outputs": [],
   "source": [
    "a[:, 0:1]"
   ]
  },
  {
   "cell_type": "markdown",
   "metadata": {
    "slideshow": {
     "slide_type": "slide"
    }
   },
   "source": [
    "### Creación de arrays\n",
    "\n",
    "Muchos métodos y muy variados\n",
    "\n",
    "- A partir de datos existentes: `array`, `copy`\n",
    "\n",
    "\n",
    "- Unos y ceros: `empty`, `eye`, `ones`, `zeros`, `*_like`\n",
    "\n",
    "\n",
    "- Rangos: `arange`, `linspace`, `logspace`, `meshgrid`\n",
    "\n",
    "\n",
    "- Aleatorios: `rand`, `randn`"
   ]
  },
  {
   "cell_type": "code",
   "execution_count": 58,
   "metadata": {},
   "outputs": [
    {
     "name": "stdout",
     "output_type": "stream",
     "text": [
      "[0.  0.1 0.2 0.3 0.4 0.5 0.6 0.7 0.8 0.9 1. ]\n"
     ]
    }
   ],
   "source": [
    "x = np.linspace(0,1,11)\n",
    "print(x)"
   ]
  },
  {
   "cell_type": "code",
   "execution_count": 61,
   "metadata": {},
   "outputs": [
    {
     "name": "stdout",
     "output_type": "stream",
     "text": [
      "[1.e+00 1.e+01 1.e+02 1.e+03 1.e+04 1.e+05 1.e+06 1.e+07 1.e+08 1.e+09\n",
      " 1.e+10]\n"
     ]
    }
   ],
   "source": [
    "b = np.logspace(0,10,11)\n",
    "print(b)"
   ]
  },
  {
   "cell_type": "markdown",
   "metadata": {
    "slideshow": {
     "slide_type": "slide"
    }
   },
   "source": [
    "### Unos y ceros\n",
    "\n",
    "- `empty(shape)` crea un array con «basura», equivalente a no inicializarlo, ligeramente más rápido que `zeros` o `ones`\n",
    "\n",
    "\n",
    "- `eye(N, M=None, k=0)` crea un array con unos en una diagonal y ceros en el resto\n",
    "\n",
    "\n",
    "- `identity(n)` devuelve la matriz identidad\n",
    "\n",
    "\n",
    "- Las funciones `*_like(a)` construyen arrays con el mismo tamaño que uno dado"
   ]
  },
  {
   "cell_type": "code",
   "execution_count": 63,
   "metadata": {},
   "outputs": [
    {
     "data": {
      "text/plain": [
       "array([[1., 0., 0., 0., 0.],\n",
       "       [0., 1., 0., 0., 0.],\n",
       "       [0., 0., 1., 0., 0.],\n",
       "       [0., 0., 0., 1., 0.],\n",
       "       [0., 0., 0., 0., 1.]])"
      ]
     },
     "execution_count": 63,
     "metadata": {},
     "output_type": "execute_result"
    }
   ],
   "source": [
    "np.identity(5).astype(float)"
   ]
  },
  {
   "cell_type": "code",
   "execution_count": null,
   "metadata": {},
   "outputs": [],
   "source": [
    "_.shape"
   ]
  },
  {
   "cell_type": "markdown",
   "metadata": {},
   "source": [
    "Si la función recibe como argumento `shape`, debemos pasarle el número de filas y columnas como una tupla (es decir, encerrado entre paréntesis)."
   ]
  },
  {
   "cell_type": "code",
   "execution_count": null,
   "metadata": {},
   "outputs": [],
   "source": [
    "np.identity(10)"
   ]
  },
  {
   "cell_type": "markdown",
   "metadata": {},
   "source": [
    "<div class=\"alert alert-warning\">**Nota**: Un error muy típico es tratar de construir un array llamando a la función con dos argumentos, como se ejemplifica en la celda siguiente. Esto produce un error, porque NumPy espera un solo argumento: una tupla con el número de filas y el número de columnas. Es conveniente asegurarse de cuál es el convenio en cada caso porque no siempre hay consistencia interna.</div>"
   ]
  },
  {
   "cell_type": "code",
   "execution_count": 64,
   "metadata": {},
   "outputs": [
    {
     "data": {
      "text/plain": [
       "array([[0., 0., 0., 0.],\n",
       "       [0., 0., 0., 0.],\n",
       "       [0., 0., 0., 0.]])"
      ]
     },
     "execution_count": 64,
     "metadata": {},
     "output_type": "execute_result"
    }
   ],
   "source": [
    "np.zeros((3, 4))"
   ]
  },
  {
   "cell_type": "code",
   "execution_count": 65,
   "metadata": {},
   "outputs": [
    {
     "data": {
      "text/plain": [
       "array([[1., 1., 1., 1.],\n",
       "       [1., 1., 1., 1.],\n",
       "       [1., 1., 1., 1.]])"
      ]
     },
     "execution_count": 65,
     "metadata": {},
     "output_type": "execute_result"
    }
   ],
   "source": [
    "np.ones((3, 4))"
   ]
  },
  {
   "cell_type": "code",
   "execution_count": 66,
   "metadata": {},
   "outputs": [
    {
     "name": "stdout",
     "output_type": "stream",
     "text": [
      "[[1. 1. 1. 1. 1. 1. 1. 1. 1. 1.]\n",
      " [1. 2. 0. 0. 0. 0. 0. 0. 0. 0.]\n",
      " [1. 1. 0. 0. 0. 0. 0. 0. 0. 0.]\n",
      " [1. 1. 0. 0. 0. 0. 0. 0. 0. 0.]\n",
      " [1. 1. 0. 0. 0. 0. 0. 0. 0. 0.]\n",
      " [1. 1. 0. 0. 0. 2. 0. 0. 0. 0.]\n",
      " [1. 1. 0. 0. 0. 0. 2. 0. 0. 0.]\n",
      " [1. 1. 0. 0. 0. 0. 0. 2. 0. 0.]\n",
      " [1. 1. 0. 0. 0. 0. 0. 0. 2. 0.]\n",
      " [1. 1. 1. 1. 1. 1. 1. 1. 1. 1.]]\n"
     ]
    }
   ],
   "source": [
    "n = 10\n",
    "a = np.ones((n,n))\n",
    "\n",
    "for i in range(1,n-1):\n",
    "    for j in range(1,n-1):\n",
    "        a[i,-j] = 0\n",
    "        if i==j:\n",
    "            a[i,j] = 2\n",
    "print(a)\n"
   ]
  },
  {
   "cell_type": "code",
   "execution_count": null,
   "metadata": {},
   "outputs": [],
   "source": [
    "i3 = np.identity(3)\n",
    "i3"
   ]
  },
  {
   "cell_type": "code",
   "execution_count": null,
   "metadata": {},
   "outputs": [],
   "source": [
    "i3.shape"
   ]
  },
  {
   "cell_type": "code",
   "execution_count": null,
   "metadata": {},
   "outputs": [],
   "source": [
    "np.ones(i3.shape)"
   ]
  },
  {
   "cell_type": "markdown",
   "metadata": {},
   "source": [
    "Si en lugar de pasar directamente la forma del array ya sabemos que queremos crear un array con la misma forma que otro, podemos usar las funciones `*_like`, que reciben un array en vez de una tupla."
   ]
  },
  {
   "cell_type": "code",
   "execution_count": null,
   "metadata": {},
   "outputs": [],
   "source": [
    "np.ones_like(i3)"
   ]
  },
  {
   "cell_type": "markdown",
   "metadata": {
    "slideshow": {
     "slide_type": "slide"
    }
   },
   "source": [
    "### Rangos\n",
    "\n",
    "- `linspace(start, stop, num=50)` devuelve números equiespaciados dentro de un intervalo\n",
    "\n",
    "\n",
    "- `logspace(start, stop, num=50, base=10.0)` devuelve números equiespaciados según una escala logarítmica\n",
    "\n",
    "\n",
    "- `meshgrid(x1, x2, ...)` devuelve matrices de n-coordenadas"
   ]
  },
  {
   "cell_type": "code",
   "execution_count": null,
   "metadata": {},
   "outputs": [],
   "source": [
    "np.linspace(0, 1, num=11)"
   ]
  },
  {
   "cell_type": "code",
   "execution_count": null,
   "metadata": {},
   "outputs": [],
   "source": [
    "np.logspace(0, 3)"
   ]
  },
  {
   "cell_type": "markdown",
   "metadata": {},
   "source": [
    "La función `np.meshgrid` se utiliza mucho a la hora de representar funciones en dos dimensiones, y crea dos arrays: uno varía por filas y otro por columnas. Combinándolos, podemos evaluar la función en un cuadrado."
   ]
  },
  {
   "cell_type": "code",
   "execution_count": null,
   "metadata": {},
   "outputs": [],
   "source": [
    "x = np.linspace(0, 1, num=5)\n",
    "y = np.linspace(0, 1, num=5)\n",
    "\n",
    "xx, yy = np.meshgrid(x, y)"
   ]
  },
  {
   "cell_type": "code",
   "execution_count": null,
   "metadata": {},
   "outputs": [],
   "source": [
    "xx, yy"
   ]
  },
  {
   "cell_type": "code",
   "execution_count": null,
   "metadata": {},
   "outputs": [],
   "source": [
    "xx + 1j * yy"
   ]
  },
  {
   "cell_type": "markdown",
   "metadata": {
    "slideshow": {
     "slide_type": "slide"
    }
   },
   "source": [
    "### Operaciones con arrays\n",
    "\n",
    "Las **funciones universales** (`ufunc`) operan sobre arrays de NumPy elemento a elemento y siguiendo las reglas de _broadcasting_.\n",
    "\n",
    "- Funciones matemáticas: `sin`, `cos`, `sqrt`, `exp`, ...\n",
    "\n",
    "\n",
    "- Operaciones lógicas: `<`, `~`, ...\n",
    "\n",
    "\n",
    "- Funciones lógicas: `all`, `any`, `isnan`, `allclose`, ..."
   ]
  },
  {
   "cell_type": "markdown",
   "metadata": {
    "slideshow": {
     "slide_type": "fragment"
    }
   },
   "source": [
    "**Nota**: Las funciones matemáticas siempre devuelven el mismo tipo de datos de entrada"
   ]
  },
  {
   "cell_type": "code",
   "execution_count": null,
   "metadata": {},
   "outputs": [],
   "source": [
    "a = np.arange(2 * 3).reshape(2, 3)\n",
    "a"
   ]
  },
  {
   "cell_type": "code",
   "execution_count": null,
   "metadata": {},
   "outputs": [],
   "source": [
    "np.sqrt(a)"
   ]
  },
  {
   "cell_type": "code",
   "execution_count": null,
   "metadata": {},
   "outputs": [],
   "source": [
    "np.sqrt(np.arange(-3, 3))"
   ]
  },
  {
   "cell_type": "code",
   "execution_count": null,
   "metadata": {},
   "outputs": [],
   "source": [
    "np.arange(-3, 3).astype(complex)"
   ]
  },
  {
   "cell_type": "code",
   "execution_count": null,
   "metadata": {},
   "outputs": [],
   "source": [
    "np.sqrt(_)"
   ]
  },
  {
   "cell_type": "markdown",
   "metadata": {
    "slideshow": {
     "slide_type": "slide"
    }
   },
   "source": [
    "### Funciones de comparación\n",
    "\n",
    "Las comparaciones devuelven un array de booleanos:"
   ]
  },
  {
   "cell_type": "code",
   "execution_count": null,
   "metadata": {},
   "outputs": [],
   "source": [
    "1 == 1"
   ]
  },
  {
   "cell_type": "code",
   "execution_count": null,
   "metadata": {},
   "outputs": [],
   "source": [
    "a = np.arange(6)\n",
    "b = np.ones(6).astype(int)\n",
    "a, b"
   ]
  },
  {
   "cell_type": "code",
   "execution_count": null,
   "metadata": {},
   "outputs": [],
   "source": [
    "a < b"
   ]
  },
  {
   "cell_type": "code",
   "execution_count": null,
   "metadata": {},
   "outputs": [],
   "source": [
    "np.any(a < b)"
   ]
  },
  {
   "cell_type": "code",
   "execution_count": null,
   "metadata": {},
   "outputs": [],
   "source": [
    "np.all(a < b)"
   ]
  },
  {
   "cell_type": "code",
   "execution_count": null,
   "metadata": {},
   "outputs": [],
   "source": [
    "a = np.arange(6).astype(float)\n",
    "b = np.ones(6)\n",
    "a, b"
   ]
  },
  {
   "cell_type": "markdown",
   "metadata": {},
   "source": [
    "Las funciones `isclose` y `allclose` realizan comparaciones entre arrays especificando una tolerancia:"
   ]
  },
  {
   "cell_type": "code",
   "execution_count": null,
   "metadata": {},
   "outputs": [],
   "source": [
    "a = 1.0000010003\n",
    "b = 1.0000012345"
   ]
  },
  {
   "cell_type": "code",
   "execution_count": null,
   "metadata": {},
   "outputs": [],
   "source": [
    "np.isclose(a, b, rtol=1e-7)"
   ]
  },
  {
   "cell_type": "code",
   "execution_count": null,
   "metadata": {},
   "outputs": [],
   "source": [
    "np.allclose(a, b, rtol=1e-6)"
   ]
  },
  {
   "cell_type": "markdown",
   "metadata": {},
   "source": [
    "**¡Importante!** Ni en Python ni en ningún otro lenguaje debemos hacer comparaciones exactas entre números de punto flotante. Las operaciones matemáticas con estos números producen casi siempre resultados poco intuitivos y hay que tener cuidado con ellas. Para una introducción a estas peculiaridades existe la [web](http://puntoflotante.org/)"
   ]
  },
  {
   "cell_type": "code",
   "execution_count": null,
   "metadata": {},
   "outputs": [],
   "source": [
    "0.1 + 0.2 + 0.3"
   ]
  },
  {
   "cell_type": "code",
   "execution_count": null,
   "metadata": {},
   "outputs": [],
   "source": [
    "0.3 + 0.2 + 0.1"
   ]
  },
  {
   "cell_type": "code",
   "execution_count": null,
   "metadata": {},
   "outputs": [],
   "source": [
    "0.1 + 0.2 + 0.3 == 0.3 + 0.2 + 0.1"
   ]
  },
  {
   "cell_type": "markdown",
   "metadata": {
    "slideshow": {
     "slide_type": "slide"
    }
   },
   "source": [
    "## Ejercicios"
   ]
  },
  {
   "cell_type": "markdown",
   "metadata": {
    "slideshow": {
     "slide_type": "slide"
    }
   },
   "source": [
    "### Ejercicio 1.\n",
    "\n",
    "1. Crear un array `z1` 3x4 lleno de ceros de tipo entero.\n",
    "2. Crear un array `z2` 3x4 lleno de ceros salvo la primera fila que serán todo unos.\n",
    "3. Crear un array `z3` 3x4 lleno de ceros salvo la última fila que será el rango entre 5 y 8."
   ]
  },
  {
   "cell_type": "code",
   "execution_count": null,
   "metadata": {},
   "outputs": [],
   "source": [
    "a = np.zeros((3, 4))\n",
    "a"
   ]
  },
  {
   "cell_type": "code",
   "execution_count": null,
   "metadata": {},
   "outputs": [],
   "source": [
    "a[0, :] = 1\n",
    "a"
   ]
  },
  {
   "cell_type": "code",
   "execution_count": null,
   "metadata": {},
   "outputs": [],
   "source": [
    "b = np.zeros((3, 4))\n",
    "b[-1] = np.arange(5, 9)\n",
    "b"
   ]
  },
  {
   "cell_type": "markdown",
   "metadata": {
    "slideshow": {
     "slide_type": "slide"
    }
   },
   "source": [
    "### Ejercicio 2.\n",
    "\n",
    "1. Crea un vector de 10 elementos, siendo los impares unos y los pares doses.\n",
    "2. Crea un «tablero de ajedrez», con unos en las casillas negras y ceros en las blancas."
   ]
  },
  {
   "cell_type": "code",
   "execution_count": null,
   "metadata": {},
   "outputs": [],
   "source": [
    "v = np.ones(10)\n",
    "v"
   ]
  },
  {
   "cell_type": "code",
   "execution_count": null,
   "metadata": {},
   "outputs": [],
   "source": [
    "v[::2] = 2\n",
    "v"
   ]
  },
  {
   "cell_type": "code",
   "execution_count": null,
   "metadata": {},
   "outputs": [],
   "source": [
    "tablero = np.zeros((8, 8))\n",
    "tablero"
   ]
  },
  {
   "cell_type": "code",
   "execution_count": null,
   "metadata": {},
   "outputs": [],
   "source": [
    "tablero[1::2, ::2] = 1\n",
    "tablero[::2, 1::2] = 1\n",
    "tablero"
   ]
  },
  {
   "cell_type": "markdown",
   "metadata": {
    "slideshow": {
     "slide_type": "slide"
    }
   },
   "source": [
    "### Ejercicio 3.\n",
    "\n",
    "1. Crea una matriz aleatoria 5x5 y halla los valores mínimo y máximo.\n",
    "2. Normaliza esa matriz entre 0 y 1."
   ]
  },
  {
   "cell_type": "markdown",
   "metadata": {
    "slideshow": {
     "slide_type": "slide"
    }
   },
   "source": [
    "## Bibliografía\n",
    "\n",
    "* Documentación de NumPy http://docs.scipy.org/doc/numpy\n",
    "* Travis Oliphant, \"Guide to NumPy\" http://csc.ucdavis.edu/~chaos/courses/nlp/Software/NumPyBook.pdf\n",
    "* SciPy Lecture Notes http://scipy-lectures.github.io\n",
    "* Nicolas Rougier, \"100 NumPy exercises\" http://www.loria.fr/~rougier/teaching/numpy.100/index.html"
   ]
  }
 ],
 "metadata": {
  "anaconda-cloud": {},
  "kernelspec": {
   "display_name": "Python 3",
   "language": "python",
   "name": "python3"
  },
  "language_info": {
   "codemirror_mode": {
    "name": "ipython",
    "version": 3
   },
   "file_extension": ".py",
   "mimetype": "text/x-python",
   "name": "python",
   "nbconvert_exporter": "python",
   "pygments_lexer": "ipython3",
   "version": "3.6.8"
  },
  "latex_envs": {
   "LaTeX_envs_menu_present": true,
   "autocomplete": true,
   "bibliofile": "biblio.bib",
   "cite_by": "apalike",
   "current_citInitial": 1,
   "eqLabelWithNumbers": true,
   "eqNumInitial": 1,
   "hotkeys": {
    "equation": "Ctrl-E",
    "itemize": "Ctrl-I"
   },
   "labels_anchors": false,
   "latex_user_defs": false,
   "report_style_numbering": true,
   "user_envs_cfg": true
  }
 },
 "nbformat": 4,
 "nbformat_minor": 1
}
