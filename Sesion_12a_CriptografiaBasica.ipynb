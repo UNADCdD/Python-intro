{
 "cells": [
  {
   "cell_type": "markdown",
   "metadata": {},
   "source": [
    "<h1 align=\"center\">Curso Introducción a Python</h1>\n",
    "\n",
    "<h2 align=\"center\">Universidad EAFIT - Bancolombia</h2>\n",
    "\n",
    "<h3 align=\"center\">MEDELLÍN - COLOMBIA </h3>"
   ]
  },
  {
   "cell_type": "markdown",
   "metadata": {},
   "source": [
    "<h2 align=\"center\">Sesión 12a - Ejemplos de Criptografía Básica usando Python</h2>"
   ]
  },
  {
   "cell_type": "markdown",
   "metadata": {},
   "source": [
    "## Instructor:\n",
    "> <strong> *Carlos Alberto Álvarez Henao, I.C. Ph.D.* </strong> "
   ]
  },
  {
   "cell_type": "markdown",
   "metadata": {},
   "source": [
    "**Nota aclaratoria:** Este capítulo no pretende ser un tratado sobre criptografía, en lo más mínimo. Solo se tomará el tema como ejemplo para presentar algunas capacidades de Python para manipular estructuras de datos más complejas y con una aplicación \"práctica\"."
   ]
  },
  {
   "cell_type": "markdown",
   "metadata": {},
   "source": [
    "# Criptografía\n",
    "\n",
    "\n",
    "\"La criptografía (del griego κρύπτos (kryptós), «oculto», y γραφή (graphé), «grafo» o «escritura», literalmente «escritura oculta») se ha definido, tradicionalmente, como el ámbito de la criptología que se ocupa de las técnicas de cifrado o codificado destinadas a alterar las representaciones lingüísticas de ciertos mensajes con el fin de hacerlos ininteligibles a receptores no autorizados. Estas técnicas se utilizan tanto en el arte como en la ciencia y en la tecnología. Por tanto, el único objetivo de la criptografía era conseguir la confidencialidad de los mensajes, para lo cual se diseñaban sistemas de cifrado y códigos, y la única criptografía existente era la llamada criptografía clásica.[cita requerida]\n",
    "\n",
    "La aparición de la informática y el uso masivo de las comunicaciones digitales, han producido un número creciente de problemas de seguridad. Las transacciones que se realizan a través de la red pueden ser interceptadas, y por tanto, la seguridad de esta información debe garantizarse. Este desafío ha generalizado los objetivos de la criptografía para ser la parte de la criptología que se encarga del estudio de los algoritmos, protocolos (se les llama protocolos criptográficos), y sistemas que se utilizan para proteger la información y dotar de seguridad a las comunicaciones y a las entidades que se comunican.\n",
    "\n",
    "Para ello los criptógrafos investigan, desarrollan y aprovechan técnicas matemáticas que les sirven como herramientas para conseguir sus objetivos. Los grandes avances producidos en el mundo de la criptografía, han sido posibles gracias a la evolución que se han producido en el campo de la matemática y la informática.\"\n",
    "\n",
    "Recuperado de [Wikipedia](https://es.wikipedia.org/wiki/Criptograf%C3%ADa \"Criptografía\")"
   ]
  },
  {
   "cell_type": "markdown",
   "metadata": {},
   "source": [
    "## Cifrado\n",
    "\n",
    "\"En criptografía, el cifrado es un procedimiento que utiliza un algoritmo de cifrado con cierta clave (clave de cifrado) para transformar un mensaje, sin atender a su estructura lingüística o significado, de tal forma que sea incomprensible o, al menos, difícil de comprender a toda persona que no tenga la clave secreta (clave de descifrado) del algoritmo. Las claves de cifrado y de descifrado pueden ser iguales (criptografía simétrica), distintas (criptografía asimétrica) o de ambos tipos (criptografía híbrida).\n",
    "\n",
    "El juego de caracteres (alfabeto) usado en el mensaje sin cifrar puede no ser el mismo que el juego de caracteres que se usa en el mensaje cifrado.\n",
    "\n",
    "A veces el texto cifrado se escribe en bloques de igual longitud. A estos bloques se les denomina grupos. Estos grupos proporcionaban una forma de verificación adicional, ya que el texto cifrado obtenido debía tener un número entero de grupos. Si al cifrar el texto plano no se tiene ese número entero de grupos, entonces se suele rellenar al final con ceros o con caracteres sin sentido.\n",
    "\n",
    "Aunque el cifrado pueda volver secreto el contenido de un documento, es necesario complementarlo con otras técnicas criptográficas para poder comunicarse de manera segura. Puede ser necesario garantizar la integridad la autenticación de las partes, etcétera.\"\n",
    "\n",
    "Recuperado de [Wikipedia](https://es.wikipedia.org/wiki/Cifrado_(criptograf%C3%ADa) \"Cifrado\")"
   ]
  },
  {
   "cell_type": "markdown",
   "metadata": {},
   "source": [
    "## Uso de Diccionarios para cifrar/descifrar mensajes\n",
    "\n",
    "Veamos un primer ejemplo muy básico del uso de diccionarios para cifrar y descifrar un mensaje"
   ]
  },
  {
   "cell_type": "code",
   "execution_count": null,
   "metadata": {},
   "outputs": [],
   "source": [
    "import numpy as np\n",
    "\n",
    "# genera los elementos que serán las claves en el diccionario\n",
    "letras = \"ABCDEFGHIJKLMÑNOPQRSTUVWXYZabcdefghijklmnñopqrstuvwxyz_!.:\\\",;+*-#$%&=/¿?ÁÉÍÓÚáéíóú0123456789 \"\n",
    "\n",
    "# genera los elementos que serán los valores en el diccionario\n",
    "numeros = [x for x in range(len(letras))]\n",
    "\n",
    "# genera el diccionario con la clave \"letras\" y el valor \"numeros\"\n",
    "diccionario = dict(zip(letras,numeros))\n",
    "\n",
    "# Mensaje a \"encriptar\"\n",
    "mensaje = input(\"Ingrese el mensaje a encriptar: \")\n",
    "\n",
    "# Se crea una lista con el mensaje encriptado\n",
    "encriptado = [diccionario.get(i) for i in mensaje]\n",
    "\n",
    "# se imprime (\"envia\") el mensaje encriptado\n",
    "print(\"mensaje encriptado: \",encriptado)\n",
    "\n",
    "# se \"recibe\" y se desencripta el mensaje encriptado enviado:\n",
    "\n",
    "mensaje = ''\n",
    "for valor in encriptado:\n",
    "    k = list(diccionario.keys())[list(diccionario.values()).index(valor)]\n",
    "    mensaje += k\n",
    "\n",
    "print(\"mensaje desencriptado: \",mensaje)"
   ]
  },
  {
   "cell_type": "markdown",
   "metadata": {},
   "source": [
    "### Cifrado César\n",
    "\n",
    "\"En criptografía, el cifrado César, también conocido como cifrado por desplazamiento, código de César o desplazamiento de César, es una de las técnicas de cifrado más simples y más usadas. Es un tipo de cifrado por sustitución en el que una letra en el texto original es reemplazada por otra letra que se encuentra un número fijo de posiciones más adelante en el alfabeto. Por ejemplo, con un desplazamiento de 3, la A sería sustituida por la D (situada 3 lugares a la derecha de la A), la B sería reemplazada por la E, etc. Este método debe su nombre a Julio César, que lo usaba para comunicarse con sus generales.\n",
    "\n",
    "El cifrado César muchas veces puede formar parte de sistemas más complejos de codificación, como el cifrado Vigenère, e incluso tiene aplicación en el sistema ROT13. Como todos los cifrados de sustitución alfabética simple, el cifrado César se descifra con facilidad y en la práctica no ofrece mucha seguridad en la comunicación.\"\n",
    "\n",
    "Recuperado de [Wikipedia](https://es.wikipedia.org/wiki/Cifrado_C%C3%A9sar \"Cifrado César\")"
   ]
  },
  {
   "cell_type": "code",
   "execution_count": 1,
   "metadata": {},
   "outputs": [],
   "source": [
    "def cifrar(texto,llave):\n",
    "        cif = \"\"\n",
    "        size = len(llave)\n",
    "        for index,val in enumerate(texto):\n",
    "            c = ord(val) ^ ord(llave[index % size])\n",
    "            print(hex(c))\n",
    "            cif += str(hex(c))\n",
    "        return cif"
   ]
  },
  {
   "cell_type": "code",
   "execution_count": 2,
   "metadata": {},
   "outputs": [],
   "source": [
    "def descifrar(ctexto,llave):\n",
    "    texto = \"\"\n",
    "    size = len(llave)\n",
    "    ctexto.remove(\"\")\n",
    "    for index,val in enumerate(ctexto):\n",
    "        c = int(\"0x\"+val,16) ^ ord(llave[index % size])\n",
    "        texto += str(chr(c))\n",
    "    return texto"
   ]
  },
  {
   "cell_type": "code",
   "execution_count": 3,
   "metadata": {},
   "outputs": [
    {
     "name": "stdout",
     "output_type": "stream",
     "text": [
      "Ingrese el texto a cifrar: Mi mamá me mima, mimo a mi mamá\n"
     ]
    }
   ],
   "source": [
    "texto = input(\"Ingrese el texto a cifrar: \")"
   ]
  },
  {
   "cell_type": "code",
   "execution_count": 4,
   "metadata": {},
   "outputs": [
    {
     "name": "stdout",
     "output_type": "stream",
     "text": [
      "Ingrese la llave para el cifrado: Alpha8370!\n"
     ]
    }
   ],
   "source": [
    "key = input(\"Ingrese la llave para el cifrado: \")"
   ]
  },
  {
   "cell_type": "code",
   "execution_count": 5,
   "metadata": {
    "collapsed": true
   },
   "outputs": [
    {
     "name": "stdout",
     "output_type": "stream",
     "text": [
      "0xc\n",
      "0x5\n",
      "0x50\n",
      "0x5\n",
      "0x0\n",
      "0x55\n",
      "0xd2\n",
      "0x17\n",
      "0x5d\n",
      "0x44\n",
      "0x61\n",
      "0x1\n",
      "0x19\n",
      "0x5\n",
      "0x0\n",
      "0x14\n",
      "0x13\n",
      "0x5a\n",
      "0x59\n",
      "0x4c\n",
      "0x2e\n",
      "0x4c\n",
      "0x11\n",
      "0x48\n",
      "0xc\n",
      "0x51\n",
      "0x13\n",
      "0x5a\n",
      "0x51\n",
      "0x4c\n",
      "0xa0\n"
     ]
    }
   ],
   "source": [
    "texto_cif = cifrar(texto,key)\n",
    "f = open(\"cifrado.txt\",\"w\")\n",
    "f.write(texto_cif)\n",
    "f.close()"
   ]
  },
  {
   "cell_type": "markdown",
   "metadata": {},
   "source": [
    "Ahora vamos a descifrar el texto cifrado..."
   ]
  },
  {
   "cell_type": "code",
   "execution_count": 6,
   "metadata": {},
   "outputs": [
    {
     "name": "stdout",
     "output_type": "stream",
     "text": [
      "Ingrese la llave: Alpha8370!\n"
     ]
    }
   ],
   "source": [
    "key = input(\"Ingrese la llave: \")"
   ]
  },
  {
   "cell_type": "code",
   "execution_count": 7,
   "metadata": {},
   "outputs": [
    {
     "name": "stdout",
     "output_type": "stream",
     "text": [
      "['', 'c', '5', '50', '5', '0', '55', 'd2', '17', '5d', '44', '61', '1', '19', '5', '0', '14', '13', '5a', '59', '4c', '2e', '4c', '11', '48', 'c', '51', '13', '5a', '51', '4c', 'a0']\n",
      "texto descifrado:  Mi mamá me mima, mimo a mi mamá\n"
     ]
    }
   ],
   "source": [
    "f = open(\"cifrado.txt\",\"r\")\n",
    "ctexto = f.read().split(\"0x\")\n",
    "print(ctexto)\n",
    "texto_desc = descifrar(ctexto,key)\n",
    "print(\"texto descifrado: \", texto_desc)"
   ]
  },
  {
   "cell_type": "code",
   "execution_count": null,
   "metadata": {},
   "outputs": [],
   "source": []
  }
 ],
 "metadata": {
  "kernelspec": {
   "display_name": "Python 3",
   "language": "python",
   "name": "python3"
  },
  "language_info": {
   "codemirror_mode": {
    "name": "ipython",
    "version": 3
   },
   "file_extension": ".py",
   "mimetype": "text/x-python",
   "name": "python",
   "nbconvert_exporter": "python",
   "pygments_lexer": "ipython3",
   "version": "3.7.3"
  }
 },
 "nbformat": 4,
 "nbformat_minor": 2
}
