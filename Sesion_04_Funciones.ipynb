{
 "cells": [
  {
   "cell_type": "markdown",
   "metadata": {},
   "source": [
    "<h1 align=\"center\">Curso Introducción a Python</h1>\n",
    "\n",
    "<h2 align=\"center\">Universidad EAFIT - Bancolombia</h2>\n",
    "\n",
    "<h3 align=\"center\">MEDELLÍN - COLOMBIA </h3>"
   ]
  },
  {
   "cell_type": "markdown",
   "metadata": {},
   "source": [
    "<h2 align=\"center\">Sesión 04 - Funciones</h2>    "
   ]
  },
  {
   "cell_type": "markdown",
   "metadata": {},
   "source": [
    "## Funciones"
   ]
  },
  {
   "cell_type": "markdown",
   "metadata": {},
   "source": [
    "***Función:*** Fragmento de código con un nombre asociado que realiza una serie de tareas y devuelve un valor. \n",
    "\n",
    "\n",
    "***Procedimientos:*** Fragmento de código que tienen un nombre asociado y no devuelven valores (scripts). \n",
    "\n",
    "\n",
    "- En *Python* no existen los procedimientos, ya que cuando el programador no especifica un valor de retorno la función devuelve el valor `None` (nada), equivalente al null de Java.\n",
    "\n",
    "\n",
    "- Además de ayudarnos a programar y depurar dividiendo el programa en partes las funciones también permiten reutilizar código.\n",
    "\n",
    "\n",
    "- En *Python* las funciones se declaran de la siguiente forma:"
   ]
  },
  {
   "cell_type": "raw",
   "metadata": {},
   "source": [
    "def mi_funcion(param1, param2):\n",
    "    print param1\n",
    "    print param2"
   ]
  },
  {
   "cell_type": "markdown",
   "metadata": {},
   "source": [
    "- También podemos encontrarnos con una cadena de texto como primera línea del cuerpo de la función. \n",
    "\n",
    "\n",
    "- Estas cadenas se conocen con el nombre de `docstring` (cadena de documentación) y sirven, como su nombre indica, a modo de documentación de la función.\n",
    "\n",
    "\n",
    "Una función puede no tener parámetros:"
   ]
  },
  {
   "cell_type": "code",
   "execution_count": null,
   "metadata": {},
   "outputs": [],
   "source": [
    "def fbienvenida():\n",
    "    print(\"Hola Mundo\")"
   ]
  },
  {
   "cell_type": "code",
   "execution_count": null,
   "metadata": {},
   "outputs": [],
   "source": [
    "fbienvenida()"
   ]
  },
  {
   "cell_type": "markdown",
   "metadata": {},
   "source": [
    "O tener uno, dos, o más parámetros..."
   ]
  },
  {
   "cell_type": "code",
   "execution_count": null,
   "metadata": {},
   "outputs": [],
   "source": [
    "def mi_funcion1(param1, param2):\n",
    "    \"\"\"Esta función también imprime únicamente los valores de los parámetros\n",
    "    requiere de dos parámetros\n",
    "    Inputs:\n",
    "    param1: puede ser cualquier vaina\n",
    "    param2: también\n",
    "    \n",
    "    Outputs:\n",
    "    \n",
    "    \"\"\"\n",
    "    print('{0} {1}'.format(param1,param2))\n",
    "    "
   ]
  },
  {
   "cell_type": "code",
   "execution_count": null,
   "metadata": {},
   "outputs": [],
   "source": [
    "mi_funcion1?"
   ]
  },
  {
   "cell_type": "markdown",
   "metadata": {},
   "source": [
    "Para llamar a la función (ejecutar su código) se escribiría:"
   ]
  },
  {
   "cell_type": "code",
   "execution_count": null,
   "metadata": {},
   "outputs": [],
   "source": [
    "mi_funcion1(1,2)"
   ]
  },
  {
   "cell_type": "markdown",
   "metadata": {},
   "source": [
    "También es posible modificar el orden de los parámetros si indicamos el nombre del parámetro al que asociar el valor a la hora de llamar a la función:"
   ]
  },
  {
   "cell_type": "code",
   "execution_count": null,
   "metadata": {},
   "outputs": [],
   "source": [
    "mi_funcion1(param2 = 2, param1 = 1)"
   ]
  },
  {
   "cell_type": "markdown",
   "metadata": {},
   "source": [
    "### Número Arbitrario de Parámetros"
   ]
  },
  {
   "cell_type": "markdown",
   "metadata": {},
   "source": [
    "- Existen situaciones en las que el número exacto de parámetros no pueden determinarse a-priori.\n",
    "\n",
    "\n",
    "- Para definir funciones con un número variable de argumentos colocamos un último parámetro para la función cuyo nombre debe precederse de un signo `*` (asterisco):"
   ]
  },
  {
   "cell_type": "code",
   "execution_count": null,
   "metadata": {},
   "outputs": [],
   "source": [
    "def varios(param1, param2, *opcionales):\n",
    "    print(param1)\n",
    "    print(param2)\n",
    "    "
   ]
  },
  {
   "cell_type": "code",
   "execution_count": null,
   "metadata": {},
   "outputs": [],
   "source": [
    "varios(1,2,3)"
   ]
  },
  {
   "cell_type": "code",
   "execution_count": null,
   "metadata": {},
   "outputs": [],
   "source": [
    "varios(1,2,3)"
   ]
  },
  {
   "cell_type": "code",
   "execution_count": null,
   "metadata": {},
   "outputs": [],
   "source": [
    "varios(1,2,3,4)"
   ]
  },
  {
   "cell_type": "code",
   "execution_count": null,
   "metadata": {},
   "outputs": [],
   "source": [
    "varios(1,2,3,4,5,6,7,8,9)"
   ]
  },
  {
   "cell_type": "markdown",
   "metadata": {},
   "source": [
    "Miremos el siguiente ejemplo:"
   ]
  },
  {
   "cell_type": "code",
   "execution_count": null,
   "metadata": {},
   "outputs": [],
   "source": [
    "def media_aritmetica(*valores):\n",
    "    \"\"\" Esta función calcula la media aritmética de un número arbitrario de valores numéricos \"\"\"\n",
    "    print(float(sum(valores)) / len(valores))"
   ]
  },
  {
   "cell_type": "code",
   "execution_count": null,
   "metadata": {},
   "outputs": [],
   "source": [
    "media_aritmetica(45,32,89,78)\n",
    "\n",
    "media_aritmetica(8989.8,78787.78,3453,78778.73)\n",
    "media_aritmetica(45,32)\n",
    "media_aritmetica(45)"
   ]
  },
  {
   "cell_type": "code",
   "execution_count": null,
   "metadata": {},
   "outputs": [],
   "source": [
    "x = [3, 5, 9, 13, 12, 5, 67, 98]"
   ]
  },
  {
   "cell_type": "code",
   "execution_count": null,
   "metadata": {},
   "outputs": [],
   "source": [
    "media_aritmetica(*x)"
   ]
  },
  {
   "cell_type": "code",
   "execution_count": null,
   "metadata": {},
   "outputs": [],
   "source": [
    "media_aritmetica(3, 4, 5)"
   ]
  },
  {
   "cell_type": "code",
   "execution_count": null,
   "metadata": {},
   "outputs": [],
   "source": [
    "media_aritmetica(*x)"
   ]
  },
  {
   "cell_type": "markdown",
   "metadata": {},
   "source": [
    "Los parámetros que una función espera, serán utilizados por ésta, dentro de su algoritmo, a modo de variables de ámbito local. Es decir, que los parámetros serán variables locales, a las cuáles solo la función podrá acceder:\n",
    "\n",
    "\n",
    "*Python* al pasar una variable como argumento de una función estas se pasan por referencia o por valor? \n",
    "\n",
    "- ***Por referencia:*** Lo que se pasa como argumento es una referencia o puntero a la variable, es decir, la dirección de memoria en la que se encuentra el contenido de la variable, y no el contenido en si. \n",
    "\n",
    "\n",
    "- ***Por valor:*** Por el contrario, lo que se pasa como argumento es el valor que contenía la variable.\n",
    "\n",
    "\n",
    "La diferencia entre ambos estriba en que en el *paso por valor* los cambios que se hagan sobre el parámetro no se ven fuera de la función, dado que los argumentos de la función son variables locales a la función que contienen los valores indicados por las variables que se pasaron como argumento. Es decir, en realidad lo que se le pasa a la función son copias de los valores y no las variables en si.\n",
    "\n",
    "\n",
    "- *Python* pasa los valores de las variablos por *referencia*"
   ]
  },
  {
   "cell_type": "code",
   "execution_count": null,
   "metadata": {},
   "outputs": [],
   "source": [
    "def mi_funcion3(nombre, apellido):\n",
    "    nombre_completo = nombre + apellido\n",
    "    print(nombre_completo)"
   ]
  },
  {
   "cell_type": "code",
   "execution_count": null,
   "metadata": {},
   "outputs": [],
   "source": [
    "mi_funcion3('Carlos', 'Alvarez')"
   ]
  },
  {
   "cell_type": "code",
   "execution_count": null,
   "metadata": {},
   "outputs": [],
   "source": [
    "def saludar(nombre, mensaje='Hola'):\n",
    "    print mensaje, nombre"
   ]
  },
  {
   "cell_type": "code",
   "execution_count": null,
   "metadata": {},
   "outputs": [],
   "source": [
    "saludar('Pepito Perez')"
   ]
  },
  {
   "cell_type": "markdown",
   "metadata": {},
   "source": [
    "### Parámetros opcionales"
   ]
  },
  {
   "cell_type": "markdown",
   "metadata": {},
   "source": [
    "También es posible llamar a una función, pasándole los argumentos esperados, como pares de claves=valor"
   ]
  },
  {
   "cell_type": "code",
   "execution_count": null,
   "metadata": {},
   "outputs": [],
   "source": [
    "def saludar(nombre, mensaje='Hola'):\n",
    "    print mensaje, nombre"
   ]
  },
  {
   "cell_type": "code",
   "execution_count": null,
   "metadata": {},
   "outputs": [],
   "source": [
    "saludar(mensaje=\"Buenos día\", nombre=\"Carlitos\")"
   ]
  },
  {
   "cell_type": "markdown",
   "metadata": {},
   "source": [
    "### Devolución de Valores"
   ]
  },
  {
   "cell_type": "markdown",
   "metadata": {},
   "source": [
    "Para devolver valores generados en una función, se usa la palabra clave `return`"
   ]
  },
  {
   "cell_type": "code",
   "execution_count": null,
   "metadata": {},
   "outputs": [],
   "source": [
    "def sumar(x, y):\n",
    "    return x + y"
   ]
  },
  {
   "cell_type": "code",
   "execution_count": null,
   "metadata": {},
   "outputs": [],
   "source": [
    "sumaxy = sumar(3,2)\n",
    "print(sumaxy)\n",
    "\n",
    "sumacuadrado = sumaxy ** 2\n",
    "print(sumacuadrado)"
   ]
  },
  {
   "cell_type": "code",
   "execution_count": null,
   "metadata": {},
   "outputs": [],
   "source": [
    "def dolorosos(t):\n",
    "    \"\"\" Devuelve un valor dado en pesos a dólares\"\"\"\n",
    "    return t / 2934.90\n",
    "\n",
    "for valorpesos in (2260, 2580, 27300, 29869):\n",
    "    print('{0} pesos son {1:.2f} dólares'.format(valorpesos,dolorosos(valorpesos)))"
   ]
  },
  {
   "cell_type": "code",
   "execution_count": null,
   "metadata": {},
   "outputs": [],
   "source": [
    "dolorosos?"
   ]
  },
  {
   "cell_type": "markdown",
   "metadata": {},
   "source": [
    "### Variables Locales y Globales"
   ]
  },
  {
   "cell_type": "markdown",
   "metadata": {},
   "source": [
    "Las variables dentro de las funciones son Locales por defecto."
   ]
  },
  {
   "cell_type": "code",
   "execution_count": null,
   "metadata": {},
   "outputs": [],
   "source": [
    "def f(): \n",
    "    print(s)\n",
    "    \n",
    "s = \"Python\"\n",
    "f()"
   ]
  },
  {
   "cell_type": "code",
   "execution_count": null,
   "metadata": {},
   "outputs": [],
   "source": [
    "def f(): \n",
    "    s = \"Perl\"\n",
    "    print(s) \n",
    "\n",
    "f()\n",
    "s = \"Python\"\n",
    "print(s)"
   ]
  },
  {
   "cell_type": "code",
   "execution_count": null,
   "metadata": {},
   "outputs": [],
   "source": [
    "def f(ls):\n",
    "    print(ls)\n",
    "    ls = \"Perl\"\n",
    "    return ls\n",
    "\n",
    "s = \"Python\" \n",
    "print(s)\n",
    "print(f(s))"
   ]
  },
  {
   "cell_type": "code",
   "execution_count": null,
   "metadata": {},
   "outputs": [],
   "source": [
    "def f():\n",
    "    global s\n",
    "    print(s)\n",
    "    s = \"dog\"\n",
    "    print(s) \n",
    "    \n",
    "s = \"cat\" \n",
    "f()\n",
    "print(s)"
   ]
  },
  {
   "cell_type": "markdown",
   "metadata": {
    "collapsed": true
   },
   "source": [
    "## Funciones Recursivas"
   ]
  },
  {
   "cell_type": "markdown",
   "metadata": {},
   "source": [
    "- La Recursión es asociada al concepto de $infinito$.\n",
    "\n",
    "\n",
    "- El adjetivo \"*recursivo*\" se origina del verbo latino \"*recurrere*\", que significa \"*volver atrás*\". Y esto es lo que una definición recursiva o una función recursiva hace: Es \"*volver a funcionar*\" o \"*volver a sí mismo*\". \n",
    "\n",
    "\n",
    "El factorial es un ejemplo de recursividad:"
   ]
  },
  {
   "cell_type": "raw",
   "metadata": {},
   "source": [
    "n! = n * (n-1)!, if n > 1 and f(1) = 1"
   ]
  },
  {
   "cell_type": "markdown",
   "metadata": {},
   "source": [
    "### Definición de Funciones Recursivas"
   ]
  },
  {
   "cell_type": "markdown",
   "metadata": {},
   "source": [
    "- La recursividad es un método de programación o codificación de un problema, en el que una función se llama a sí misma una o más veces en su cuerpo. \n",
    "\n",
    "\n",
    "- Normalmente, está devolviendo el valor devuelto de esta llamada de función. \n",
    "\n",
    "\n",
    "- Si una definición de función satisface la condición de recursión, llamamos a esta función una *función recursiva*.\n"
   ]
  },
  {
   "cell_type": "markdown",
   "metadata": {},
   "source": [
    "### Condición de Finalización"
   ]
  },
  {
   "cell_type": "markdown",
   "metadata": {},
   "source": [
    "- Una función recursiva tiene que cumplir una condición importante para ser utilizada en un programa: *tiene que terminar*.\n",
    "\n",
    "\n",
    "- Una función recursiva termina, si con cada llamada recursiva la solución del problema es reducida y se mueve hacia un caso base. \n",
    "\n",
    "\n",
    "- Un caso base es un caso, donde el problema se puede resolver sin más recursividad. \n",
    "\n",
    "\n",
    "- Una recursividad puede terminar en un bucle infinito, si el caso base no se cumple en las llamadas.\n",
    "\n",
    "\n",
    "***Ejemplo:***"
   ]
  },
  {
   "cell_type": "raw",
   "metadata": {},
   "source": [
    "4! = 4 * 3!\n",
    "3! = 3 * 2!\n",
    "2! = 2 * 1 "
   ]
  },
  {
   "cell_type": "markdown",
   "metadata": {},
   "source": [
    "Reemplazando los valores calculados dados resulta la siguiente expresión:"
   ]
  },
  {
   "cell_type": "raw",
   "metadata": {},
   "source": [
    "4! = 4 * 3 * 2 * 1"
   ]
  },
  {
   "cell_type": "markdown",
   "metadata": {},
   "source": [
    "### Funciones Recursivas en Python"
   ]
  },
  {
   "cell_type": "markdown",
   "metadata": {},
   "source": [
    "Una primero implementación del algoritmo del factorial de forma iterativa:"
   ]
  },
  {
   "cell_type": "code",
   "execution_count": null,
   "metadata": {},
   "outputs": [],
   "source": [
    "def factorial_iterativo(n):\n",
    "    resultado = 1\n",
    "    for i in range(2,n+1):\n",
    "        resultado *= i\n",
    "    return resultado"
   ]
  },
  {
   "cell_type": "code",
   "execution_count": null,
   "metadata": {},
   "outputs": [],
   "source": [
    "def factorial(n):\n",
    "    if n == 1:\n",
    "        return 1\n",
    "    else:\n",
    "        return n * factorial(n-1)"
   ]
  },
  {
   "cell_type": "code",
   "execution_count": null,
   "metadata": {},
   "outputs": [],
   "source": [
    "a = 5000\n",
    "print(factorial_iterativo(a))\n",
    "print(factorial(a))"
   ]
  },
  {
   "cell_type": "code",
   "execution_count": null,
   "metadata": {},
   "outputs": [],
   "source": [
    "def factorial(n):\n",
    "#    print(\"factorial has been called with n = \" + str(n))\n",
    "    if n == 1:\n",
    "        return 1\n",
    "    else:\n",
    "        res = n * factorial(n-1)\n",
    "        print \"intermediate result for \", n, \" * factorial(\" ,n-1, \"): \",res\n",
    "        return res\n",
    "\n",
    "print(factorial(5))"
   ]
  },
  {
   "cell_type": "markdown",
   "metadata": {},
   "source": [
    "- Es una práctica común extender la función factorial para $0$ como argumento. \n",
    "\n",
    "\n",
    "- Tiene sentido definir $0!$ Para ser $1$, porque hay exactamente una permutación de objetos cero, es decir, si nada es permutar, \"*todo*\" se deja en su lugar. \n",
    "\n",
    "\n",
    "- Otra razón es que el número de formas de elegir $n$ elementos entre un conjunto de $n$ se calcula como $\\frac{n!}{n! \\times 0!}$.\n",
    "\n",
    "\n",
    "- Todo lo que tenemos que hacer para implementar esto es cambiar la condición de la instrucción `if`:"
   ]
  },
  {
   "cell_type": "markdown",
   "metadata": {},
   "source": [
    "### Las trampas de la recursión"
   ]
  },
  {
   "cell_type": "markdown",
   "metadata": {},
   "source": [
    "***Sucesión de Fibonacci:*** La $Sucesión$ de $Fibonacci$ es la secuencia de números: $0 , 1, 1, 2, 3, 5, 8, 13, 21, ...$\n",
    "\n",
    "- Se define por: $F_n = F_{n-1} + F_{n-2} $ , con $F_0 = 0$ y $F_1 = 1$\n",
    "\n",
    "\n",
    "- La solución iterativa es fácil de implementar:"
   ]
  },
  {
   "cell_type": "code",
   "execution_count": null,
   "metadata": {},
   "outputs": [],
   "source": [
    "def fib_iter(n):\n",
    "    lfib = [0,1]\n",
    "    if n == 0:\n",
    "        return 0\n",
    "    for i in range(n-1):\n",
    "        lfib = lfib[i] + lfib[i+1] \n",
    "    return lfib"
   ]
  },
  {
   "cell_type": "code",
   "execution_count": null,
   "metadata": {},
   "outputs": [],
   "source": [
    "fib_iter(10)"
   ]
  },
  {
   "cell_type": "markdown",
   "metadata": {},
   "source": [
    "La solución recursiva se acerca más a la definición:"
   ]
  },
  {
   "cell_type": "code",
   "execution_count": null,
   "metadata": {},
   "outputs": [],
   "source": [
    "def fib_recur(n):\n",
    "    if n == 0:\n",
    "#        print n\n",
    "        return 0\n",
    "    elif n == 1:\n",
    "#        print n\n",
    "        return 1\n",
    "    else:\n",
    "#        i = n - 1\n",
    "#        print i\n",
    "        return fib_recur(n-1) + fib_recur(n-2)"
   ]
  },
  {
   "cell_type": "code",
   "execution_count": null,
   "metadata": {},
   "outputs": [],
   "source": [
    "fib_recur(27)"
   ]
  },
  {
   "cell_type": "markdown",
   "metadata": {},
   "source": [
    "***Comentario*:*** Observe que la solución recursiva, `fib_rec`, es **MUCHO MÁS RÁPIDA** que la función iterativa, `fib_iter`."
   ]
  },
  {
   "cell_type": "code",
   "execution_count": null,
   "metadata": {},
   "outputs": [],
   "source": [
    "%time fib_iter(10)"
   ]
  },
  {
   "cell_type": "code",
   "execution_count": null,
   "metadata": {},
   "outputs": [],
   "source": [
    "%time fib_recur(100)"
   ]
  },
  {
   "cell_type": "markdown",
   "metadata": {},
   "source": [
    "Qué sucede de \"malo\" en los algoritmos presentados?"
   ]
  },
  {
   "cell_type": "markdown",
   "metadata": {},
   "source": [
    "![Imagen](https://github.com/carlosalvarezh/Programacion_Python/blob/master/images/fib_calculation_tree.png?raw=true \"\")\n",
    "\n",
    "\n",
    "ref: https://www.python-course.eu/python3_recursive_functions.php"
   ]
  },
  {
   "cell_type": "markdown",
   "metadata": {},
   "source": [
    "Obsérvese que en esta secuencia, el cálculo de `f(2)` aparece tres veces en esta secuencia. El de `f(3)`, dos veces, etc. A medida que subimos de nivel, es decir, aumentamos la cantidad de datos de la serie, esos mismos cálculos se repetirán mucha más veces.\n",
    "\n",
    "\n",
    "- Este algoritmo de recursión no \"recuerda\" que esos valores ya fueron previamente calculados.\n",
    "\n",
    "\n",
    "- Podemos implementar ahora un algoritmo que \"recuerde\":"
   ]
  },
  {
   "cell_type": "code",
   "execution_count": null,
   "metadata": {},
   "outputs": [],
   "source": [
    "memo = {0:0, 1:1}\n",
    "def fib_memo(n):\n",
    "    if not n in memo:\n",
    "        memo[n] = fib_memo(n-1) + fib_memo(n-2)\n",
    "    return memo[n]"
   ]
  },
  {
   "cell_type": "code",
   "execution_count": null,
   "metadata": {},
   "outputs": [],
   "source": [
    "%time fib_memo(10)"
   ]
  },
  {
   "cell_type": "markdown",
   "metadata": {},
   "source": [
    "### COMENTARIOS FINALES IMPORTANTES!!!"
   ]
  },
  {
   "cell_type": "markdown",
   "metadata": {},
   "source": [
    "- Aunque la recursión se presenta como una solución muy eficiente, lamentablemente (o quizás no...) en *Python* solo lo es para una cantidad de recursiones relativamente pequeña (del órden de 1000). \n",
    "\n",
    "\n",
    "- En otros lenguajes, la recursión no presenta esta restricción (peligroso!).\n",
    "\n",
    "\n",
    "- Cuando tenga la necesidad de realizar este tipo de operaciones, lo más recomendable es regresar a la implementación iterativa.\n",
    "\n",
    "\n",
    "- Para una mayor información al respecto, los invito a visitar [este Blog](http://blog.moertel.com/posts/2013-05-11-recursive-to-iterative.html \"Recursive to iterative\")"
   ]
  },
  {
   "cell_type": "markdown",
   "metadata": {},
   "source": [
    "## Laboratorio"
   ]
  },
  {
   "cell_type": "markdown",
   "metadata": {},
   "source": [
    "- Escriba un programa para el cálculo de $f(n) = 3 \\times n $ (es decir, los múltiplos de $3$).\n",
    "\n",
    "\n",
    "- Escriba un programa que genere el [Triángulo de Pascal](https://es.wikipedia.org/wiki/Triángulo_de_Pascal) para una cierta cantidad de números, $n$.\n",
    "\n",
    "\n",
    "- Escriba un programa que extraiga del Triángulo de Pascal los primeros 10 números de la $Sucesión$ de $Fibonacci$.\n",
    "\n",
    "\n",
    "- Escriba una función *find_index*(), que retorna el índice de un número en la $Sucesión$ de $Fibonacci$ si el número es un elemento de dicha $Sucesión$ y $-1$ si el número no está en la $Sucesión$.\n",
    "\n",
    "\n",
    "- La suma de los cuadrados de dos números consecutivos de la $Sucesión$ de $Fibonacci$ también es un número de $Fibonacci$. Por ejemplo $2$ y $3$ son números de la Sucesión y $2^2 + 3^2 = 13$ que corresponde al número $F_7$. Use la función del ejercicio anterior para encontrar la posición de la suma de los cuadrados de dos números consecutivos en la $Secuencia$ de $Fibonacci$.\n",
    "\n",
    "\n",
    "- $Tamiz$ $de$ $Erastótenes$: es un algoritmo simple para encontrar todos los números primos hasta un entero especificado, $n$:\n",
    "\n",
    "  1. Crear una lista de enteros desde $2$ hasta $n$: $2, 3, 4, \\ldots, n$.\n",
    "  \n",
    "  2. Comience con un contador en $2$, es decir, el primer número primo.\n",
    "  \n",
    "  3. A partir de $i+i$, cuente hasta $i$ y elimine esos números de la lista, es decir, $2*i$, $3*i$,$4*i$, $\\ldots$\n",
    "  \n",
    "  4. Encuentra el número siguiente de la lista, $i$. Este es el siguiente número primo.\n",
    "  \n",
    "  5. Establezca $i$ en el número encontrado en el paso anterior.\n",
    "  \n",
    "  6. Repita los pasos $3$ y $4$ hasta que $i$ sea mayor que $n$. (Como una mejora: Es suficiente determinar la raíz cuadrada de $n$)\n",
    "  \n",
    "  7. Todos los números, que todavía están en la lista, son números primos."
   ]
  }
 ],
 "metadata": {
  "anaconda-cloud": {},
  "celltoolbar": "Slideshow",
  "kernelspec": {
   "display_name": "Python 3",
   "language": "python",
   "name": "python3"
  },
  "language_info": {
   "codemirror_mode": {
    "name": "ipython",
    "version": 3
   },
   "file_extension": ".py",
   "mimetype": "text/x-python",
   "name": "python",
   "nbconvert_exporter": "python",
   "pygments_lexer": "ipython3",
   "version": "3.7.3"
  }
 },
 "nbformat": 4,
 "nbformat_minor": 2
}
