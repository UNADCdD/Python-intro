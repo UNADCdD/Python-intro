{
 "cells": [
  {
   "cell_type": "markdown",
   "metadata": {
    "slideshow": {
     "slide_type": "slide"
    }
   },
   "source": [
    "<h1 align=\"center\">Curso Introducción a Python</h1>\n",
    "\n",
    "<h2 align=\"center\">Universidad EAFIT - Bancolombia</h2>\n",
    "\n",
    "<h3 align=\"center\">MEDELLÍN - COLOMBIA </h3>"
   ]
  },
  {
   "cell_type": "markdown",
   "metadata": {},
   "source": [
    "<h2 align=\"center\">Sesion 02 - Expresiones, Secuencias, Strings, I/O 1</h2> "
   ]
  },
  {
   "cell_type": "markdown",
   "metadata": {
    "slideshow": {
     "slide_type": "slide"
    }
   },
   "source": [
    "### Expresiones y Sentencias"
   ]
  },
  {
   "cell_type": "markdown",
   "metadata": {},
   "source": [
    "- Una expresión es una combinación de valores, variables y operadores.\n",
    "\n",
    "\n",
    "- Un valor es considerado una expresión.\n",
    "\n",
    "\n",
    "- Una sentencia es una unidad de código que el interprete del *Python* puede ejecutar.\n",
    "\n",
    "\n",
    "- La diferencia entre los dos radica en que una expresión tiene un valor, una sentencia no.\n",
    "\n",
    "\n",
    "- `print` y asignación (`x = 5`) son sentencias."
   ]
  },
  {
   "cell_type": "code",
   "execution_count": null,
   "metadata": {
    "slideshow": {
     "slide_type": "subslide"
    }
   },
   "outputs": [],
   "source": [
    "x = 5 # esta es una sentencia\n",
    "17 # esta es una expresión\n",
    "x # esta es una expresión\n",
    "x+17 # esta es una expresión"
   ]
  },
  {
   "cell_type": "markdown",
   "metadata": {
    "slideshow": {
     "slide_type": "slide"
    }
   },
   "source": [
    "### Orden de las operaciones"
   ]
  },
  {
   "cell_type": "markdown",
   "metadata": {},
   "source": [
    "- Cuando existen más de un operador, se sigue la regla del orden de precencia: *Parentesis*, *Exponentes*, *Multiplicaciones / Divisones*, y por último, *Sumas / Restas*."
   ]
  },
  {
   "cell_type": "code",
   "execution_count": null,
   "metadata": {
    "slideshow": {
     "slide_type": "subslide"
    }
   },
   "outputs": [],
   "source": [
    "2*(3-1)"
   ]
  },
  {
   "cell_type": "code",
   "execution_count": null,
   "metadata": {
    "slideshow": {
     "slide_type": "subslide"
    }
   },
   "outputs": [],
   "source": [
    "2*3-1"
   ]
  },
  {
   "cell_type": "markdown",
   "metadata": {
    "slideshow": {
     "slide_type": "slide"
    }
   },
   "source": [
    "### Operaciones con Cadenas de Caracteres (*strings*)"
   ]
  },
  {
   "cell_type": "markdown",
   "metadata": {},
   "source": [
    "- En general, no se pueden realizar operaciones aritméticas en cadenas de caracteres, aún si las cadenas parecen como si fueran números:"
   ]
  },
  {
   "cell_type": "markdown",
   "metadata": {},
   "source": [
    "Comilla simple"
   ]
  },
  {
   "cell_type": "code",
   "execution_count": null,
   "metadata": {},
   "outputs": [],
   "source": [
    "s1 = 'It doesn\\'t matter!'\n",
    "print(s1)"
   ]
  },
  {
   "cell_type": "markdown",
   "metadata": {},
   "source": [
    "el caracter `\\` se denomina `scape`, y permite emplear una comilla simple dentro de un texto en comillas simples y evitar la ambiguedad.\n",
    "\n",
    "para evitar del todo esta situación, se pueden emplear las comillas dobles `\"\"` para escribir una cadena de caractéres"
   ]
  },
  {
   "cell_type": "code",
   "execution_count": null,
   "metadata": {},
   "outputs": [],
   "source": [
    "s2 = \"It doesn't matter!\"\n",
    "print(s2)"
   ]
  },
  {
   "cell_type": "markdown",
   "metadata": {},
   "source": [
    "Si en una cadena de texto dentro de comillas dobles se pretende incluir parte del texto dentro de comillas dobles (una cita textual, por ejemplo), se debe emplear el caracter de escape. "
   ]
  },
  {
   "cell_type": "code",
   "execution_count": null,
   "metadata": {},
   "outputs": [],
   "source": [
    "txt = \"He said: \\\"It doesn't matter, if you enclose a string in single or double quotes!\\\"\"\n",
    "print(txt)"
   ]
  },
  {
   "cell_type": "markdown",
   "metadata": {},
   "source": [
    "Un texto que abarque más de una línea, se puede colocar entre comillas triples y sirve a su vez para crear la documentación de un código (`docstring`) "
   ]
  },
  {
   "cell_type": "code",
   "execution_count": null,
   "metadata": {},
   "outputs": [],
   "source": [
    "txt = \"\"\"Este texto se puede\n",
    "escribir en varias\n",
    "líneas de código\n",
    "\"\"\"\n",
    "\n",
    "print(txt)"
   ]
  },
  {
   "cell_type": "markdown",
   "metadata": {},
   "source": [
    "### Operadores y funciones para cadenas de caracteres"
   ]
  },
  {
   "cell_type": "markdown",
   "metadata": {
    "slideshow": {
     "slide_type": "subslide"
    }
   },
   "source": [
    "- ***Concatenación***: Junta los caracteres vinculándolos de extremo a extremo mediante el operador `+`"
   ]
  },
  {
   "cell_type": "code",
   "execution_count": null,
   "metadata": {},
   "outputs": [],
   "source": [
    "a = \"Hola\"\n",
    "b = \"Mundo\"\n",
    "\n",
    "a + \" \" + b"
   ]
  },
  {
   "cell_type": "code",
   "execution_count": null,
   "metadata": {
    "slideshow": {
     "slide_type": "subslide"
    }
   },
   "outputs": [],
   "source": [
    "cadena1 = \"Hola\"\n",
    "cadena2 = \" Mundo\"\n",
    "cadena3 = \" \"\n",
    "cadena4 = \"cruel\"\n",
    "cadena5 = \"y\"\n",
    "cadena6 = \"despiadado\"\n",
    "print(cadena1 + cadena3 + cadena2 + cadena3 + cadena4 + cadena3 + cadena5 + cadena3 + cadena6)"
   ]
  },
  {
   "cell_type": "markdown",
   "metadata": {},
   "source": [
    "Veamos este otro ejemplo"
   ]
  },
  {
   "cell_type": "code",
   "execution_count": null,
   "metadata": {},
   "outputs": [],
   "source": [
    "usuario = input(\"Ingrese el usuario: \")\n",
    "numero = \"52\"\n",
    "arroba = \"@\"\n",
    "dot = \".\"\n",
    "dominio = input(\"Ingrese el dominio: \")\n",
    "servicio = input(\"Ingrese el servicio: \")\n",
    "pais = input(\"Ingrese el país: \")\n",
    "\n",
    "correo = usuario + numero + arroba + dominio + dot + servicio + dot + pais\n",
    "print(correo)"
   ]
  },
  {
   "cell_type": "markdown",
   "metadata": {},
   "source": [
    "- ***Repetición***: Una cadena de caracteres puede repetirse con el operador asterisco `*`"
   ]
  },
  {
   "cell_type": "code",
   "execution_count": null,
   "metadata": {
    "slideshow": {
     "slide_type": "subslide"
    }
   },
   "outputs": [],
   "source": [
    "cadena4 = 4 * cadena1\n",
    "print(cadena4)"
   ]
  },
  {
   "cell_type": "markdown",
   "metadata": {},
   "source": [
    "- ***Indexación:*** Una cadena de caracteres (sting) en `Python` consiste de una serie, o secuencia, de caracteres (letras, números y caracteres especiales). Las cadenas de caracteres pueden indexarse, similar al `C`, en donde el primer caracter tiene índice `0`:"
   ]
  },
  {
   "attachments": {
    "string01.png": {
     "image/png": "[encoded data removed]"
    }
   },
   "cell_type": "markdown",
   "metadata": {},
   "source": [
    "![string01.png](attachment:string01.png)"
   ]
  },
  {
   "cell_type": "code",
   "execution_count": null,
   "metadata": {},
   "outputs": [],
   "source": [
    "a = \"Hola mundo\""
   ]
  },
  {
   "cell_type": "code",
   "execution_count": null,
   "metadata": {},
   "outputs": [],
   "source": [
    "print(a[])"
   ]
  },
  {
   "cell_type": "code",
   "execution_count": null,
   "metadata": {},
   "outputs": [],
   "source": [
    "print(a[5])"
   ]
  },
  {
   "cell_type": "code",
   "execution_count": null,
   "metadata": {},
   "outputs": [],
   "source": [
    "print(a[-10])"
   ]
  },
  {
   "cell_type": "code",
   "execution_count": null,
   "metadata": {},
   "outputs": [],
   "source": [
    "lena = len(a)\n",
    "print(lena)\n",
    "print(type(lena))\n",
    "print(a[-lena])"
   ]
  },
  {
   "cell_type": "markdown",
   "metadata": {},
   "source": [
    "- ***Partición (slicing):*** Se pueden generar sub-cadenas de caracteres con la notación `slicing`"
   ]
  },
  {
   "cell_type": "markdown",
   "metadata": {},
   "source": [
    "Otra combinación de caracteres con el caracter `\\` y el caracter `t` se emplea para tabular:"
   ]
  },
  {
   "cell_type": "code",
   "execution_count": null,
   "metadata": {},
   "outputs": [],
   "source": [
    "a = \"Hola\" + \"\\t\\t\\t\" + \"Mundo!\"\n",
    "print(a)"
   ]
  },
  {
   "cell_type": "markdown",
   "metadata": {
    "slideshow": {
     "slide_type": "slide"
    }
   },
   "source": [
    "### Booleanos"
   ]
  },
  {
   "cell_type": "markdown",
   "metadata": {},
   "source": [
    "- Una variable de tipo booleano sólo puede tener uno dedos valores `True` (*verdadero*) o `False` (*falso*).\n",
    "\n",
    "\n",
    "- Estos valores son especialmente importantes para las expresiones condicionales y los bucles, como veremos más adelante.\n",
    "\n",
    "\n",
    "- El tipo `bool` (el tipo de los booleanos) es una subclase del tipo `int`."
   ]
  },
  {
   "cell_type": "code",
   "execution_count": null,
   "metadata": {},
   "outputs": [],
   "source": [
    "falso = False\n",
    "print(type(falso))\n",
    "print(falso)"
   ]
  },
  {
   "cell_type": "markdown",
   "metadata": {
    "slideshow": {
     "slide_type": "subslide"
    }
   },
   "source": [
    "| Operador    | Descripción           | Ejemplo                         |\n",
    "| -----------:|:---------------------:|--------------------------------:|\n",
    "| and         | Se cumple $a$ y $b$?  | r = True and False # r es False |\n",
    "| or          | Se cumple $a$ o $b$?  | r = True and False # r es true  |\n",
    "| not         | No $a$                | r = not True       # r es False |\n"
   ]
  },
  {
   "cell_type": "markdown",
   "metadata": {},
   "source": [
    "- Los valores booleanos son además el resultado de expresiones que utilizan operadores relacionales (comparaciones entre valores):"
   ]
  },
  {
   "cell_type": "markdown",
   "metadata": {
    "slideshow": {
     "slide_type": "subslide"
    }
   },
   "source": [
    "| Operador    | Descripción                   | Ejemplo                   |\n",
    "| -----------:|:-----------------------------:|--------------------------:|\n",
    "| ==          | Son iguales $a$ y $b$?        | r = 5 == 3   # r es False |\n",
    "| !=          | Son distintos $a$ o $b$?      | r = 5 != 3   # r es True  |\n",
    "| <           | $a$ es menor que $b$?         | r = 5 < 3    # r es False |\n",
    "| >           | $a$ es mayor que $b$?         | r = 5 > 3    # r es True  |\n",
    "| <=          | $a$ es menor o igual que $b$? | r = 5 <= 3   # r es False |\n",
    "| >=          | $a$ es mayor o igual que $b$? | r = 5 >= 3   # r es True  |"
   ]
  },
  {
   "cell_type": "code",
   "execution_count": null,
   "metadata": {
    "slideshow": {
     "slide_type": "subslide"
    }
   },
   "outputs": [],
   "source": [
    "a = 5\n",
    "b = 3"
   ]
  },
  {
   "cell_type": "code",
   "execution_count": null,
   "metadata": {
    "slideshow": {
     "slide_type": "subslide"
    }
   },
   "outputs": [],
   "source": [
    "a == b"
   ]
  },
  {
   "cell_type": "code",
   "execution_count": null,
   "metadata": {
    "slideshow": {
     "slide_type": "subslide"
    }
   },
   "outputs": [],
   "source": [
    "a != b"
   ]
  },
  {
   "cell_type": "code",
   "execution_count": null,
   "metadata": {
    "slideshow": {
     "slide_type": "subslide"
    }
   },
   "outputs": [],
   "source": [
    "a < b"
   ]
  },
  {
   "cell_type": "code",
   "execution_count": null,
   "metadata": {
    "slideshow": {
     "slide_type": "subslide"
    }
   },
   "outputs": [],
   "source": [
    "a > b"
   ]
  },
  {
   "cell_type": "code",
   "execution_count": null,
   "metadata": {
    "slideshow": {
     "slide_type": "subslide"
    }
   },
   "outputs": [],
   "source": [
    "a <= b"
   ]
  },
  {
   "cell_type": "code",
   "execution_count": null,
   "metadata": {
    "slideshow": {
     "slide_type": "subslide"
    }
   },
   "outputs": [],
   "source": [
    "a >= b"
   ]
  },
  {
   "cell_type": "markdown",
   "metadata": {
    "slideshow": {
     "slide_type": "slide"
    }
   },
   "source": [
    "### Comentarios"
   ]
  },
  {
   "cell_type": "markdown",
   "metadata": {},
   "source": [
    "- A medida que los programas se van haciendo mayores y más complejos, se van volviendo difíciles de leer.\n",
    "\n",
    "\n",
    "- Los lenguajes formales son densos y esto dificulta la lectura y su seguimiento para entender qué hace o por qué. \n",
    "\n",
    "\n",
    "- Es buena idea adicionar notas al programa para explicar en lenguaje natural que es lo que el programa está haciendo.\n",
    "\n",
    "\n",
    "- Estas anotaciones se llaman *comentarios* y empiezan con el símbolo `#`."
   ]
  },
  {
   "cell_type": "code",
   "execution_count": null,
   "metadata": {
    "slideshow": {
     "slide_type": "subslide"
    }
   },
   "outputs": [],
   "source": [
    "# Calcula el porcentaje de horas que ha pasado\n",
    "porcentaje = (minuto * 100) / 60\n",
    "print(porcentaje)"
   ]
  },
  {
   "cell_type": "code",
   "execution_count": null,
   "metadata": {
    "slideshow": {
     "slide_type": "subslide"
    }
   },
   "outputs": [],
   "source": [
    "porcentaje = (minuto * 100) / 60 # porcentaje de una hora\n",
    "print(porcentaje)"
   ]
  },
  {
   "cell_type": "markdown",
   "metadata": {
    "slideshow": {
     "slide_type": "subslide"
    }
   },
   "source": [
    "- Los comentarios son muy útiles cuando documentan características no evidentes del código, pero hay qué evitar los comentarios \"obvios\".\n",
    "\n",
    "\n",
    "- Una buena nominación de las variables reduce la necesidad de comentarios, pero nombres largos pueden volver la expresión compleja y difícil de leer.\n",
    "\n",
    "\n",
    "- <strong>Úselos con moderación!</strong>"
   ]
  },
  {
   "cell_type": "code",
   "execution_count": null,
   "metadata": {
    "slideshow": {
     "slide_type": "subslide"
    }
   },
   "outputs": [],
   "source": [
    "\"\"\" linea 1jgksjhklfjkfjk\n",
    "ogjakgjkagjka\n",
    "iogajgpioagjpao\n",
    "djgajgajakej\n",
    "\"\"\"\n",
    "\n",
    "v = 5 # asigna el valor de 5 a la variable v.... obvio!!!\n",
    "\n",
    "v = 5 # Velocidad en metros/segundo... mejor..."
   ]
  },
  {
   "cell_type": "markdown",
   "metadata": {
    "slideshow": {
     "slide_type": "slide"
    }
   },
   "source": [
    "## I/O Estándar"
   ]
  },
  {
   "cell_type": "markdown",
   "metadata": {
    "slideshow": {
     "slide_type": "-"
    }
   },
   "source": [
    "- En *Python3* la función estandar para el ingreso de datos por teclado es `input()`\n",
    "\n",
    "\n",
    "- En *Python2* es `raw_input()`\n",
    "\n",
    "\n",
    "- La salida por defecto es la función `print()`, que si bien es la más \"simplista\" no es la más elegante.\n"
   ]
  },
  {
   "cell_type": "code",
   "execution_count": null,
   "metadata": {
    "slideshow": {
     "slide_type": "subslide"
    }
   },
   "outputs": [],
   "source": [
    "nombre = float(input(\"Cuál es tu peso?\"))\n",
    "print(type(nombre))\n",
    "peso1 = nombre*3.5\n",
    "print(type(peso1))\n",
    "print(\"Hola\", nombre)"
   ]
  },
  {
   "cell_type": "code",
   "execution_count": null,
   "metadata": {
    "slideshow": {
     "slide_type": "subslide"
    }
   },
   "outputs": [],
   "source": [
    "nombre = input(\"Cuál es tu nombre? \")\n",
    "print(\"mucho gusto \" + nombre + \"!\")\n",
    "edad1 = int(input(\"y cuál es tu edad? \"))\n",
    "edad = edad1 + 10\n",
    "print(\"su edad es \", edad)\n",
    "print(\"entonces tienes \" + str(edad) + \" años, \" + nombre + \"!\")"
   ]
  },
  {
   "cell_type": "code",
   "execution_count": null,
   "metadata": {},
   "outputs": [],
   "source": [
    "4*edad"
   ]
  },
  {
   "cell_type": "code",
   "execution_count": null,
   "metadata": {
    "scrolled": true,
    "slideshow": {
     "slide_type": "subslide"
    }
   },
   "outputs": [],
   "source": [
    "x = int(input(\"Ingrese un número: \"))\n",
    "y = int(input(\"Ingrese otro número: \"))\n",
    "xy  = x / y\n",
    "print('La división de ' + str(x) + ' y ' + str(y) + ' es ' + str(xy)) #error"
   ]
  },
  {
   "cell_type": "code",
   "execution_count": null,
   "metadata": {
    "slideshow": {
     "slide_type": "subslide"
    }
   },
   "outputs": [],
   "source": [
    "x = input(\"Ingrese un número: \")\n",
    "y = input(\"Ingrese otro número: \")\n",
    "suma = x + y\n",
    "print('La suma de ', x, ' y ', y, ' es ', x+y, '.', sep='') #error"
   ]
  },
  {
   "cell_type": "code",
   "execution_count": null,
   "metadata": {
    "slideshow": {
     "slide_type": "subslide"
    }
   },
   "outputs": [],
   "source": [
    "x = int(input(\"Ingrese un número: \"))\n",
    "y = int(input(\"Ingrese otro número: \"))\n",
    "suma = x + y\n",
    "print('La suma de ', x, ' y ', y, ' es ', x+y, '.', sep='')\n",
    "print(\"La suma de %5d y %5d es %5d\" % (x, y, suma))"
   ]
  },
  {
   "cell_type": "markdown",
   "metadata": {
    "slideshow": {
     "slide_type": "slide"
    }
   },
   "source": [
    "### Formatación a la \"antigua\""
   ]
  },
  {
   "cell_type": "markdown",
   "metadata": {},
   "source": [
    "- La funcionalidad del `printf` de $\\texttt{C}$ está contenida en *Python*.\n",
    "\n",
    "\n",
    "- Para esto, se usa el operador módulo `%` para concatenar las cadenas de texto que conformarán el mensaje."
   ]
  },
  {
   "cell_type": "markdown",
   "metadata": {
    "slideshow": {
     "slide_type": "subslide"
    }
   },
   "source": [
    "![Imagen](https://github.com/carlosalvarezh/FundamentosProgramacion_U_EAFIT/blob/master/images/string_modulo_overview.png?raw=true \"\")\n",
    "\n",
    "Recuperado de: http://www.python-course.eu/python3_formatted_output.php"
   ]
  },
  {
   "cell_type": "markdown",
   "metadata": {},
   "source": [
    "- Al lado izquierdo del operador módulo, se encuentra el llamado formato de cadena de caracteres y al lado derecho hay una tupla con el contenido.\n",
    "\n",
    "\n",
    "- Los valores pueden ser literales, variables o expresiones aritméticas arbitrarias.\n",
    "\n",
    "\n",
    "- El formato visto contiene lo que se denominan *marcadores de posición*. En el ejemplo hay dos: `%5d` y `%8.2f`"
   ]
  },
  {
   "cell_type": "markdown",
   "metadata": {
    "slideshow": {
     "slide_type": "subslide"
    }
   },
   "source": [
    "![Imagen](https://github.com/carlosalvarezh/FundamentosProgramacion_U_EAFIT/blob/master/images/string_modulo_float.png?raw=true \"\")\n",
    "\n",
    "Recuperado de: http://www.python-course.eu/python3_formatted_output.php"
   ]
  },
  {
   "cell_type": "markdown",
   "metadata": {
    "slideshow": {
     "slide_type": "subslide"
    }
   },
   "source": [
    "![Imagen](https://github.com/carlosalvarezh/FundamentosProgramacion_U_EAFIT/blob/master/images/formatting_floats.png?raw=true \"\")\n",
    "\n",
    "Recuperado de: http://www.python-course.eu/python3_formatted_output.php"
   ]
  },
  {
   "cell_type": "markdown",
   "metadata": {
    "slideshow": {
     "slide_type": "slide"
    }
   },
   "source": [
    "### Formatos de salida"
   ]
  },
  {
   "cell_type": "markdown",
   "metadata": {},
   "source": [
    "| Identificador    | Formato           |\n",
    "| ----------------:|:-----------------:|\n",
    "| %s               | Cadena (string)   |\n",
    "| %d               | Entero (integer)  |\n",
    "| %o               | Octal             |\n",
    "| %x               | Hexadecimal       |\n",
    "| %f               | Flotante          |"
   ]
  },
  {
   "cell_type": "code",
   "execution_count": null,
   "metadata": {
    "slideshow": {
     "slide_type": "subslide"
    }
   },
   "outputs": [],
   "source": [
    "x = int(input(\"Ingrese un número: \"))\n",
    "y = int(input(\"Ingrese otro número: \"))\n",
    "suma = x + y\n",
    "print(\"La suma de %d y %d es %d\" % (x,y,suma)) "
   ]
  },
  {
   "cell_type": "code",
   "execution_count": null,
   "metadata": {
    "slideshow": {
     "slide_type": "subslide"
    }
   },
   "outputs": [],
   "source": [
    "print(\"%10.3e\"% (356.08977))\n",
    "print(\"%10.3E\"% (356.08977))\n",
    "print(\"Un signo de porcentaje: %% \" % ())\n",
    "print(\"este es un entero %d y %d y %d\" % (3, 3, 3))"
   ]
  },
  {
   "cell_type": "code",
   "execution_count": null,
   "metadata": {
    "slideshow": {
     "slide_type": "subslide"
    }
   },
   "outputs": [],
   "source": [
    "print(\"Por la compra de %d %s y %d %s debes $%f \" % (5, \"manzanas\", 7, \"peras\", 2500.50))"
   ]
  },
  {
   "cell_type": "code",
   "execution_count": null,
   "metadata": {
    "slideshow": {
     "slide_type": "subslide"
    }
   },
   "outputs": [],
   "source": [
    "print(\"Por la compra de %d %s y %d %s debes $%0.2f \" % (5, \"manzanas\", 7, \"peras\", 2500.50))"
   ]
  },
  {
   "cell_type": "markdown",
   "metadata": {
    "slideshow": {
     "slide_type": "slide"
    }
   },
   "source": [
    "## Formatación *Pytonista* (string format)"
   ]
  },
  {
   "cell_type": "markdown",
   "metadata": {},
   "source": [
    "![Imagen](https://github.com/carlosalvarezh/FundamentosProgramacion_U_EAFIT/blob/master/images/format_method_positional_parameters.png?raw=true \"\")"
   ]
  },
  {
   "cell_type": "code",
   "execution_count": null,
   "metadata": {
    "slideshow": {
     "slide_type": "subslide"
    }
   },
   "outputs": [],
   "source": [
    "txt = \"texto\"\n",
    "print(\"Primer argumento: {0}, segundo argumento: {0}\".format(txt))"
   ]
  },
  {
   "cell_type": "code",
   "execution_count": null,
   "metadata": {
    "slideshow": {
     "slide_type": "subslide"
    }
   },
   "outputs": [],
   "source": [
    "print(\"Segundo argumento: {1}, primer argumento: {0}\".format(47,11))"
   ]
  },
  {
   "cell_type": "code",
   "execution_count": null,
   "metadata": {
    "slideshow": {
     "slide_type": "subslide"
    }
   },
   "outputs": [],
   "source": [
    "print(\"Segundo argumento: {1:3d}, \\nprimer argumento: {0:5.2f}\".format(47.42,11))"
   ]
  },
  {
   "cell_type": "markdown",
   "metadata": {
    "slideshow": {
     "slide_type": "subslide"
    }
   },
   "source": [
    "[Aquí](http://www.python-course.eu/python3_formatted_output.php \"Formatting in Python\") encontrará información ampliada acerca de otros esquemas de formatación en *Python*: "
   ]
  },
  {
   "cell_type": "markdown",
   "metadata": {
    "slideshow": {
     "slide_type": "slide"
    }
   },
   "source": [
    "### Salto de Línea `\\n`"
   ]
  },
  {
   "cell_type": "code",
   "execution_count": null,
   "metadata": {},
   "outputs": [],
   "source": [
    "print(\"Hola\\nmundo\")"
   ]
  },
  {
   "cell_type": "markdown",
   "metadata": {
    "slideshow": {
     "slide_type": "slide"
    }
   },
   "source": [
    "## Laboratorio"
   ]
  },
  {
   "cell_type": "markdown",
   "metadata": {},
   "source": [
    "1. Queremos ejecutar las siguientes sentencias de asignación:\n",
    "    - ancho = 17\n",
    "    - alto = 12.0\n",
    "    - delimitador = \".\"\n",
    "\n",
    "    Para cada una de las siguentes expresiones, escriba el valor de la expresión y el tipo (del valor de la expresión)\n",
    "\n",
    "    - ancho / 2\n",
    "    - ancho / 2.0\n",
    "    - alto / 3\n",
    "    - 1 + 2 * 5\n",
    "    - delimitador * 5\n",
    "\n",
    "2. El volumen de una esfera de radio $r$ es $\\frac{4}{3} \\pi r^3$. Cuál es el volúmen de una esfera de radio 5?\n",
    "\n",
    "3. Suponga que el precio de un libro es de 57.500 y la librería tiene un 40\\% de descuento. Los costos de envío son \\$5.500\\$ para la primera copia y \\$1.500 \\$ por cada copia adicional. Cuál es el costo total de 60 copias? \n",
    "\n",
    "4. La fórmula de [Herón](https://es.wikipedia.org/wiki/Fórmula_de_Herón \"Fórmula de Herón\") ofrece una forma de obtener el área de un triángulo dados los lados $a$, $b$ y $c$: \n",
    "\n",
    "$$Área = \\sqrt{s(s-a)(s-b)(s-c)}$$ donde $$s=\\frac{a+b+c}{2}$$ \n",
    "\n",
    "Haga un programa en Python que calcule el área del triángulo empleando la fórmula de Herón y usando única y exclusivamente los comandos vistos hasta el momento."
   ]
  },
  {
   "cell_type": "markdown",
   "metadata": {
    "slideshow": {
     "slide_type": "slide"
    }
   },
   "source": [
    "2. El volumen de una esfera de radio $r$ es $\\frac{4}{3} \\pi r^3$. Cuál es el volúmen de una esfera de radio 5?"
   ]
  },
  {
   "cell_type": "code",
   "execution_count": null,
   "metadata": {},
   "outputs": [],
   "source": [
    "r = float(input(\"Ingrese el valor del radio de la esfera: \"))\n",
    "pi = 3.14159265359 # valor del número pi\n",
    "V = 4*pi*r**3/3 # cálculo del volúmen de una esfera de radio r\n",
    "print(\"El Volumen de una esfera de radio {0:5.2f} es {1:5.2f}\".format(r,V))"
   ]
  },
  {
   "cell_type": "code",
   "execution_count": null,
   "metadata": {},
   "outputs": [],
   "source": [
    "# Datos de entrada\n",
    "lado1 = float(input(\"Ingrese el valor del lado 1: \"))\n",
    "lado2 = float(input(\"Ingrese el valor del lado 2: \"))\n",
    "lado3 = float(input(\"Ingrese el valor del lado 3: \"))"
   ]
  },
  {
   "cell_type": "code",
   "execution_count": null,
   "metadata": {},
   "outputs": [],
   "source": [
    "# cálculo del semiperímetro\n",
    "sp = (lado1 + lado2 + lado3) / 2"
   ]
  },
  {
   "cell_type": "code",
   "execution_count": null,
   "metadata": {},
   "outputs": [],
   "source": [
    "# cálculo del área del triángulo\n",
    "At = (sp*(sp-lado1)*(sp-lado2)*(sp-lado3))**0.5\n",
    "print(At)"
   ]
  },
  {
   "cell_type": "code",
   "execution_count": null,
   "metadata": {},
   "outputs": [],
   "source": []
  },
  {
   "cell_type": "code",
   "execution_count": null,
   "metadata": {},
   "outputs": [],
   "source": []
  }
 ],
 "metadata": {
  "anaconda-cloud": {},
  "celltoolbar": "Slideshow",
  "kernelspec": {
   "display_name": "Python 3",
   "language": "python",
   "name": "python3"
  },
  "language_info": {
   "codemirror_mode": {
    "name": "ipython",
    "version": 3
   },
   "file_extension": ".py",
   "mimetype": "text/x-python",
   "name": "python",
   "nbconvert_exporter": "python",
   "pygments_lexer": "ipython3",
   "version": "3.7.3"
  },
  "latex_envs": {
   "LaTeX_envs_menu_present": true,
   "autocomplete": true,
   "bibliofile": "biblio.bib",
   "cite_by": "apalike",
   "current_citInitial": 1,
   "eqLabelWithNumbers": true,
   "eqNumInitial": 1,
   "hotkeys": {
    "equation": "Ctrl-E",
    "itemize": "Ctrl-I"
   },
   "labels_anchors": false,
   "latex_user_defs": false,
   "report_style_numbering": true,
   "user_envs_cfg": true
  }
 },
 "nbformat": 4,
 "nbformat_minor": 2
}
