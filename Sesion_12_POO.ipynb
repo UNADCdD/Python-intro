{
 "cells": [
  {
   "cell_type": "markdown",
   "metadata": {},
   "source": [
    "<h1 align=\"center\">Curso Introducción a Python</h1>\n",
    "\n",
    "<h2 align=\"center\">Universidad EAFIT - Bancolombia</h2>\n",
    "\n",
    "<h3 align=\"center\">MEDELLÍN - COLOMBIA </h3>"
   ]
  },
  {
   "cell_type": "markdown",
   "metadata": {},
   "source": [
    "<h2 align=\"center\">Sesión 12 - Programación Orientada a Objetos - POO</h2>"
   ]
  },
  {
   "cell_type": "markdown",
   "metadata": {},
   "source": [
    "## Instructor:\n",
    "> <strong> *Carlos Alberto Álvarez Henao, I.C. Ph.D.* </strong> "
   ]
  },
  {
   "cell_type": "markdown",
   "metadata": {},
   "source": [
    "**Nota:** Ese capítulo está basado principalmente en las notas del curso [Python Course OOP](https://www.python-course.eu/python3_object_oriented_programming.php \"OOP\")"
   ]
  },
  {
   "cell_type": "markdown",
   "metadata": {},
   "source": [
    "# Programación Orientada a Objetos - POO\n",
    "\n",
    "Aunque Python es un lenguaje orientado a objetos sin objeciones, hasta ahora hemos evitado intencionalmente el tratamiento de la programación orientada a objetos (OOP, de las siglas en inglés) en los capítulos anteriores de nuestro tutorial de Python. Nos saltamos la OOP, porque estamos convencidos de que es más fácil y divertido comenzar a aprender Python sin tener que conocer todos los detalles de la programación orientada a objetos.\n",
    "\n",
    "Pero a pesar de que hemos evitado la OOP, siempre ha estado presente en los ejercicios y ejemplos a lo largo del curso. Utilizamos objetos y métodos de las clases sin explicar adecuadamente sus antecedentes de OOP. En este capítulo, nos pondremos al día con lo que faltaba hasta ahora. Proporcionaremos una introducción a los principios de la programación orientada a objetos en general y a los detalles del enfoque OOP de Python. OOP es una de las herramientas más poderosas de Python, sin embargo, no tiene que usarla, es decir, también puede escribir programas potentes y eficientes sin ella."
   ]
  },
  {
   "cell_type": "markdown",
   "metadata": {},
   "source": [
    "## Un poco de historia\n",
    "\n",
    "Aunque muchos informáticos y programadores consideran que OOP es un paradigma de programación moderno, las raíces se remontan a la década de 1960. El primer lenguaje de programación en usar objetos fue [Simula 67](https://en.wikipedia.org/wiki/Simula \"Simula67\"). Como su nombre lo indica, Simula 67 se introdujo en el año 1967. Un avance importante para la programación orientada a objetos llegó con el lenguaje de programación [Smalltalk](https://en.wikipedia.org/wiki/Smalltalk \"Smalltalk\") en la década de 1970.\n",
    "\n",
    "Aprenderá a conocer los cuatro principios principales de la orientación a objetos y la forma en que Python los trata en la siguiente sección de este tutorial sobre programación orientada a objetos:\n",
    "\n",
    "- Encapsulamiento\n",
    "\n",
    "\n",
    "- Abstracción de datos\n",
    "\n",
    "\n",
    "- Polimorfismo\n",
    "\n",
    "\n",
    "- Herencia"
   ]
  },
  {
   "cell_type": "markdown",
   "metadata": {},
   "source": [
    "Antes de comenzar con la sección sobre cómo se usa OOP en Python, daremos una idea general sobre la programación orientada a objetos. Para este propósito, pensemos en una enorme biblioteca, como la \"Biblioteca Británica\" en Londres o la \"Biblioteca Pública de Nueva York\" en Nueva York. Si ayuda, también puede imaginar las bibliotecas de París, Berlín, Ottawa o Toronto, o incluso la de la empresa, o la de EAFIT. Cada uno de estas bibliotecas contiene una colección organizada de libros, publicaciones periódicas, periódicos, audiolibros, películas, etc."
   ]
  },
  {
   "cell_type": "markdown",
   "metadata": {},
   "source": [
    "## Generalidades de la OOP\n",
    "\n",
    "En general, hay dos formas opuestas de mantener el stock en una biblioteca. Puede utilizar un método de \"acceso cerrado\", es decir, el stock no se muestra en los estantes abiertos. En este sistema, personal capacitado lleva los libros y otras publicaciones a los usuarios a pedido. Otra forma de ejecutar una biblioteca es la estantería de acceso abierto, también conocida como \"estanterías abiertas\". \"Abierto\" significa abierto a todos los usuarios de la biblioteca, no solo al personal especialmente capacitado. En este caso, los libros se muestran abiertamente. \n",
    "\n",
    "Lenguajes imperativos como `C` podrían verse como bibliotecas de estanterías de acceso abierto. El usuario puede hacer todo. Depende del usuario encontrar los libros y volver a colocarlos en el estante correcto. Si bien esto es excelente para el usuario, a la larga puede ocasionar problemas graves. Por ejemplo, algunos libros estarán fuera de lugar, por lo que es difícil encontrarlos nuevamente. Como ya habrá adivinado, el \"acceso cerrado\" se puede comparar con la programación orientada a objetos. La analogía puede verse así: los libros y otras publicaciones, que ofrece una biblioteca, son como los datos de un programa orientado a objetos. El acceso a los libros está restringido como el acceso a los datos está restringido en OOP. Obtener o devolver un libro solo es posible a través del personal. El personal funciona como los *métodos* en OOP, que controlan el acceso a los datos. Por lo tanto, los datos, a menudo llamados *atributos*, en un programa de este tipo pueden verse ocultos y protegidos por un shell, y solo se puede acceder a ellos mediante funciones especiales, generalmente llamadas *métodos* en el contexto OOP. Poner los datos detrás de un \"shell\" se llama *Encapsulación*.\n",
    "\n",
    "Por lo tanto, una biblioteca puede considerarse como una *clase* y un libro es una *instancia* o un *objeto de esta clase*. En términos generales, un *objeto* está definido por una *clase*. Una *clase* es una descripción formal de cómo se diseña un *objeto*, es decir, qué *atributos* y *métodos* tiene. Estos *objetos* también se llaman *instancias*. En la mayoría de los casos, las expresiones se usan como sinónimos. Una *clase* no debe confundirse con un *objeto*."
   ]
  },
  {
   "cell_type": "markdown",
   "metadata": {},
   "source": [
    "## OOP en Python\n",
    "\n",
    "Aunque no hemos hablado sobre *clases* y *orientación a objetos* en capítulos anteriores, hemos trabajado con *clases* todo el tiempo. De hecho, *todo es una clase en Python*. [Guido van Rossum](https://en.wikipedia.org/wiki/Guido_van_Rossum \"Guido van Rossum\") ha diseñado el lenguaje según el principio \"*first-class everything*\"(\"todo de primera clase\"). Él escribió: \"*Uno de mis objetivos para Python era hacer que todos los objetos fueran de \"primera clase\". Con esto, quise decir que quería todos los objetos que pudieran nombrarse en el lenguaje (por ejemplo, enteros, cadenas, funciones, clases, módulos, métodos, etc.) para tener el mismo estado. Es decir, pueden asignarse a variables, colocarse en listas, almacenarse en diccionarios, pasarse como argumentos, y así sucesivamente*\". ([Blog, The History of Python](http://python-history.blogspot.com/ \"The History of Python\"), 27 de febrero de 2009) Esto significa que \"todo\" se trata de la misma manera, todo es una *clase*: las *funciones* y los *métodos* son valores como listas, enteros o flotantes. Cada uno de estos son *instancias* de sus *clases* correspondientes."
   ]
  },
  {
   "cell_type": "code",
   "execution_count": null,
   "metadata": {},
   "outputs": [],
   "source": [
    "x = 42\n",
    "type(x)"
   ]
  },
  {
   "cell_type": "code",
   "execution_count": null,
   "metadata": {},
   "outputs": [],
   "source": [
    "y = 4.34\n",
    "type(y)"
   ]
  },
  {
   "cell_type": "code",
   "execution_count": null,
   "metadata": {},
   "outputs": [],
   "source": [
    "def f(x):\n",
    "    return x + 1\n",
    " \n",
    "type(f)"
   ]
  },
  {
   "cell_type": "code",
   "execution_count": null,
   "metadata": {},
   "outputs": [],
   "source": [
    "import math\n",
    "type(math)"
   ]
  },
  {
   "cell_type": "markdown",
   "metadata": {},
   "source": [
    "Una de las muchas clases integradas en Python es la clase `list`, que hemos utilizado con bastante frecuencia en nuestros ejercicios y ejemplos. La clase `list` proporciona una gran cantidad de métodos para crear listas, acceder y cambiar elementos, o eliminar elementos:"
   ]
  },
  {
   "cell_type": "code",
   "execution_count": null,
   "metadata": {},
   "outputs": [],
   "source": [
    "x = [3,6,9]\n",
    "y = [45, \"abc\"]\n",
    "print(x[1])"
   ]
  },
  {
   "cell_type": "markdown",
   "metadata": {},
   "source": [
    "Las variables `x` y `y` del ejemplo anterior denotan dos instancias de la clase `list`. En términos simplificados, hemos dicho hasta ahora que \"`x` y `y` son listas\". Usaremos los términos \"*objeto*\" e \"*instancia*\" como sinónimos en los siguientes capítulos, como a menudo se hace."
   ]
  },
  {
   "cell_type": "code",
   "execution_count": null,
   "metadata": {},
   "outputs": [],
   "source": [
    "x[1] = 99\n",
    "x.append(42)\n",
    "last = y.pop()\n",
    "print(last)"
   ]
  },
  {
   "cell_type": "markdown",
   "metadata": {},
   "source": [
    "`pop` y `append` del ejemplo anterior son métodos de la clase `list`. `pop` devuelve el elemento más superior (o podría considerarse como el elemento \"más adecuado\") de la lista y elimina este elemento de la lista. No explicaremos cómo Python ha implementado listas internamente. No necesitamos esta información, porque la clase `list` nos proporciona todos los métodos necesarios para acceder a los datos indirectamente. Esto significa que los detalles de la *encapsulación* están encapsulados. Aprenderemos sobre la encapsulación más adelante."
   ]
  },
  {
   "cell_type": "markdown",
   "metadata": {},
   "source": [
    "## Una clase mínima en Python\n",
    "\n",
    "Diseñaremos y utilizaremos una clase robot en Python como ejemplo para demostrar los términos e ideas más importantes de orientación a objetos. Comenzaremos con la clase más simple en Python."
   ]
  },
  {
   "cell_type": "code",
   "execution_count": null,
   "metadata": {},
   "outputs": [],
   "source": [
    "class robot:\n",
    "    pass"
   ]
  },
  {
   "cell_type": "markdown",
   "metadata": {},
   "source": [
    "Una *clase* consta de dos partes: el encabezado y el cuerpo. El encabezado generalmente consta de una sola línea de código. Comienza con la palabra clave \"`class`\" seguida de un espacio en blanco y un nombre arbitrario para la clase. El nombre de la clase es \"*robot*\" en nuestro caso. El nombre de la clase es seguido por una lista de otros nombres de clase, que son clases de las cuales la clase definida hereda. Estas clases se denominan superclases, clases base o, a veces, clases primarias. Si observa nuestro ejemplo, verá que esta lista de superclases no es obligatoria. No tiene que preocuparse por la herencia y las superclases por el momento. Los presentaremos más tarde.\n",
    "\n",
    "El cuerpo de una clase consiste en un bloque indentado de declaraciones. En nuestro caso, una sola declaración, la declaración \"`pass`\".\n",
    "\n",
    "Se crea un objeto de clase, cuando la definición se deja normalmente, es decir, al final. Esto es básicamente una envoltura alrededor del contenido del espacio de nombres creado por la definición de clase.\n",
    "\n",
    "Es difícil de creer, especialmente para los programadores de `C++` o `Java`, pero ya hemos definido una clase completa con solo tres palabras y dos líneas de código. Somos capaces de usar esta clase también:"
   ]
  },
  {
   "cell_type": "markdown",
   "metadata": {},
   "source": [
    "Vamos a crear dos robots diferentes `x` y `y` en nuestro ejemplo. Además de esto, vamos a crear una referencia `y2` a `y`, es decir, `y2` es un nombre de alias para `y`. El resultado de este programa de ejemplo se ve así:"
   ]
  },
  {
   "cell_type": "code",
   "execution_count": null,
   "metadata": {},
   "outputs": [],
   "source": [
    "x = robot()\n",
    "y = robot()\n",
    "y2 = y\n",
    "print(y == y2)\n",
    "print(y == x)"
   ]
  },
  {
   "cell_type": "markdown",
   "metadata": {},
   "source": [
    "## Atributos\n",
    "\n",
    "Aquellos que ya han aprendido otro lenguaje orientado a objetos, se habrán dado cuenta de que los términos atributos y propiedades generalmente se usan como sinónimos. Incluso puede usarse en la definición de un atributo, como lo hace Wikipedia: \"*En informática, un atributo es una especificación que define una propiedad de un objeto, elemento o archivo. También puede referirse o establecer el valor específico para un caso dado de tal*\".\n",
    "\n",
    "Incluso en el uso normal del inglés, las palabras \"*attribute*\" y \"*property*\" pueden usarse en algunos casos como sinónimos. Ambos pueden tener el significado \"*Un atributo, característica, calidad o característica de algo o alguien*\". Por lo general, se usa un \"atributo\" para denotar una habilidad o característica específica que algo o alguien tiene, como cabello negro, sin cabello, o una percepción rápida, o \"su rapidez para comprender nuevas tareas\". Entonces, piense un poco en sus atributos sobresalientes. ¿Qué pasa con sus \"propiedades sobresalientes\"? ¡Genial, si uno de tus puntos fuertes es tu capacidad para comprender y adaptarte rápidamente a nuevas situaciones! De lo contrario, ¡no aprenderías Python!\n",
    "\n",
    "Volvamos a Python: luego aprenderemos que las propiedades y los atributos son cosas esencialmente diferentes en Python. Esta subsección de nuestro tutorial trata sobre los atributos en Python. Hasta ahora, nuestros robots no tienen atributos. Ni siquiera un nombre, como es habitual en los robots comunes, ¿no? Entonces, implementemos un atributo de nombre. \"designación de tipo\", \"año de construcción\", etc., son fácilmente concebibles como atributos adicionales también.\n",
    "\n",
    "Los atributos se crean dentro de una definición de clase, como pronto aprenderemos. Podemos crear dinámicamente nuevos atributos arbitrarios para instancias existentes de una clase. Hacemos esto uniendo un nombre arbitrario al nombre de la instancia, separado por un punto \"`.`\". En el siguiente ejemplo, demostramos esto al crear un atributo para el nombre y el año de construcción:"
   ]
  },
  {
   "cell_type": "code",
   "execution_count": null,
   "metadata": {},
   "outputs": [],
   "source": [
    "x.name = \"Marvin\"\n",
    "x.build_year = \"1979\"\n",
    "\n",
    "y.name = \"Caliban\"\n",
    "y.build_year = \"1993\""
   ]
  },
  {
   "cell_type": "code",
   "execution_count": null,
   "metadata": {},
   "outputs": [],
   "source": [
    "print(x.name)\n",
    "print(y.build_year)"
   ]
  },
  {
   "cell_type": "markdown",
   "metadata": {},
   "source": [
    "Como hemos dicho antes: esta no es la forma de crear correctamente los atributos de instancia. Introdujimos este ejemplo, porque creemos que puede ayudar a facilitar la comprensión de las siguientes explicaciones.\n",
    "\n",
    "Si quiere saber qué sucede internamente: las instancias poseen diccionarios `__dict__`, que utilizan para almacenar sus atributos y sus valores correspondientes:"
   ]
  },
  {
   "cell_type": "code",
   "execution_count": null,
   "metadata": {},
   "outputs": [],
   "source": [
    "x.__dict__"
   ]
  },
  {
   "cell_type": "code",
   "execution_count": null,
   "metadata": {},
   "outputs": [],
   "source": [
    "y.__dict__"
   ]
  },
  {
   "cell_type": "markdown",
   "metadata": {},
   "source": [
    "Los atributos también pueden vincularse a los nombres de clase. En este caso, cada instancia también tendrá este nombre. Tenga cuidado con lo que sucede si asigna el mismo nombre a una instancia:"
   ]
  },
  {
   "cell_type": "code",
   "execution_count": null,
   "metadata": {},
   "outputs": [],
   "source": [
    "class robot(object):\n",
    "    pass"
   ]
  },
  {
   "cell_type": "code",
   "execution_count": null,
   "metadata": {},
   "outputs": [],
   "source": [
    "x = robot()\n",
    "robot.brand = \"Kuka\"\n",
    "x.brand"
   ]
  },
  {
   "cell_type": "code",
   "execution_count": null,
   "metadata": {},
   "outputs": [],
   "source": [
    "x.brand = \"Thales\"\n",
    "robot.brand"
   ]
  },
  {
   "cell_type": "code",
   "execution_count": null,
   "metadata": {},
   "outputs": [],
   "source": [
    "y = robot()\n",
    "y.brand"
   ]
  },
  {
   "cell_type": "code",
   "execution_count": null,
   "metadata": {},
   "outputs": [],
   "source": [
    "robot.brand = \"Thales\"\n",
    "y.brand"
   ]
  },
  {
   "cell_type": "code",
   "execution_count": null,
   "metadata": {},
   "outputs": [],
   "source": [
    "x.brand"
   ]
  },
  {
   "cell_type": "markdown",
   "metadata": {},
   "source": [
    "Si observa los diccionarios `__dict__`, puede ver lo que está sucediendo."
   ]
  },
  {
   "cell_type": "code",
   "execution_count": null,
   "metadata": {},
   "outputs": [],
   "source": [
    "x.__dict__"
   ]
  },
  {
   "cell_type": "code",
   "execution_count": null,
   "metadata": {},
   "outputs": [],
   "source": [
    "y.__dict__"
   ]
  },
  {
   "cell_type": "code",
   "execution_count": null,
   "metadata": {},
   "outputs": [],
   "source": [
    "robot.__dict__"
   ]
  },
  {
   "cell_type": "markdown",
   "metadata": {},
   "source": [
    "Si intenta acceder a `y.brand`, `Python` comprueba primero, si \"`brand`\" es una clave del diccionario `y.__ dict__.` Si no es así, `Python` comprueba si \"`brand`\" es una clave del `robot.__ dict__.` Si es así, se puede recuperar el valor.\n",
    "\n",
    "Si el nombre de un atributo no está incluido en ninguno de los diccionarios, el nombre del atributo no está definido. Si intenta acceder a un atributo no existente, generará un `AttributeError`:"
   ]
  },
  {
   "cell_type": "code",
   "execution_count": null,
   "metadata": {},
   "outputs": [],
   "source": [
    "x.energy"
   ]
  },
  {
   "cell_type": "markdown",
   "metadata": {},
   "source": [
    "Al usar la función `getattr`, puede evitar esta excepción, si proporciona un valor predeterminado como tercer argumento:"
   ]
  },
  {
   "cell_type": "code",
   "execution_count": null,
   "metadata": {},
   "outputs": [],
   "source": [
    "getattr(x, 'energy', 100)"
   ]
  },
  {
   "cell_type": "markdown",
   "metadata": {},
   "source": [
    "La vinculación de atributos a objetos es un concepto general en `Python`. Incluso se pueden atribuir nombres de funciones. Puede vincular un atributo a un nombre de función de la misma manera, hasta ahora lo hemos hecho con otras instancias de clases:"
   ]
  },
  {
   "cell_type": "code",
   "execution_count": null,
   "metadata": {},
   "outputs": [],
   "source": [
    "def f(x):\n",
    "    return 42"
   ]
  },
  {
   "cell_type": "code",
   "execution_count": null,
   "metadata": {},
   "outputs": [],
   "source": [
    "f.x = 42\n",
    "print(f.x)"
   ]
  },
  {
   "cell_type": "markdown",
   "metadata": {},
   "source": [
    "Esto se puede usar como un reemplazo para las variables de función estática de `C` y `C++`, que no son posibles en `Python`. Usamos un atributo de contador en el siguiente ejemplo:"
   ]
  },
  {
   "cell_type": "code",
   "execution_count": null,
   "metadata": {},
   "outputs": [],
   "source": [
    "def f(x):\n",
    "    f.counter = getattr(f, \"counter\", 0) + 1 \n",
    "    return \"Monty Python\""
   ]
  },
  {
   "cell_type": "code",
   "execution_count": null,
   "metadata": {},
   "outputs": [],
   "source": [
    "for i in range(10):\n",
    "    f(i)\n",
    "    \n",
    "print(f.counter)"
   ]
  },
  {
   "cell_type": "markdown",
   "metadata": {},
   "source": [
    "Si llama a este pequeño script, generará 10.\n",
    "\n",
    "Puede surgir cierta incertidumbre en este punto. Es posible asignar atributos a la mayoría de las instancias de clase, pero esto no tiene nada que ver con la definición de clases. Pronto veremos cómo asignar atributos cuando definimos una clase.\n",
    "\n",
    "Para crear correctamente instancias de clases también necesitamos métodos. Aprenderá en la siguiente subsección de nuestro tutorial de Python, cómo puede definir métodos."
   ]
  },
  {
   "cell_type": "markdown",
   "metadata": {},
   "source": [
    "## Métodos\n",
    "\n",
    "Ahora demostraremos cómo podemos definir métodos en clases.\n",
    "\n",
    "Los métodos en `Python` son esencialmente funciones de acuerdo con el dicho de *Guido* \"*todo de primera clase*\".\n",
    "\n",
    "Definamos una función \"`hi`\", que toma un objeto \"`obj`\" como argumento y supone que este objeto tiene un atributo \"`name`\". También definiremos nuevamente nuestra clase básica de `robot`:"
   ]
  },
  {
   "cell_type": "code",
   "execution_count": null,
   "metadata": {},
   "outputs": [],
   "source": [
    "def hi(obj):\n",
    "    print(\"Hola, yo soy \" + obj.name + \"!\")"
   ]
  },
  {
   "cell_type": "code",
   "execution_count": null,
   "metadata": {},
   "outputs": [],
   "source": [
    "class robot:\n",
    "    pass"
   ]
  },
  {
   "cell_type": "code",
   "execution_count": null,
   "metadata": {},
   "outputs": [],
   "source": [
    "x = robot()\n",
    "x.name = \"Marvin\"\n",
    "hi(x)"
   ]
  },
  {
   "cell_type": "markdown",
   "metadata": {},
   "source": [
    "Ahora vincularemos la función \"`hi`\" a un atributo de clase \"`say_hi`\"!"
   ]
  },
  {
   "cell_type": "code",
   "execution_count": null,
   "metadata": {},
   "outputs": [],
   "source": [
    "class robot:\n",
    "    say_hi = hi"
   ]
  },
  {
   "cell_type": "code",
   "execution_count": null,
   "metadata": {},
   "outputs": [],
   "source": [
    "x = robot()\n",
    "x.name = \"Marvin\"\n",
    "robot.say_hi(x)"
   ]
  },
  {
   "cell_type": "markdown",
   "metadata": {},
   "source": [
    "\"`say_hi`\" se llama un *método*. Por lo general, se llamará así:\n",
    "\n",
    "`x.say_hi()`\n",
    "\n",
    "Es posible definir métodos como este, pero no debe hacerlo."
   ]
  },
  {
   "cell_type": "markdown",
   "metadata": {},
   "source": [
    "La forma correcta de hacerlo sería:\n",
    "\n",
    "- En lugar de definir una función fuera de una definición de clase y vincularla a un atributo de clase, definimos un método directamente dentro (indentado) de una definición de clase.\n",
    "\n",
    "\n",
    "- Un *método* es \"solo\" una función que se define dentro de una *clase*.\n",
    "\n",
    "\n",
    "- El primer parámetro se utiliza como referencia para la instancia de llamada.\n",
    "\n",
    "\n",
    "- Este parámetro generalmente se llama `self`.\n",
    "\n",
    "\n",
    "- `self` corresponde al objeto `robot x`."
   ]
  },
  {
   "cell_type": "markdown",
   "metadata": {},
   "source": [
    "Hemos visto que un método difiere de una función solo en dos aspectos:\n",
    "\n",
    "- Pertenece a una clase y se define dentro de una clase.\n",
    "\n",
    "\n",
    "- El primer parámetro en la definición de un método tiene que ser una referencia a la instancia, que llamó al método. Este parámetro generalmente se llama \"`self`\"."
   ]
  },
  {
   "cell_type": "markdown",
   "metadata": {},
   "source": [
    "De hecho, \"`self`\" no es una palabra clave de Python. ¡Es solo una convención de nombres! Por lo tanto, los programadores de `C++` o `Java` son libres de llamarlo \"así\", pero de esta manera se arriesgan a que otros tengan mayores dificultades para comprender su código.\n",
    "\n",
    "La mayoría de los otros lenguajes de programación orientados a objetos pasan la referencia al objeto (`self`) como un parámetro oculto a los métodos.\n",
    "\n",
    "Viste antes que las llamadas `robot.say_hi(x)`\" y \"`x.say_hi()`\" son equivalentes. \"`X.say_hi()`\" puede verse como una forma \"*abreviada*\", es decir, Python lo vincula automáticamente a la instancia nombre. Además de esto \"`x.say_hi()`\" es la forma habitual de llamar a métodos en Python y en otros lenguajes orientados a objetos."
   ]
  },
  {
   "cell_type": "markdown",
   "metadata": {},
   "source": [
    "Para una clase `C`, una instancia `x` de `C` y un método `m` de `C`, las siguientes tres llamadas a métodos son equivalentes:\n",
    "\n",
    "- `tipo (x) .m (x, ...)`\n",
    "\n",
    "\n",
    "- `C.m (x, ...)`\n",
    "\n",
    "\n",
    "- `x.m (...)`"
   ]
  },
  {
   "cell_type": "markdown",
   "metadata": {},
   "source": [
    "Antes de continuar, puede reflexionar sobre el ejemplo anterior por un tiempo. ¿Puedes entender qué hay de malo en el diseño?\n",
    "\n",
    "Hay más de una cosa sobre este código, que puede molestarlo, pero el problema esencial en este momento es el hecho de que creamos un robot y que después de la creación, ¡no debemos olvidar nombrarlo! Si lo olvidamos, se generará un error `say_hi`.\n",
    "\n",
    "Necesitamos un mecanismo para inicializar una instancia justo después de su creación. Este es el método `__init __`, que cubrimos en la siguiente sección."
   ]
  },
  {
   "cell_type": "markdown",
   "metadata": {},
   "source": [
    "## Método `__init__`\n",
    "\n",
    "Queremos definir los atributos de una instancia justo después de su creación. `__init__` es un método que se llama de forma inmediata y automática una vez que se ha creado una instancia. Este nombre es fijo y no es posible elegir otro nombre. `__init__` es uno de los llamados métodos mágicos, del cual conoceremos más detalles más adelante. El método `__init__` se usa para inicializar una instancia. No hay un constructor explícito o un método destructor en `Python`, como se los conoce en `C++` y `Java`. El método `__init__` puede estar en cualquier lugar de una definición de clase, pero generalmente es el primer método de una clase, es decir, se sigue justo después del encabezado de la clase."
   ]
  },
  {
   "cell_type": "code",
   "execution_count": null,
   "metadata": {},
   "outputs": [],
   "source": [
    "class A:\n",
    "    def __init__(self):\n",
    "        print(\"__init__ has been executed!\")"
   ]
  },
  {
   "cell_type": "code",
   "execution_count": null,
   "metadata": {},
   "outputs": [],
   "source": [
    "x = A()"
   ]
  },
  {
   "cell_type": "markdown",
   "metadata": {},
   "source": [
    "Agregamos un método `__init __` a nuestra clase `robot`:"
   ]
  },
  {
   "cell_type": "code",
   "execution_count": null,
   "metadata": {},
   "outputs": [],
   "source": [
    "class robot:\n",
    " \n",
    "    def __init__(self, name=None):\n",
    "        self.name = name   \n",
    "        \n",
    "    def say_hi(self):\n",
    "        if self.name:\n",
    "            print(\"Hola, yo soy \" + self.name)\n",
    "        else:\n",
    "            print(\"Hola, yo soy un robot sin nombre ;( \")"
   ]
  },
  {
   "cell_type": "markdown",
   "metadata": {},
   "source": [
    "Este pequeño programa devolverá lo siguiente"
   ]
  },
  {
   "cell_type": "code",
   "execution_count": null,
   "metadata": {},
   "outputs": [],
   "source": [
    "x = robot()\n",
    "x.say_hi()\n",
    "y = robot(\"Marvin\")\n",
    "y.say_hi()"
   ]
  },
  {
   "cell_type": "markdown",
   "metadata": {},
   "source": [
    "# Abstracción de datos, encapsulación de datos y ocultamiento de información"
   ]
  },
  {
   "cell_type": "markdown",
   "metadata": {},
   "source": [
    "## Definición de términos\n",
    "\n",
    "La abstracción de datos, la encapsulación de datos y la ocultación de información a menudo se usan como sinónimos en libros y tutoriales sobre OOP. Pero hay una diferencia. La encapsulación se ve como la agrupación de datos con los métodos que operan en esos datos. La información oculta, por otro lado, es el principio de que cierta información interna o datos están \"ocultos\", por lo que no se puede cambiar accidentalmente. La encapsulación de datos a través de métodos no significa necesariamente que los datos estén ocultos. Es posible que pueda acceder y ver los datos de todos modos, pero se recomienda usar los métodos. Finalmente, la abstracción de datos está presente, si se utilizan tanto la ocultación de datos como la encapsulación de datos. Esto significa que la abstracción de datos es el término más amplio:\n",
    "\n",
    "`Abstracción de datos = Encapsulación de datos + Ocultación de datos`\n",
    "\n"
   ]
  },
  {
   "attachments": {
    "data_abstraction.png": {
     "image/png": "[encoded data removed]"
    }
   },
   "cell_type": "markdown",
   "metadata": {},
   "source": [
    "![data_abstraction.png](attachment:data_abstraction.png)"
   ]
  },
  {
   "cell_type": "markdown",
   "metadata": {},
   "source": [
    "La encapsulación a menudo se logra al proporcionar dos tipos de métodos para los atributos: Los métodos para recuperar o acceder a los valores de los atributos se denominan métodos adquiridores (*getter*). Los métodos adquiridores no cambian los valores de los atributos, solo devuelven los valores. Los métodos utilizados para cambiar los valores de los atributos se denominan métodos de establecimiento (*setter*).\n",
    "\n",
    "Definiremos ahora una clase `robot` con un *getter* y un *setter* para el atributo de nombre. Los llamaremos `get_name` y `set_name` en consecuencia."
   ]
  },
  {
   "cell_type": "code",
   "execution_count": null,
   "metadata": {},
   "outputs": [],
   "source": [
    "class robot:\n",
    " \n",
    "    def __init__(self, name=None):\n",
    "        self.name = name   \n",
    "        \n",
    "    def say_hi(self):\n",
    "        if self.name:\n",
    "            print(\"Hola, yo soy \" + self.name)\n",
    "        else:\n",
    "            print(\"Hola, yo soy un robot sin nombre\")\n",
    "            \n",
    "    def set_name(self, name):\n",
    "        self.name = name\n",
    "        \n",
    "    def get_name(self):\n",
    "        return self.name"
   ]
  },
  {
   "cell_type": "markdown",
   "metadata": {},
   "source": [
    "este programa imprime lo siguiente:"
   ]
  },
  {
   "cell_type": "code",
   "execution_count": null,
   "metadata": {},
   "outputs": [],
   "source": [
    "x = robot()\n",
    "x.set_name(\"Henry\")\n",
    "x.say_hi()\n",
    "y = robot()\n",
    "y.set_name(x.get_name())\n",
    "print(y.get_name())"
   ]
  },
  {
   "cell_type": "markdown",
   "metadata": {},
   "source": [
    "Antes de continuar, puedes hacer un poco de ejercicio. Puede agregar un atributo adicional \"`build_year`\" con `getter` y `setter` a la clase robot."
   ]
  },
  {
   "cell_type": "code",
   "execution_count": null,
   "metadata": {},
   "outputs": [],
   "source": [
    "class robot:\n",
    " \n",
    "    def __init__(self, \n",
    "                 name=None,\n",
    "                 build_year=None):\n",
    "        self.name = name   \n",
    "        self.build_year = build_year\n",
    "        \n",
    "    def say_hi(self):\n",
    "        if self.name:\n",
    "            print(\"Hola, yo soy \" + self.name)\n",
    "        else:\n",
    "            print(\"Hola, soy un robot sin nombre\")\n",
    "        if self.build_year:\n",
    "            print(\"Fuí construído en \" + str(self.build_year))\n",
    "        else:\n",
    "            print(\"no sé cuando fui creado!\")\n",
    "            \n",
    "    def set_name(self, name):\n",
    "        self.name = name\n",
    "        \n",
    "    def get_name(self):\n",
    "        return self.name    \n",
    "\n",
    "    def set_build_year(self, by):\n",
    "        self.build_year = by\n",
    "        \n",
    "    def get_build_year(self):\n",
    "        return self.build_year    "
   ]
  },
  {
   "cell_type": "markdown",
   "metadata": {},
   "source": [
    "El programa devuelve lo siguiente"
   ]
  },
  {
   "cell_type": "code",
   "execution_count": null,
   "metadata": {},
   "outputs": [],
   "source": [
    "x = robot(\"Henry\", 2008)\n",
    "y = robot()\n",
    "y.set_name(\"Marvin\")\n",
    "x.say_hi()\n",
    "y.say_hi()"
   ]
  },
  {
   "cell_type": "markdown",
   "metadata": {},
   "source": [
    "## Métodos `__str__` y `__repr__`\n",
    "\n",
    "Vamos a presentar dos métodos mágicos importantes \"`__str__`\" y \"`__repr__`\", que necesitaremos en futuros ejemplos. En el curso de este tutorial, ya hemos encontrado el método `__str__`. Hemos visto que podemos representar varios datos como una cadena usando la función `str`, que usa \"mágicamente\" el método interno `__str__` del tipo de datos correspondiente. `__repr__` es similar. También produce una representación de cadena."
   ]
  },
  {
   "cell_type": "code",
   "execution_count": 1,
   "metadata": {},
   "outputs": [],
   "source": [
    "l = [\"Python\", \"Java\", \"C++\", \"Perl\"]"
   ]
  },
  {
   "cell_type": "code",
   "execution_count": 2,
   "metadata": {},
   "outputs": [
    {
     "name": "stdout",
     "output_type": "stream",
     "text": [
      "['Python', 'Java', 'C++', 'Perl']\n"
     ]
    }
   ],
   "source": [
    "print(l)"
   ]
  },
  {
   "cell_type": "code",
   "execution_count": 3,
   "metadata": {},
   "outputs": [
    {
     "data": {
      "text/plain": [
       "\"['Python', 'Java', 'C++', 'Perl']\""
      ]
     },
     "execution_count": 3,
     "metadata": {},
     "output_type": "execute_result"
    }
   ],
   "source": [
    "str(l)"
   ]
  },
  {
   "cell_type": "code",
   "execution_count": 4,
   "metadata": {},
   "outputs": [
    {
     "data": {
      "text/plain": [
       "\"['Python', 'Java', 'C++', 'Perl']\""
      ]
     },
     "execution_count": 4,
     "metadata": {},
     "output_type": "execute_result"
    }
   ],
   "source": [
    "repr(l)"
   ]
  },
  {
   "cell_type": "code",
   "execution_count": 5,
   "metadata": {},
   "outputs": [
    {
     "name": "stdout",
     "output_type": "stream",
     "text": [
      "{'a': 3497, 'b': 8011, 'c': 8300}\n"
     ]
    }
   ],
   "source": [
    "d = {\"a\":3497, \"b\":8011, \"c\":8300}\n",
    "print(d)"
   ]
  },
  {
   "cell_type": "code",
   "execution_count": 6,
   "metadata": {},
   "outputs": [
    {
     "data": {
      "text/plain": [
       "\"{'a': 3497, 'b': 8011, 'c': 8300}\""
      ]
     },
     "execution_count": 6,
     "metadata": {},
     "output_type": "execute_result"
    }
   ],
   "source": [
    "str(d)"
   ]
  },
  {
   "cell_type": "code",
   "execution_count": 7,
   "metadata": {},
   "outputs": [
    {
     "data": {
      "text/plain": [
       "\"{'a': 3497, 'b': 8011, 'c': 8300}\""
      ]
     },
     "execution_count": 7,
     "metadata": {},
     "output_type": "execute_result"
    }
   ],
   "source": [
    "repr(d)"
   ]
  },
  {
   "cell_type": "code",
   "execution_count": 8,
   "metadata": {},
   "outputs": [
    {
     "data": {
      "text/plain": [
       "'587.78'"
      ]
     },
     "execution_count": 8,
     "metadata": {},
     "output_type": "execute_result"
    }
   ],
   "source": [
    "x = 587.78\n",
    "str(x)"
   ]
  },
  {
   "cell_type": "code",
   "execution_count": 9,
   "metadata": {},
   "outputs": [
    {
     "data": {
      "text/plain": [
       "'587.78'"
      ]
     },
     "execution_count": 9,
     "metadata": {},
     "output_type": "execute_result"
    }
   ],
   "source": [
    "repr(x)"
   ]
  },
  {
   "cell_type": "markdown",
   "metadata": {},
   "source": [
    "Si aplica `str` o `repr` a un objeto, Python está buscando el método correspondiente `__str__` o `__repr__` en la definición de clase del objeto. Si el método existe, se llamará.\n",
    "En el siguiente ejemplo, definimos una clase `A`, que no tiene un método `__str__` ni `__repr__`. Queremos ver qué sucede si usamos `print` directamente en una instancia de esta clase, o si aplicamos `str` o `repr` a esta instancia:"
   ]
  },
  {
   "cell_type": "code",
   "execution_count": 10,
   "metadata": {},
   "outputs": [],
   "source": [
    "class A:\n",
    "    pass"
   ]
  },
  {
   "cell_type": "code",
   "execution_count": 11,
   "metadata": {},
   "outputs": [
    {
     "name": "stdout",
     "output_type": "stream",
     "text": [
      "<__main__.A object at 0x000001EB327D5B38>\n"
     ]
    }
   ],
   "source": [
    "a = A()\n",
    "print(a)"
   ]
  },
  {
   "cell_type": "code",
   "execution_count": 12,
   "metadata": {},
   "outputs": [
    {
     "name": "stdout",
     "output_type": "stream",
     "text": [
      "<__main__.A object at 0x000001EB327D5B38>\n"
     ]
    }
   ],
   "source": [
    "print(repr(a))"
   ]
  },
  {
   "cell_type": "code",
   "execution_count": 13,
   "metadata": {},
   "outputs": [
    {
     "name": "stdout",
     "output_type": "stream",
     "text": [
      "<__main__.A object at 0x000001EB327D5B38>\n"
     ]
    }
   ],
   "source": [
    "print(str(a))"
   ]
  },
  {
   "cell_type": "code",
   "execution_count": 14,
   "metadata": {},
   "outputs": [
    {
     "data": {
      "text/plain": [
       "<__main__.A at 0x1eb327d5b38>"
      ]
     },
     "execution_count": 14,
     "metadata": {},
     "output_type": "execute_result"
    }
   ],
   "source": [
    "a"
   ]
  },
  {
   "cell_type": "markdown",
   "metadata": {},
   "source": [
    "Como ambos métodos no están disponibles, `Python` utiliza la salida predeterminada para nuestro objeto \"`a`\".\n",
    "\n",
    "Si una clase tiene un método `__str__`, el método se usará para una instancia `x` de esa clase, si se le aplica la función `str` o si se usa en una función de impresión. `__str__` no se usará si se llama a `repr`, o si intentamos generar el valor directamente en un shell interactivo de `Python`:"
   ]
  },
  {
   "cell_type": "code",
   "execution_count": null,
   "metadata": {},
   "outputs": [],
   "source": []
  }
 ],
 "metadata": {
  "kernelspec": {
   "display_name": "Python 3",
   "language": "python",
   "name": "python3"
  },
  "language_info": {
   "codemirror_mode": {
    "name": "ipython",
    "version": 3
   },
   "file_extension": ".py",
   "mimetype": "text/x-python",
   "name": "python",
   "nbconvert_exporter": "python",
   "pygments_lexer": "ipython3",
   "version": "3.6.8"
  }
 },
 "nbformat": 4,
 "nbformat_minor": 2
}
