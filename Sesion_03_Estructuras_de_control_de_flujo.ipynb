{
 "cells": [
  {
   "cell_type": "markdown",
   "metadata": {
    "slideshow": {
     "slide_type": "slide"
    }
   },
   "source": [
    "<h1 align=\"center\">Curso Introducción a Python</h1>\n",
    "\n",
    "<h2 align=\"center\">Universidad EAFIT - Bancolombia</h2>\n",
    "\n",
    "<h3 align=\"center\">MEDELLÍN - COLOMBIA </h3>"
   ]
  },
  {
   "cell_type": "markdown",
   "metadata": {
    "slideshow": {
     "slide_type": "subslide"
    }
   },
   "source": [
    "<h2 align=\"center\">Sesión 03 - Estructuras de control de flujo</h2>    "
   ]
  },
  {
   "cell_type": "markdown",
   "metadata": {
    "slideshow": {
     "slide_type": "slide"
    }
   },
   "source": [
    "## Estructuras de Control de Flujo"
   ]
  },
  {
   "cell_type": "markdown",
   "metadata": {
    "slideshow": {
     "slide_type": "subslide"
    }
   },
   "source": [
    "- Una estructura de control, es un bloque de código que permite agrupar instrucciones de manera controlada.\n",
    "\n",
    "  * Estructura de control condicionales\n",
    "\n",
    "  * Estructura de control iterativas\n",
    "\n",
    "\n",
    "- En *Python*, antes es necesario comentar acerca de la *indentación*."
   ]
  },
  {
   "cell_type": "markdown",
   "metadata": {
    "slideshow": {
     "slide_type": "slide"
    }
   },
   "source": [
    "### Indentación:"
   ]
  },
  {
   "cell_type": "markdown",
   "metadata": {
    "slideshow": {
     "slide_type": "fragment"
    }
   },
   "source": [
    "- En un lenguaje informático, la *identación* es lo que la sangría al lenguaje humano escrito (a nivel formal). Así como para el lenguaje formal, cuando uno redacta una carta, debe respetar ciertas sangrías, los lenguajes informáticos requieren una identación.\n",
    "\n",
    "\n",
    "- No todos los lenguajes de programación, necesitan de una indentación, aunque, sí se estila implementarla a fin de otorgar mayor legibilidad al código fuente. \n",
    "\n",
    "\n",
    "- En *Python*, la indentación es ***OBLIGATORIA***, ya que de ella, dependerá su estructura.\n",
    "\n",
    "\n",
    "- ***[PEP8](https://www.python.org/dev/peps/pep-0008 \"Guia de Estilo Python\"):*** Guía de Estilo para Codificación en *Python*. "
   ]
  },
  {
   "cell_type": "markdown",
   "metadata": {
    "slideshow": {
     "slide_type": "subslide"
    }
   },
   "source": [
    "![Imagen](https://github.com/carlosalvarezh/Programacion_Python/blob/master/images/blocks.png?raw=true \"\")\n",
    "\n",
    "\n",
    "Ref: http://www.python-course.eu/python3_blocks.php"
   ]
  },
  {
   "cell_type": "markdown",
   "metadata": {
    "slideshow": {
     "slide_type": "slide"
    }
   },
   "source": [
    "### Estructura de Control"
   ]
  },
  {
   "cell_type": "raw",
   "metadata": {
    "slideshow": {
     "slide_type": "fragment"
    }
   },
   "source": [
    "Inicio de la estructura de control:\n",
    "   expresiones"
   ]
  },
  {
   "cell_type": "markdown",
   "metadata": {
    "slideshow": {
     "slide_type": "subslide"
    }
   },
   "source": [
    "### Encoding"
   ]
  },
  {
   "cell_type": "markdown",
   "metadata": {
    "slideshow": {
     "slide_type": "fragment"
    }
   },
   "source": [
    "- El *encoding* (codificación) es otro de los elementos del lenguaje que no puede omitirse a la hora de hablar de *estructuras de control*.\n",
    "\n",
    "\n",
    "- El *encoding* no es más que una directiva que se coloca al inicio de un archivo *Python*, a fin de indicar al sistema, la codificación de caracteres utilizada en el archivo."
   ]
  },
  {
   "cell_type": "code",
   "execution_count": null,
   "metadata": {
    "slideshow": {
     "slide_type": "fragment"
    }
   },
   "outputs": [],
   "source": [
    "# -*- coding: utf-8 -*-"
   ]
  },
  {
   "cell_type": "markdown",
   "metadata": {
    "slideshow": {
     "slide_type": "fragment"
    }
   },
   "source": [
    "- `utf-8` podría ser cualquier codificación de caracteres. Si no se indica una codificación de caracteres, *Python* podría producir un error si encontrara caracteres “extraños”:"
   ]
  },
  {
   "cell_type": "code",
   "execution_count": null,
   "metadata": {
    "slideshow": {
     "slide_type": "subslide"
    }
   },
   "outputs": [],
   "source": [
    "print (\"En el Ñágara encontré un Ñandú\")"
   ]
  },
  {
   "cell_type": "markdown",
   "metadata": {
    "slideshow": {
     "slide_type": "slide"
    }
   },
   "source": [
    "## Condicionales"
   ]
  },
  {
   "cell_type": "raw",
   "metadata": {
    "slideshow": {
     "slide_type": "fragment"
    }
   },
   "source": [
    "Si <condición>:\n",
    "   Acción por Verdadero\n",
    "Sino:\n",
    "   Acción por Falso"
   ]
  },
  {
   "cell_type": "markdown",
   "metadata": {
    "slideshow": {
     "slide_type": "subslide"
    }
   },
   "source": [
    "- El condicional es uno de los controles de flujo más usados.\n",
    "\n",
    "\n",
    "- Permite al programa evaluar si cierta condición es alcanzada y realizar la acción apropiada basada en el resultado de dicha evaluación.\n",
    "\n",
    "\n",
    "- Los tipos de datos booleans y relacionales cobran vital importancia.\n",
    "\n",
    "\n",
    "- La evaluación solo puede arrojar uno de dos resultados: `True` o `False`"
   ]
  },
  {
   "cell_type": "markdown",
   "metadata": {
    "slideshow": {
     "slide_type": "subslide"
    }
   },
   "source": [
    "### `if`"
   ]
  },
  {
   "cell_type": "markdown",
   "metadata": {
    "slideshow": {
     "slide_type": "fragment"
    }
   },
   "source": [
    "![Imagen](https://github.com/carlosalvarezh/Programacion_Python/blob/master/images/Condicionales.png?raw=true \"\")"
   ]
  },
  {
   "cell_type": "markdown",
   "metadata": {},
   "source": [
    "Veamos el siguiente ejemplo en donde se solicita al usuario que ingrese dos valores enteros `a` y `b`"
   ]
  },
  {
   "cell_type": "code",
   "execution_count": null,
   "metadata": {},
   "outputs": [],
   "source": [
    "a = int(input(\"Ingrese el valor de a: \"))\n",
    "b = int(input(\"Ingrese el valor de b: \"))"
   ]
  },
  {
   "cell_type": "markdown",
   "metadata": {},
   "source": [
    "La manera más simplista de evaluar si `a` es mayor, menor o igual a `b` sería: "
   ]
  },
  {
   "cell_type": "code",
   "execution_count": null,
   "metadata": {},
   "outputs": [],
   "source": [
    "a == b"
   ]
  },
  {
   "cell_type": "markdown",
   "metadata": {},
   "source": [
    "Como se puede observar, dependiendo del tipo de operador lógico que se presente la respuesta es `True` o `False`, pero no podemos obtener mayor información.\n",
    "\n",
    "Otra forma es emplear la estructura simple del `if` de la siguiente manera"
   ]
  },
  {
   "cell_type": "code",
   "execution_count": null,
   "metadata": {
    "slideshow": {
     "slide_type": "subslide"
    }
   },
   "outputs": [],
   "source": [
    "if a > b:\n",
    "    print (\"a es mayor que b\")\n",
    "\n",
    "if b > a:\n",
    "    print (\"b es mayor que a\")\n",
    "    \n",
    "if a == b:\n",
    "    print(\"a y b son iguales\")"
   ]
  },
  {
   "cell_type": "markdown",
   "metadata": {
    "slideshow": {
     "slide_type": "subslide"
    }
   },
   "source": [
    "Se observan dos características importantes que se diferencian de otros lenguajes de programación:\n",
    "\n",
    "\n",
    "- El bloque `if` se determina por la indentación debajo del condicional `if`\n",
    "\n",
    "\n",
    "- La línea del condicional `if` finaliza siempre con `:` (dos puntos o colon)\n",
    "\n",
    "\n",
    "La sentencia print solo se ejecutará si el resultado de la evaluación del condicional es `True`\n",
    "\n",
    "\n",
    "- Si se deseara ejecutar más de una sentencia en el casi de que la condición no se cumpliera, habría qué añadir otra sentencia `if`, esto hace el código poco legible y muy dispendioso."
   ]
  },
  {
   "cell_type": "markdown",
   "metadata": {},
   "source": [
    "En esta forma se observa que siempre se ejecutarán cada una de las tres sentencias `if`, esto porque se presentan de forma separada y en cada una de ellas se deberá realizar su evaluación, así la condición `True` se alla dado en la primera sentencia y se sepa que el resto serán `False`. Esto hace con que el código sea ineficiente."
   ]
  },
  {
   "cell_type": "markdown",
   "metadata": {
    "slideshow": {
     "slide_type": "slide"
    }
   },
   "source": [
    "### `if ... else`"
   ]
  },
  {
   "cell_type": "markdown",
   "metadata": {},
   "source": [
    "Ahora veamos la siguiente estructura en donde se presenta la forma completa en `Python` `if... else` (que en seudocódigo sería la conocida estructura: `if... then ... else` (el `then` en `Python` serían los `:`)"
   ]
  },
  {
   "cell_type": "code",
   "execution_count": null,
   "metadata": {
    "slideshow": {
     "slide_type": "subslide"
    }
   },
   "outputs": [],
   "source": [
    "a = int(input(\"Ingrese el valor de a: \"))\n",
    "b = int(input(\"Ingrese el valor de b: \"))\n",
    "\n",
    "if a > b:\n",
    "    print (\"a es mayor que b\")\n",
    "else:\n",
    "    print (\"a es menor que b\")    "
   ]
  },
  {
   "cell_type": "markdown",
   "metadata": {
    "slideshow": {
     "slide_type": "subslide"
    }
   },
   "source": [
    "- La primera sentencia se ejecuta si el resultado de su evaluación es verdadero (`True`), sino (`else`) se ejecuta la segunda sentencia cuando la evaluación es falso (`False`)."
   ]
  },
  {
   "cell_type": "markdown",
   "metadata": {
    "slideshow": {
     "slide_type": "slide"
    }
   },
   "source": [
    "### `if ... elif ... else`"
   ]
  },
  {
   "cell_type": "markdown",
   "metadata": {
    "slideshow": {
     "slide_type": "fragment"
    }
   },
   "source": [
    "- Cuando se tienen várias sentencias condicionales anidadas para evaluarse, la estructura más recomendada es `if ... elif...elif...else`.\n",
    "\n",
    "\n",
    "- `elif` es una contracción de `else if` (*si no, si...*).\n",
    "\n",
    "\n",
    "- Se evalúa la primera condición, si es cierta, se ejecutan las sentencias debajo de ella, si no, se evalúa una segunda condición, si es verdadera, se ejecutan las sentencias de esta segunda, si no, si.... hasta que ya no queden más condiciones que evaluar.\n",
    "\n",
    "\n",
    "- El último condicional será un `else`, que no tiene condicional a evaluar y se ejecutará si la evaluación de todos los anteriores fue `False`."
   ]
  },
  {
   "cell_type": "markdown",
   "metadata": {
    "scrolled": false,
    "slideshow": {
     "slide_type": "subslide"
    }
   },
   "source": [
    "![Imagen](https://github.com/carlosalvarezh/Programacion_Python/blob/master/images/Condicional_if_else.png?raw=true \"\")"
   ]
  },
  {
   "cell_type": "code",
   "execution_count": null,
   "metadata": {},
   "outputs": [],
   "source": [
    "if a > b:\n",
    "    print(\"a es mayor que b\") #se evalúa si la condición a > b es True\n",
    "elif a < b:\n",
    "    print(\"a es menor que b\") #se evalúa si la condición a < b es True\n",
    "else:\n",
    "    print(\"a y b son iguales\") #se evalúa la condición, o condiciones, restantes que no fueron tenidas en cuenta anteriormente"
   ]
  },
  {
   "cell_type": "markdown",
   "metadata": {
    "slideshow": {
     "slide_type": "subslide"
    }
   },
   "source": [
    "Una estructura más compleja para evaluar tres datos podría ser:"
   ]
  },
  {
   "cell_type": "markdown",
   "metadata": {
    "slideshow": {
     "slide_type": "fragment"
    }
   },
   "source": [
    "![Imagen](https://github.com/carlosalvarezh/Programacion_Python/blob/master/images/Condicional_if_elif_else.png?raw=true \"\")\n"
   ]
  },
  {
   "cell_type": "code",
   "execution_count": null,
   "metadata": {
    "slideshow": {
     "slide_type": "subslide"
    }
   },
   "outputs": [],
   "source": [
    "a = int(input(\"Ingrese el valor de a: \"))\n",
    "b = int(input(\"Ingrese el valor de b: \"))\n",
    "c = int(input(\"Ingrese el valor de c: \"))\n",
    "\n",
    "if a > b:\n",
    "    if a > c:\n",
    "        print (\"a es mayor que b y c\")\n",
    "    else:\n",
    "        print (\"c es mayor que a y b\")\n",
    "else:\n",
    "    if b > c:\n",
    "        print (\"b es mayor que a y c\")\n",
    "    else:\n",
    "        print (\"c es mayor que a y b\")\n",
    "    "
   ]
  },
  {
   "cell_type": "markdown",
   "metadata": {
    "slideshow": {
     "slide_type": "subslide"
    }
   },
   "source": [
    "> Cómo sería el algoritmo para determinar si los valores `a`, `b`, y/o `c`, son iguales?"
   ]
  },
  {
   "cell_type": "markdown",
   "metadata": {
    "slideshow": {
     "slide_type": "slide"
    }
   },
   "source": [
    "## Ciclos (Bucles o Loops)"
   ]
  },
  {
   "attachments": {
    "moebius_infinite_loop.png": {
     "image/png": "[encoded data removed]"
    }
   },
   "cell_type": "markdown",
   "metadata": {},
   "source": [
    "![moebius_infinite_loop.png](attachment:moebius_infinite_loop.png \"Moebius\")\n",
    "\n",
    "Tomado de: [https://www.python-course.eu/python3_loops.php]( https://www.python-course.eu/python3_loops.php \"Python course\")"
   ]
  },
  {
   "cell_type": "markdown",
   "metadata": {
    "slideshow": {
     "slide_type": "fragment"
    }
   },
   "source": [
    "Permiten ejecutar un mismo fragmento de código un cierto número de veces, mientras se cumpla una determinada condición.\n",
    "\n",
    "`Python` suministra dos tipos de ciclos: \n",
    "\n",
    "- ***Ciclo controlado por una condición:*** El ciclo se repite hasta que cambie una condición dada (de `True` a `False`, por ejemplo, o viceversa) dependiendo del tipo de ciclo.\n",
    "\n",
    "\n",
    "- ***Ciclo controlado por una colección:*** Esta es una construcción especial que permite recorrer los elementos de una \"*colección*\", que puede ser una matriz, una lista u otra secuencia ordenada. Al igual que el bucle for del shell bash (por ejemplo, `para i in *, do echo $ i; done`) o el bucle `foreach` de `Perl` "
   ]
  },
  {
   "cell_type": "markdown",
   "metadata": {
    "slideshow": {
     "slide_type": "subslide"
    }
   },
   "source": [
    "### Ciclo mientras (`while`)"
   ]
  },
  {
   "cell_type": "markdown",
   "metadata": {
    "slideshow": {
     "slide_type": "fragment"
    }
   },
   "source": [
    "- Ejecuta repetidamente un mismo código ***mientras*** se cumple una condición."
   ]
  },
  {
   "cell_type": "markdown",
   "metadata": {
    "slideshow": {
     "slide_type": "subslide"
    }
   },
   "source": [
    "![Imagen](https://github.com/carlosalvarezh/FundamentosProgramacion_U_EAFIT/blob/master/images/Ciclo_While01.png?raw=true \"\")"
   ]
  },
  {
   "cell_type": "markdown",
   "metadata": {
    "slideshow": {
     "slide_type": "subslide"
    }
   },
   "source": [
    "![Imagen](https://github.com/carlosalvarezh/FundamentosProgramacion_U_EAFIT/blob/master/images/Ciclo_While.png?raw=true \"\")"
   ]
  },
  {
   "cell_type": "code",
   "execution_count": null,
   "metadata": {
    "slideshow": {
     "slide_type": "subslide"
    }
   },
   "outputs": [],
   "source": [
    "n = int(input('Ingrese el número de veces que quiere realizar el ciclo: '))\n",
    "\n",
    "suma = 0\n",
    "i = 1\n",
    "\n",
    "while i <= n:\n",
    "    suma = suma + i\n",
    "    i += 1\n",
    "    \n",
    "print(\"la suma desde 1 hasta {0:d} es: {1:d}\". format(i-1, suma))"
   ]
  },
  {
   "cell_type": "code",
   "execution_count": null,
   "metadata": {
    "slideshow": {
     "slide_type": "subslide"
    }
   },
   "outputs": [],
   "source": [
    "a = int(input('ingrese el valor de a: '))\n",
    "\n",
    "while a > 0:\n",
    "    print('el valor de a es', a)\n",
    "    a = int(input('ingrese el valor de a: '))\n"
   ]
  },
  {
   "cell_type": "code",
   "execution_count": null,
   "metadata": {
    "slideshow": {
     "slide_type": "subslide"
    }
   },
   "outputs": [],
   "source": [
    "year = 2010\n",
    "while year <= 2020:\n",
    "    print(\"estamos en el año\", year)\n",
    "    year += 1"
   ]
  },
  {
   "cell_type": "markdown",
   "metadata": {
    "slideshow": {
     "slide_type": "subslide"
    }
   },
   "source": [
    "- Este ciclo se ejecutará las veces que sea necesario mientras que se cumpla la condición especificada, es decir, mientras que la variable `year` sea menor o igual que el valor `2012`.\n",
    "\n",
    "\n",
    "- La última línea del código `year += 1` se refiere al incremento. La variable `year` se incrementa `1` en cada paso del ciclo."
   ]
  },
  {
   "cell_type": "markdown",
   "metadata": {},
   "source": [
    "#### Salida prematura de un ciclo while"
   ]
  },
  {
   "cell_type": "markdown",
   "metadata": {
    "slideshow": {
     "slide_type": "subslide"
    }
   },
   "source": [
    "> Una situación especial es cuando el valor que condiciona la iteración no es numérico, por ejemplo, y no puede incrementarse o es \"infinito\". En este caso, podremos utilizar una estructura de control condicional, anidada dentro del ciclo, y frenar la ejecución cuando el condicional deje de cumplirse, empleando lo que se conoce como una bandera (flag) que cambia de estado (de `True` a `False` o viceversa) en alguna parte dentro del ciclo o con la palabra clave reservada `break`:"
   ]
  },
  {
   "cell_type": "code",
   "execution_count": null,
   "metadata": {
    "slideshow": {
     "slide_type": "subslide"
    }
   },
   "outputs": [],
   "source": [
    "#Empleando un flag\n",
    "\n",
    "salida = True\n",
    "while salida == True:\n",
    "    entrada = input(\"desea salir (y/n)? \")\n",
    "    if entrada == \"y\" or entrada == \"Y\":\n",
    "        salida = False\n",
    "    else:\n",
    "        print(entrada)"
   ]
  },
  {
   "cell_type": "code",
   "execution_count": null,
   "metadata": {},
   "outputs": [],
   "source": [
    "# Emplenado la palabra reservada break\n",
    "salida = True\n",
    "while salida == True:\n",
    "    entrada = input(\"desea salir (y/n)? \")\n",
    "    if entrada == \"y\" or entrada == \"Y\":\n",
    "        break\n",
    "    else:\n",
    "        print(entrada)"
   ]
  },
  {
   "cell_type": "code",
   "execution_count": null,
   "metadata": {},
   "outputs": [],
   "source": [
    "import random\n",
    "n = 20\n",
    "aleatorio = int(n * random.random()) + 1\n",
    "adivinar = 0\n",
    "while adivinar != aleatorio:\n",
    "    adivinar = int(input(\"Ingrese un nuevo número: \"))\n",
    "    if adivinar > 0:\n",
    "        if adivinar > aleatorio:\n",
    "            print(\"Número muy grande\")\n",
    "        elif adivinar < aleatorio:\n",
    "            print(\"Número muy pequeño\")\n",
    "    else:\n",
    "        print(\"Te rendiste!\")\n",
    "        break\n",
    "else:\n",
    "    print(\"Lo conseguiste!\")"
   ]
  },
  {
   "cell_type": "markdown",
   "metadata": {
    "slideshow": {
     "slide_type": "subslide"
    }
   },
   "source": [
    "Otra situación que se puede encontrar dentro de un ciclo es pasar directamente a la siguiente iteración. Esto se hace con otra palabra reservada: `continue`"
   ]
  },
  {
   "cell_type": "code",
   "execution_count": null,
   "metadata": {
    "slideshow": {
     "slide_type": "subslide"
    }
   },
   "outputs": [],
   "source": [
    "numero = 0\n",
    "while numero < 10:\n",
    "    numero += 1\n",
    "    if numero % 2 == 2:\n",
    "        continue\n",
    "    print(\"el número es\", numero)"
   ]
  },
  {
   "cell_type": "markdown",
   "metadata": {
    "slideshow": {
     "slide_type": "slide"
    }
   },
   "source": [
    "### Ciclo *hasta* (`for`)"
   ]
  },
  {
   "cell_type": "markdown",
   "metadata": {
    "slideshow": {
     "slide_type": "fragment"
    }
   },
   "source": [
    "El ciclo `for` ejecuta un bloque de código repetidamente ***hasta que*** la condición en la sentencia `for` no sea más válida."
   ]
  },
  {
   "cell_type": "raw",
   "metadata": {
    "slideshow": {
     "slide_type": "fragment"
    }
   },
   "source": [
    "for <variable> in <sequence>:\n",
    "\t<statements>\n",
    "else:\n",
    "    <statements>"
   ]
  },
  {
   "cell_type": "markdown",
   "metadata": {
    "slideshow": {
     "slide_type": "subslide"
    }
   },
   "source": [
    "![Imagen](https://github.com/carlosalvarezh/Programacion_Python/blob/master/images/Ciclo_for.png?raw=true \"\")"
   ]
  },
  {
   "cell_type": "markdown",
   "metadata": {},
   "source": [
    "Exemplo de un ciclo simple en `Python` empleando unas variables dentro de una secuencia (realmente es una lista, pero esto se verá más adelante)"
   ]
  },
  {
   "cell_type": "code",
   "execution_count": null,
   "metadata": {},
   "outputs": [],
   "source": [
    "lenguajes = [\"C\", \"C++\", \"Perl\", \"Python\"] \n",
    "for x in lenguajes:\n",
    "    print(x)"
   ]
  },
  {
   "cell_type": "markdown",
   "metadata": {},
   "source": [
    "Se puede iterar sobre una cadena de caracteres"
   ]
  },
  {
   "cell_type": "code",
   "execution_count": null,
   "metadata": {},
   "outputs": [],
   "source": [
    "palabra = \"parangaricutirimicuaro\""
   ]
  },
  {
   "cell_type": "code",
   "execution_count": null,
   "metadata": {},
   "outputs": [],
   "source": [
    "for i in palabra:\n",
    "    print(i)"
   ]
  },
  {
   "cell_type": "markdown",
   "metadata": {},
   "source": [
    "o sobre una porción de una cadena de caracteres"
   ]
  },
  {
   "cell_type": "code",
   "execution_count": null,
   "metadata": {},
   "outputs": [],
   "source": [
    "for i in palabra[2:10:2]:\n",
    "    print(i)"
   ]
  },
  {
   "cell_type": "markdown",
   "metadata": {},
   "source": [
    "Al igual que en el ciclo `while` podemos terminar de forma anticipada el ciclo empleando la palabra `break`"
   ]
  },
  {
   "cell_type": "code",
   "execution_count": null,
   "metadata": {},
   "outputs": [],
   "source": [
    "j = 0\n",
    "comestibles = [\"jamón\", \"carne\",\"tocineta\",\"frutas\"]\n",
    "for comida in comestibles:\n",
    "    if comida == \"huevos\":\n",
    "        print(\"No quiero huevos por favor!\")\n",
    "        break\n",
    "    print(\"Genial, Deliciosa \" + comida)\n",
    "    j += 1\n",
    "else:\n",
    "    print(\"Estoy satisfecho, no hay huevos\")\n",
    "print(\"Finalmente, estoy satisfecho\")"
   ]
  },
  {
   "cell_type": "markdown",
   "metadata": {},
   "source": [
    "### La funcion `range()`\n",
    "\n",
    "La función incorporada `range()` es la función correcta para iterar sobre una secuencia de números. Genera un iterador de progresiones aritméticas.\n",
    "\n",
    "La estructura de la función es: \n",
    "\n",
    "`range(start,stop,step)`\n",
    "\n",
    "en donde\n",
    "\n",
    "- ***start:*** valor entero que indica donde se quiere empezar la secuencia. Si se omite, por defecto es cero, `0`.\n",
    "\n",
    "\n",
    "- ***stop:*** valor entero que indica hasta donde se quiere crear la secuencia. Debe tenerse en cuenta que como empieza en cero, la secuencia finalizará en `stop - 1`. Es el único parámetro obligatorio de los tres.\n",
    "\n",
    "\n",
    "- ***step:*** valor entero que indica el incremento de la secuencia. Si se omite, por defecto es uno, `1`."
   ]
  },
  {
   "cell_type": "code",
   "execution_count": null,
   "metadata": {},
   "outputs": [],
   "source": [
    "a = range(10)\n",
    "print(a)"
   ]
  },
  {
   "cell_type": "markdown",
   "metadata": {},
   "source": [
    "Para visualizar el resultado, coloquémoslo en una estructura de lista (esto se verá más adelante)"
   ]
  },
  {
   "cell_type": "code",
   "execution_count": null,
   "metadata": {},
   "outputs": [],
   "source": [
    "list(range(10))"
   ]
  },
  {
   "cell_type": "markdown",
   "metadata": {},
   "source": [
    "Ahora volvieno a la estructura del ciclo `for`"
   ]
  },
  {
   "cell_type": "code",
   "execution_count": null,
   "metadata": {},
   "outputs": [],
   "source": [
    "for i in range(10):\n",
    "    print(i)"
   ]
  },
  {
   "cell_type": "markdown",
   "metadata": {},
   "source": [
    "Obséverese que se empleó un único argumente en la función. Este argumento por defecto es el `stop`, y los valores por defeto de `start=0` y `step=1`, pero podemos modificarlos según nuestra conveniencia o necesidad. \n",
    "\n",
    "Como ejemplo, imprimamos los elementos impares de una lista de valores entre 0 - 10:"
   ]
  },
  {
   "cell_type": "code",
   "execution_count": null,
   "metadata": {},
   "outputs": [],
   "source": [
    "for i in range(1,10,2):\n",
    "    print(i)"
   ]
  },
  {
   "cell_type": "markdown",
   "metadata": {},
   "source": [
    "ahora imprimamos los elementos pares de una lista de valores entre 0 - 10"
   ]
  },
  {
   "cell_type": "code",
   "execution_count": null,
   "metadata": {},
   "outputs": [],
   "source": [
    "for i in range(0,10,2):\n",
    "    print(i)"
   ]
  },
  {
   "cell_type": "markdown",
   "metadata": {},
   "source": [
    "Podemos también presentar los elementos de la lista en forma invertida:"
   ]
  },
  {
   "cell_type": "code",
   "execution_count": null,
   "metadata": {},
   "outputs": [],
   "source": [
    "for i in range(10,0,-1):\n",
    "    print(i)"
   ]
  },
  {
   "cell_type": "markdown",
   "metadata": {},
   "source": [
    "> qué se debe hacer para que muestre hasta el cero?"
   ]
  },
  {
   "cell_type": "markdown",
   "metadata": {},
   "source": [
    "Ahora queremos sumar todos los números de 1 a 100... como dice la leyenda de *Gauss*"
   ]
  },
  {
   "cell_type": "code",
   "execution_count": null,
   "metadata": {},
   "outputs": [],
   "source": [
    "# espacio para realizar el ejemplo de programación"
   ]
  },
  {
   "cell_type": "code",
   "execution_count": null,
   "metadata": {},
   "outputs": [],
   "source": [
    "for numero in range(1,20):\n",
    "    if numero % 2 != 0:\n",
    "        print(\"el número es:\", numero)"
   ]
  },
  {
   "cell_type": "markdown",
   "metadata": {
    "collapsed": true
   },
   "source": [
    "> Aquí observamos la aparición de otra estructura importante en *Python*: `range`"
   ]
  },
  {
   "cell_type": "markdown",
   "metadata": {},
   "source": [
    "## Contadores y Acumuladores"
   ]
  },
  {
   "cell_type": "markdown",
   "metadata": {},
   "source": [
    "### Contadores"
   ]
  },
  {
   "cell_type": "markdown",
   "metadata": {},
   "source": [
    "- Se entiende por contador una variable que lleva la cuenta del número de veces que se ha cumplido una condición.\n",
    "\n",
    "\n",
    "- En *Python* se puede realizar el contador de dos maneras:"
   ]
  },
  {
   "cell_type": "raw",
   "metadata": {},
   "source": [
    "cuenta = cuenta + 1\n",
    "\n",
    "o\n",
    "\n",
    "cuenta += 1"
   ]
  },
  {
   "cell_type": "code",
   "execution_count": null,
   "metadata": {},
   "outputs": [],
   "source": [
    "a = list(range(0,20,2))\n",
    "print(a)\n",
    "#type(a)\n",
    "a[5]"
   ]
  },
  {
   "cell_type": "code",
   "execution_count": null,
   "metadata": {},
   "outputs": [],
   "source": [
    "#cuenta = 0\n",
    "for i in range (10):\n",
    "    i += 1 \n",
    "    print(i)\n",
    "\n",
    "print(i)\n",
    "type(i)"
   ]
  },
  {
   "cell_type": "code",
   "execution_count": null,
   "metadata": {},
   "outputs": [],
   "source": [
    "print(\"Comienzo\")\n",
    "cuenta = 0\n",
    "for i in range(1, 25):\n",
    "    if i % 2 == 0:\n",
    "        #cuenta = cuenta + 1\n",
    "        cuenta += 1       \n",
    "print(f\"Desde 1 hasta 25 hay {cuenta} múltiplos de 2\")"
   ]
  },
  {
   "cell_type": "markdown",
   "metadata": {},
   "source": [
    "### Acumulador"
   ]
  },
  {
   "cell_type": "markdown",
   "metadata": {},
   "source": [
    "- Se entiende por acumulador una variable que acumula el resultado de una operación."
   ]
  },
  {
   "cell_type": "markdown",
   "metadata": {
    "collapsed": true
   },
   "source": [
    "## Laboratorio"
   ]
  },
  {
   "cell_type": "markdown",
   "metadata": {},
   "source": [
    "1. ***Números Pitagóricos:*** Tres números que satisfacen la relación $a^{2}+b^{2}=c^{2}$ son llamados *Numeros Pitagóricos*. Realice un programa que calcule todos los *números pitagóricos* menores que un número máximo.\n",
    "\n",
    "\n",
    "2. ***Sucesión de Fibonacci:*** En matemática, la $\\it{Sucesión}$ $\\it{de}$ $\\it{Fibonacci}$ es la siguiente sucesión infinita de números naturales: $0, 1, 1, 2, 3, 5, 8, 13, 21, ...$. La sucesión comienza con los números $0$ y $1$ y a partir de estos, «*cada término es la suma de los dos anteriores*», es la relación de recurrencia que la define. Realice un programa que entregue los primeros $n$ números de la $\\it{Sucesión}$ $\\it{de}$ $\\it{Fibonacci}$. Realice ambos programas con *for* y *while*. Cuál sería la diferencia?\n",
    "\n",
    "\n",
    "3. En el ejercicio del cálculo del área por el método de Herón, implemente la desigualdad triangular: \"*En todo triángulo la suma de las longitudes de dos lados cualquiera es siempre mayor a la longitud del lado restante*\". Implemente también un criterio que evite el ingreso de valores negativos de alguno de los lados.\n",
    "\n",
    "\n",
    "4. ***Suma según Gauss:*** Realizar un programa que calcule la suma de los 100 primeros números, pero como fue realizado por *Gauss* según la leyenda."
   ]
  },
  {
   "cell_type": "code",
   "execution_count": null,
   "metadata": {},
   "outputs": [],
   "source": []
  }
 ],
 "metadata": {
  "anaconda-cloud": {},
  "celltoolbar": "Slideshow",
  "kernelspec": {
   "display_name": "Python 3",
   "language": "python",
   "name": "python3"
  },
  "language_info": {
   "codemirror_mode": {
    "name": "ipython",
    "version": 3
   },
   "file_extension": ".py",
   "mimetype": "text/x-python",
   "name": "python",
   "nbconvert_exporter": "python",
   "pygments_lexer": "ipython3",
   "version": "3.6.8"
  },
  "latex_envs": {
   "LaTeX_envs_menu_present": true,
   "autocomplete": true,
   "bibliofile": "biblio.bib",
   "cite_by": "apalike",
   "current_citInitial": 1,
   "eqLabelWithNumbers": true,
   "eqNumInitial": 1,
   "hotkeys": {
    "equation": "Ctrl-E",
    "itemize": "Ctrl-I"
   },
   "labels_anchors": false,
   "latex_user_defs": false,
   "report_style_numbering": true,
   "user_envs_cfg": true
  }
 },
 "nbformat": 4,
 "nbformat_minor": 2
}
