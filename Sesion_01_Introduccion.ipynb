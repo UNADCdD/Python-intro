{
 "cells": [
  {
   "cell_type": "markdown",
   "metadata": {
    "slideshow": {
     "slide_type": "slide"
    }
   },
   "source": [
    "<h1 align=\"center\">Curso Introducción a Python</h1>\n",
    "\n",
    "<h2 align=\"center\">Universidad EAFIT - Bancolombia</h2>\n",
    "\n",
    "<h3 align=\"center\">MEDELLÍN - COLOMBIA </h3>"
   ]
  },
  {
   "cell_type": "markdown",
   "metadata": {
    "slideshow": {
     "slide_type": "fragment"
    }
   },
   "source": [
    "<h2 align=\"center\">Sesión 01_00 - Presentación del Curso</h2>    "
   ]
  },
  {
   "cell_type": "markdown",
   "metadata": {
    "slideshow": {
     "slide_type": "subslide"
    }
   },
   "source": [
    "### Lenguaje: Python 3.7\n",
    "\n",
    "### Desarrollado en: Notebook Jupyter\n",
    "\n",
    "### Versión: 1.0.1\n",
    "\n",
    "### Fecha: Octubre de 2019\n",
    "\n",
    "### Tutor: Carlos Alberto Álvarez Henao, DSc. I.C\n",
    "\n",
    "#### Medellín, Octubre de 2019"
   ]
  },
  {
   "cell_type": "markdown",
   "metadata": {
    "slideshow": {
     "slide_type": "slide"
    }
   },
   "source": [
    "### TODOS DEBERÍAMOS SABER PROGRAMAR... TODOS!"
   ]
  },
  {
   "cell_type": "code",
   "execution_count": null,
   "metadata": {
    "slideshow": {
     "slide_type": "subslide"
    }
   },
   "outputs": [],
   "source": [
    "from IPython.display import YouTubeVideo, HTML, IFrame\n",
    "YouTubeVideo('Y1HHBXDL9bg')"
   ]
  },
  {
   "cell_type": "markdown",
   "metadata": {
    "slideshow": {
     "slide_type": "slide"
    }
   },
   "source": [
    "## Docente\n",
    "\n",
    "> **Carlos Alberto Álvarez Henao**\n",
    "> - **Ingeniero Civil, Universidad Nacional de Colombia - Medellín**\n",
    "> - **M.Sc. y D.Sc. Mecánica Computacional - UFRJ/Brasil**\n",
    "> - **Correo: calvar52@eafit.edu.co**\n",
    "\n",
    "<img src=\"https://dl.dropbox.com/s/9ce0ineaewhuu9l/CarlosAlbertoAlvarezHenao.jpg\" alt=\"description here\" />"
   ]
  },
  {
   "cell_type": "markdown",
   "metadata": {
    "slideshow": {
     "slide_type": "slide"
    }
   },
   "source": [
    "## Lenguajes de Programación\n",
    "\n",
    "![Imagen](https://github.com/carlosalvarezh/FundamentosProgramacion_U_EAFIT/blob/master/images/LenguajesProgramacion.jpg?raw=true \"\")"
   ]
  },
  {
   "cell_type": "markdown",
   "metadata": {
    "slideshow": {
     "slide_type": "slide"
    }
   },
   "source": [
    "## Por qué usar Python?"
   ]
  },
  {
   "cell_type": "markdown",
   "metadata": {
    "slideshow": {
     "slide_type": "fragment"
    }
   },
   "source": [
    "# Justificación\n",
    "\n",
    "> Python es un lenguaje de programación multiplataforma, algunas de sus ventajas son: ayuda a mejorar la productividad ya que permite trabajar mucho más rápido que cualquier otro lenguaje, es versátil y soporta programación orientada a objetos, cuenta con una gran extensión de bibliotecas para un mejor uso, es un lenguaje de programación sostenible lo cual permite leer y modificar de una manera fácil los programas."
   ]
  },
  {
   "cell_type": "markdown",
   "metadata": {
    "slideshow": {
     "slide_type": "subslide"
    }
   },
   "source": [
    "## Con Python se pueden hacer:\n",
    "\n",
    "- Aplicaciones Web.\n",
    "\n",
    "- Análisis de Datos.\n",
    "\n",
    "- Aprendizajes de Maquina.\n",
    "\n",
    "- Visión Artificial.\n",
    "\n",
    "- Robótica, programar \"pequeñas\" computadoras(Raspberry Pi).\n",
    "\n",
    "- Juegos.\n",
    "\n",
    "- Web Scraping.\n",
    "\n",
    "- Automatizar(Scripts)"
   ]
  },
  {
   "cell_type": "markdown",
   "metadata": {
    "slideshow": {
     "slide_type": "subslide"
    }
   },
   "source": [
    "## Algunas Empresas que usan Python:\n",
    "\n",
    "![Imagen](https://github.com/carlosalvarezh/FundamentosProgramacion_U_EAFIT/blob/master/images/PythonUsage.png?raw=true \"\")\n"
   ]
  },
  {
   "cell_type": "markdown",
   "metadata": {
    "slideshow": {
     "slide_type": "subslide"
    }
   },
   "source": [
    "## Lenguajes de Programación más usados a nivel mundial:"
   ]
  },
  {
   "cell_type": "code",
   "execution_count": null,
   "metadata": {
    "slideshow": {
     "slide_type": "fragment"
    }
   },
   "outputs": [],
   "source": [
    "display(IFrame('https://www.tiobe.com/tiobe-index/', '100%', '600px'))"
   ]
  },
  {
   "cell_type": "markdown",
   "metadata": {
    "slideshow": {
     "slide_type": "subslide"
    }
   },
   "source": [
    "## Objetivo General:\n",
    "\n",
    "- Manejar conceptos básicos de programación Python orientando al participante en el conocimiento de la sintaxis y creación de programas funcionales."
   ]
  },
  {
   "cell_type": "markdown",
   "metadata": {
    "slideshow": {
     "slide_type": "fragment"
    }
   },
   "source": [
    "## Competencias:\n",
    "\n",
    "> Tras participar del proceso cognoscitivo y práctico, se espera que el alumno este en capacidad de:\n",
    "Entender la sintaxis de lenguaje `Python` al leer fuentes de otros programadores.\n",
    "Crear(Escribir) Scripts en Python, para crear diferentes tipos de aplicaciones como tipo consola(terminal),TUI,GUI y la básicas de la Web."
   ]
  },
  {
   "cell_type": "markdown",
   "metadata": {
    "slideshow": {
     "slide_type": "fragment"
    }
   },
   "source": [
    "## Público Objetivo:\n",
    "\n",
    "> Todas las personas que deseen aprender un lenguaje de programación, múltiples propósitos y diferentes tipos de aplicaciones."
   ]
  },
  {
   "cell_type": "markdown",
   "metadata": {
    "slideshow": {
     "slide_type": "slide"
    }
   },
   "source": [
    "## Programa"
   ]
  },
  {
   "cell_type": "markdown",
   "metadata": {
    "slideshow": {
     "slide_type": "subslide"
    }
   },
   "source": [
    "|**Sesión** | **Fecha**         |**Contenido** |\n",
    "|:---------:|:-----------------:|--------------|\n",
    "|01|Vi - 11/10/19|Introducción, Lenguajes compilados vs interpredos, IDEs, Tipos de datos y variables|\n",
    "|02|Mi - 16/10/19|Expresiones, Secuencias, Strings, I/O 1|\n",
    "|03|Vi - 18/10/19|Condicionales, Ciclos y Rangos|\n",
    "|04|Lu - 21/10/19|Funciones|\n",
    "|05|Mi - 23/10/19|Listas|\n",
    "|06|Lu - 28/10/19|Diccionarios|\n",
    "|07|Mi - 30/10/19|I/O 2 - Manejo de Archivos|\n",
    "|08|Vi - 01/11/19|Manipulación de archivos JSon|\n",
    "|09|Mi - 06/11/19|Algoritmos Básicos|\n",
    "|10|Vi - 08/11/19|Ordenamiento y Búsqueda|\n",
    "|11|Mi - 13/11/19|POO|\n",
    "|12|Vi - 15/11/19|Visualización de Información|\n"
   ]
  },
  {
   "cell_type": "markdown",
   "metadata": {
    "slideshow": {
     "slide_type": "slide"
    }
   },
   "source": [
    "# Por dónde empiezo? \n",
    "\n",
    "Lo primero es elegir una herramienta de trabajo sobre la cual realizar el código. A continuación me permito compartirles solo algunas herramientas de esas que he tenido la oportunidad de revisar y me parecen apropiadas para un curso de este nivel. No son las únicas, por el contrario, existen muchas otras más, quizás mejores, dependiendo del interés particular de desarrollo de cada quién. "
   ]
  },
  {
   "cell_type": "markdown",
   "metadata": {
    "slideshow": {
     "slide_type": "slide"
    }
   },
   "source": [
    "## Editores, IDE's, Notebooks\n",
    "\n",
    "**IDE** (*Integrated Development Environment*) o *Entorno de Desarrollo Integrado*, es una aplicación informática que permite la integración de varios servicios que permiten el desarrollo de un software o programa de computador. \n",
    "\n",
    "Normalmente consiste de:\n",
    "\n",
    "- Editor de Código fuente\n",
    "\n",
    "- Depurador"
   ]
  },
  {
   "cell_type": "markdown",
   "metadata": {
    "slideshow": {
     "slide_type": "subslide"
    }
   },
   "source": [
    "**[PSeInt](http://pseint.sourceforge.net/ \"PSeInt\")**"
   ]
  },
  {
   "cell_type": "code",
   "execution_count": null,
   "metadata": {},
   "outputs": [],
   "source": [
    "display(IFrame('http://pseint.sourceforge.net/', '100%', '600px'))"
   ]
  },
  {
   "cell_type": "markdown",
   "metadata": {
    "slideshow": {
     "slide_type": "subslide"
    }
   },
   "source": [
    "**[Jupyter](http://jupyter.org/ \"Jupyter\")**"
   ]
  },
  {
   "cell_type": "code",
   "execution_count": null,
   "metadata": {
    "slideshow": {
     "slide_type": "fragment"
    }
   },
   "outputs": [],
   "source": [
    "display(IFrame('http://jupyter.org', '100%', '600px'))"
   ]
  },
  {
   "cell_type": "markdown",
   "metadata": {
    "slideshow": {
     "slide_type": "subslide"
    }
   },
   "source": [
    "**[Anaconda](https://www.anaconda.com/ \"Anaconda\")**"
   ]
  },
  {
   "cell_type": "code",
   "execution_count": null,
   "metadata": {
    "scrolled": true,
    "slideshow": {
     "slide_type": "fragment"
    }
   },
   "outputs": [],
   "source": [
    "display(IFrame('https://www.anaconda.com/', '100%', '600px'))"
   ]
  },
  {
   "cell_type": "markdown",
   "metadata": {
    "slideshow": {
     "slide_type": "subslide"
    }
   },
   "source": [
    "**[PyCharm](https://www.jetbrains.com/pycharm-edu/ \"PyCharm\")**"
   ]
  },
  {
   "cell_type": "code",
   "execution_count": null,
   "metadata": {
    "scrolled": true,
    "slideshow": {
     "slide_type": "fragment"
    }
   },
   "outputs": [],
   "source": [
    "display(IFrame('https://www.jetbrains.com/pycharm-edu/', '100%', '600px'))"
   ]
  },
  {
   "cell_type": "markdown",
   "metadata": {
    "slideshow": {
     "slide_type": "subslide"
    }
   },
   "source": [
    "**[repl.it](https://www.repl.it \"repl.it\")**"
   ]
  },
  {
   "cell_type": "code",
   "execution_count": null,
   "metadata": {
    "slideshow": {
     "slide_type": "fragment"
    }
   },
   "outputs": [],
   "source": [
    "display(IFrame('https://www.repl.it', '100%', '600px'))"
   ]
  },
  {
   "cell_type": "markdown",
   "metadata": {
    "slideshow": {
     "slide_type": "subslide"
    }
   },
   "source": [
    "**[Notepad](http://notepad-plus-plus.org/ \"Notepad\")**"
   ]
  },
  {
   "cell_type": "code",
   "execution_count": null,
   "metadata": {
    "slideshow": {
     "slide_type": "fragment"
    }
   },
   "outputs": [],
   "source": [
    "display(IFrame('http://notepad-plus-plus.org/', '100%', '600px'))"
   ]
  },
  {
   "cell_type": "markdown",
   "metadata": {},
   "source": [
    "**[Google Colab](https://colab.research.google.com/ \"Google Colaboratory\")**"
   ]
  },
  {
   "cell_type": "code",
   "execution_count": null,
   "metadata": {},
   "outputs": [],
   "source": [
    "display(IFrame('https://colab.research.google.com/notebooks/welcome.ipynb#recent=true', '100%', '600px'))"
   ]
  },
  {
   "cell_type": "markdown",
   "metadata": {
    "slideshow": {
     "slide_type": "slide"
    }
   },
   "source": [
    "## De dónde obtengo información para aprender a programar?"
   ]
  },
  {
   "cell_type": "markdown",
   "metadata": {
    "slideshow": {
     "slide_type": "slide"
    }
   },
   "source": [
    "### Algoritmos\n",
    "\n",
    "Algunos libros introductorios en [Algoritmia](https://es.wikiversity.org/wiki/Algoritmia_y_programaci%C3%B3n_b%C3%A1sica/Aspectos_introductorios \"Algoritmia\")"
   ]
  },
  {
   "cell_type": "markdown",
   "metadata": {
    "slideshow": {
     "slide_type": "subslide"
    }
   },
   "source": [
    "**[Farrell, Joyce. Introducción a la programación Lógica y Diseño. 7a Ed. México: Cengage Learning, 2013.](http://latinoamerica.cengage.com/ls/introduccion-a-la-programacion-logica-y-diseno-7a-ed/ \"Farrell, Joyce. Introducción a la programación Lógica y Diseño\")**"
   ]
  },
  {
   "cell_type": "code",
   "execution_count": null,
   "metadata": {
    "slideshow": {
     "slide_type": "fragment"
    }
   },
   "outputs": [],
   "source": [
    "display(IFrame('http://latinoamerica.cengage.com/ls/introduccion-a-la-programacion-logica-y-diseno-7a-ed/', '100%', '600px'))"
   ]
  },
  {
   "cell_type": "markdown",
   "metadata": {
    "slideshow": {
     "slide_type": "subslide"
    }
   },
   "source": [
    "**[Pinales D., Francisco Javier. Velázquez A., César Edaurdo. Algoritmos Resueltos con Diagramas de Flujo y Pseudocódigo.](http://www.uaa.mx/direcciones/dgdv/editorial/docs/algoritmos.pdf \"Pinales D., Francisco Javier. Velázquez A., César Edaurdo. Algoritmos Resueltos con Diagramas de Flujo y Pseudocódigo\")**"
   ]
  },
  {
   "cell_type": "code",
   "execution_count": null,
   "metadata": {
    "slideshow": {
     "slide_type": "fragment"
    }
   },
   "outputs": [],
   "source": [
    "display(IFrame('http://www.uaa.mx/direcciones/dgdv/editorial/docs/algoritmos.pdf', '100%', '600px'))"
   ]
  },
  {
   "cell_type": "markdown",
   "metadata": {
    "slideshow": {
     "slide_type": "slide"
    }
   },
   "source": [
    "### Python como lenguaje de programación (uno entre muchos)"
   ]
  },
  {
   "cell_type": "code",
   "execution_count": null,
   "metadata": {},
   "outputs": [],
   "source": [
    "print(\"Escriba el texto\")"
   ]
  },
  {
   "cell_type": "markdown",
   "metadata": {
    "slideshow": {
     "slide_type": "subslide"
    }
   },
   "source": [
    "**[Python.org](https://www.python.org/ \"Python.org\"):** Página oficial del lenguaje de programación Python (inglés)"
   ]
  },
  {
   "cell_type": "code",
   "execution_count": null,
   "metadata": {
    "slideshow": {
     "slide_type": "fragment"
    }
   },
   "outputs": [],
   "source": [
    "display(IFrame('https://www.python.org/', '100%', '600px'))"
   ]
  },
  {
   "cell_type": "markdown",
   "metadata": {
    "slideshow": {
     "slide_type": "subslide"
    }
   },
   "source": [
    "**[Downey, Allen B. Think Python. 2a Ed. Green Tea Press.](http://greenteapress.com/wp/think-python-2e/ \"Downey, Allen B. Think Python\"):** Libro en PDF de libre descarga (inglés).  "
   ]
  },
  {
   "cell_type": "code",
   "execution_count": null,
   "metadata": {
    "slideshow": {
     "slide_type": "fragment"
    }
   },
   "outputs": [],
   "source": [
    "display(IFrame('http://greenteapress.com/wp/think-python-2e/', '100%', '600px'))"
   ]
  },
  {
   "cell_type": "markdown",
   "metadata": {
    "slideshow": {
     "slide_type": "subslide"
    }
   },
   "source": [
    "**[Gonzalez Duque, Raul. Python para todos.](http://mundogeek.net/tutorial-python/ \"Gonzalez Duque, Raul. Python para todos.\"):** No tan bueno (por no decir otra cosa) pero en áras de la libertad de información..."
   ]
  },
  {
   "cell_type": "code",
   "execution_count": null,
   "metadata": {
    "slideshow": {
     "slide_type": "fragment"
    }
   },
   "outputs": [],
   "source": [
    "display(IFrame('http://mundogeek.net/tutorial-python/', '100%', '600px'))"
   ]
  },
  {
   "cell_type": "markdown",
   "metadata": {
    "slideshow": {
     "slide_type": "slide"
    }
   },
   "source": [
    "### Cursos on-line:\n",
    "\n",
    "Algunas páginas que ofrecen cursos on-line en diferentes áreas de las *TICs* (inglés/español). Algunos son libres (\"grátis\") pero si necesita certificado debes pagar."
   ]
  },
  {
   "cell_type": "markdown",
   "metadata": {
    "slideshow": {
     "slide_type": "subslide"
    }
   },
   "source": [
    "**[Python Course](https://www.python-course.eu/index.php):** Excelente página para aprender `Python`a nivel básico, intermedio y/o avanzado (inglés)"
   ]
  },
  {
   "cell_type": "code",
   "execution_count": null,
   "metadata": {
    "slideshow": {
     "slide_type": "fragment"
    }
   },
   "outputs": [],
   "source": [
    "display(IFrame('https://www.python-course.eu/index.php', '100%', '600px'))"
   ]
  },
  {
   "cell_type": "markdown",
   "metadata": {
    "slideshow": {
     "slide_type": "subslide"
    }
   },
   "source": [
    "**[Coursera](https://www.coursera.org/ \"Coursera\"):**"
   ]
  },
  {
   "cell_type": "code",
   "execution_count": null,
   "metadata": {
    "slideshow": {
     "slide_type": "fragment"
    }
   },
   "outputs": [],
   "source": [
    "display(IFrame('https://www.coursera.org/', '100%', '600px'))"
   ]
  },
  {
   "cell_type": "markdown",
   "metadata": {
    "slideshow": {
     "slide_type": "subslide"
    }
   },
   "source": [
    "**[Udemy](https://www.udemy.com/ \"Udemy\")**"
   ]
  },
  {
   "cell_type": "code",
   "execution_count": null,
   "metadata": {
    "scrolled": true,
    "slideshow": {
     "slide_type": "fragment"
    }
   },
   "outputs": [],
   "source": [
    "display(IFrame('https://www.udemy.com/', '100%', '600px'))"
   ]
  },
  {
   "cell_type": "markdown",
   "metadata": {
    "slideshow": {
     "slide_type": "subslide"
    }
   },
   "source": [
    "**[DataCamp](https://www.datacamp.com/ \"DataCamp\")**"
   ]
  },
  {
   "cell_type": "code",
   "execution_count": null,
   "metadata": {
    "scrolled": true,
    "slideshow": {
     "slide_type": "fragment"
    }
   },
   "outputs": [],
   "source": [
    "display(IFrame('https://www.datacamp.com/', '100%', '600px'))"
   ]
  },
  {
   "cell_type": "markdown",
   "metadata": {
    "slideshow": {
     "slide_type": "subslide"
    }
   },
   "source": [
    "**[SocraticaStudios](https://www.youtube.com/user/SocraticaStudios \"Socratica\")** Canal de [Youtube](https://www.youtube.com/ \"Youtube\") con algunos recursos en español."
   ]
  },
  {
   "cell_type": "code",
   "execution_count": null,
   "metadata": {
    "slideshow": {
     "slide_type": "fragment"
    }
   },
   "outputs": [],
   "source": [
    "display(IFrame('https://www.youtube.com/user/SocraticaStudios', '100%', '600px'))"
   ]
  },
  {
   "cell_type": "markdown",
   "metadata": {
    "slideshow": {
     "slide_type": "slide"
    }
   },
   "source": [
    "### Apps para Smartphones y Tablets"
   ]
  },
  {
   "cell_type": "markdown",
   "metadata": {
    "slideshow": {
     "slide_type": "subslide"
    }
   },
   "source": [
    "**[Sololearn](https://www.sololearn.com/Course/Python/)**"
   ]
  },
  {
   "cell_type": "code",
   "execution_count": null,
   "metadata": {
    "slideshow": {
     "slide_type": "fragment"
    }
   },
   "outputs": [],
   "source": [
    "HTML('<iframe src=\"https://www.sololearn.com/Course/Python/\" width=\"1200\" height=\"800\"></iframe>')"
   ]
  },
  {
   "cell_type": "markdown",
   "metadata": {
    "slideshow": {
     "slide_type": "slide"
    }
   },
   "source": [
    "### Repositorios"
   ]
  },
  {
   "cell_type": "markdown",
   "metadata": {
    "slideshow": {
     "slide_type": "fragment"
    }
   },
   "source": [
    "En los repositorios de software encontrarán abundante información de códigos ya creados que les permitirán avanzar en el conocimiento de los diferentes esquemas de programación, así como ver cómo es que otros programan y tienen (posiblemente) buenas prácticas de programación que te servirán para tener unos códigos muy eficientes y límpios."
   ]
  },
  {
   "cell_type": "markdown",
   "metadata": {
    "slideshow": {
     "slide_type": "subslide"
    }
   },
   "source": [
    "**[Github](https://github.com/ \"Github\")**"
   ]
  },
  {
   "cell_type": "code",
   "execution_count": null,
   "metadata": {
    "slideshow": {
     "slide_type": "fragment"
    }
   },
   "outputs": [],
   "source": [
    "display(IFrame('https://github.com/', '100%', '600px'))"
   ]
  },
  {
   "cell_type": "markdown",
   "metadata": {
    "slideshow": {
     "slide_type": "slide"
    }
   },
   "source": [
    "# Por qué Python?"
   ]
  },
  {
   "cell_type": "markdown",
   "metadata": {},
   "source": [
    "- Lenguaje de programación de alto nivel creado por **[Guido van Rossum](https://gvanrossum.github.io/ \"Guido van Rossum's home page\")** a finales de los 80's. \n",
    "\n",
    "\n",
    "- Actualmente ocupa el tercer lugar como uno de los lenguajes de programación más ampliamente difundidos a nivel mundial. [TIOBE index january/2019](https://www.tiobe.com/tiobe-index/ \"tiobe.com\")\n",
    "\n",
    "\n",
    "- Una de las mayores ventajas es su \"simplicidad\": En general, se requiere de muchas menos líneas de programación para ejecutar una determinada tarea que en otros lenguajes ($\\texttt{C}$, $\\texttt{C++}$, $\\textbf{Java}$, $\\ldots$.).\n",
    "\n",
    "\n",
    "- Viene con una amplica colección de bibliotecas que permiten extender las capacidades del lenguaje."
   ]
  },
  {
   "cell_type": "markdown",
   "metadata": {
    "slideshow": {
     "slide_type": "subslide"
    }
   },
   "source": [
    "- Es un lenguaje de plataforma transversal, es decir, el código escrito en Windows trabajará bien en Linux o Mac OS sin la necesidad de realizar ningún tipo de cambios en el código.\n",
    "\n",
    "\n",
    "- Actualmente (***octubre/2019***) el interprete se encuentra en la versión $3.7.4$, pero la mayoría de bibliotecas y códigos más usados aún se encuentran en las versiones $2.X$. [Página Oficial de Python.org](https://www.python.org \"Python's homepage\").\n",
    "\n",
    "\n",
    "- La diferencia entre ambas versiones no sobrepasa el 10%, por lo que se puede usar una u otra sin problemas para la mayoría de aplicaciones."
   ]
  },
  {
   "cell_type": "markdown",
   "metadata": {
    "collapsed": true
   },
   "source": [
    "## Ejecución desde Consola (Windows)\n",
    "\n",
    "![Imagen](https://github.com/carlosalvarezh/FundamentosProgramacion_U_EAFIT/blob/master/images/ConsolaW.PNG?raw=true \"\")"
   ]
  },
  {
   "cell_type": "markdown",
   "metadata": {
    "slideshow": {
     "slide_type": "slide"
    }
   },
   "source": [
    "## Mi primer Programa en Python"
   ]
  },
  {
   "cell_type": "code",
   "execution_count": null,
   "metadata": {},
   "outputs": [],
   "source": [
    "print(\"Este es mi primer programa en Python!!!\")\n",
    "print(\"Hola Mundo en Python 3!\")"
   ]
  },
  {
   "cell_type": "code",
   "execution_count": null,
   "metadata": {},
   "outputs": [],
   "source": [
    "print(3+4)"
   ]
  },
  {
   "cell_type": "markdown",
   "metadata": {
    "slideshow": {
     "slide_type": "slide"
    }
   },
   "source": [
    "## Variables Expresiones y Sentencias"
   ]
  },
  {
   "cell_type": "markdown",
   "metadata": {},
   "source": [
    "### Valores y Tipos"
   ]
  },
  {
   "cell_type": "markdown",
   "metadata": {},
   "source": [
    "- Un valor es una de las cosas básicas con las que un programa trabaja.\n",
    "\n",
    "- Los valores pueden ser Números (punto flotante, enteros, complejos...) Caracteres o Cadenas de Caracteres (strings)"
   ]
  },
  {
   "cell_type": "code",
   "execution_count": null,
   "metadata": {
    "slideshow": {
     "slide_type": "subslide"
    }
   },
   "outputs": [],
   "source": [
    "type(c)"
   ]
  },
  {
   "cell_type": "code",
   "execution_count": null,
   "metadata": {},
   "outputs": [],
   "source": []
  },
  {
   "cell_type": "code",
   "execution_count": null,
   "metadata": {
    "slideshow": {
     "slide_type": "subslide"
    }
   },
   "outputs": [],
   "source": [
    "type(\"Hola Mundo!\")"
   ]
  },
  {
   "cell_type": "code",
   "execution_count": null,
   "metadata": {
    "slideshow": {
     "slide_type": "subslide"
    }
   },
   "outputs": [],
   "source": [
    "type(17)"
   ]
  },
  {
   "cell_type": "code",
   "execution_count": null,
   "metadata": {
    "slideshow": {
     "slide_type": "subslide"
    }
   },
   "outputs": [],
   "source": [
    "type(17.)"
   ]
  },
  {
   "cell_type": "code",
   "execution_count": null,
   "metadata": {
    "slideshow": {
     "slide_type": "subslide"
    }
   },
   "outputs": [],
   "source": [
    "type(3+2j)"
   ]
  },
  {
   "cell_type": "code",
   "execution_count": null,
   "metadata": {
    "slideshow": {
     "slide_type": "subslide"
    }
   },
   "outputs": [],
   "source": [
    "type(\"17.0\")"
   ]
  },
  {
   "cell_type": "code",
   "execution_count": null,
   "metadata": {
    "slideshow": {
     "slide_type": "subslide"
    }
   },
   "outputs": [],
   "source": [
    "type('string')"
   ]
  },
  {
   "cell_type": "code",
   "execution_count": null,
   "metadata": {
    "slideshow": {
     "slide_type": "subslide"
    }
   },
   "outputs": [],
   "source": [
    "z = 1,000,0000,000,00 #Producirá un error de semántica\n",
    "print(type(z))\n",
    "print(z)"
   ]
  },
  {
   "cell_type": "code",
   "execution_count": null,
   "metadata": {
    "slideshow": {
     "slide_type": "subslide"
    }
   },
   "outputs": [],
   "source": [
    "1.000.000.000 #Producirá un error de sintáxis"
   ]
  },
  {
   "cell_type": "code",
   "execution_count": null,
   "metadata": {},
   "outputs": [],
   "source": [
    "1000000000000.8678568"
   ]
  },
  {
   "cell_type": "markdown",
   "metadata": {
    "slideshow": {
     "slide_type": "slide"
    }
   },
   "source": [
    "### Variables"
   ]
  },
  {
   "cell_type": "markdown",
   "metadata": {},
   "source": [
    "- Una variable es un nombre que hace referencia a un valor.\n",
    "\n",
    "- Una sentencia de asignación crea nuevas variables y valores dados."
   ]
  },
  {
   "cell_type": "code",
   "execution_count": null,
   "metadata": {
    "slideshow": {
     "slide_type": "subslide"
    }
   },
   "outputs": [],
   "source": [
    "mensaje = \"Este es un mensaje\"\n",
    "n = 17\n",
    "pi = 3.14159265"
   ]
  },
  {
   "cell_type": "markdown",
   "metadata": {
    "slideshow": {
     "slide_type": "subslide"
    }
   },
   "source": [
    "- Este ejemplo realiza tres asignaciones."
   ]
  },
  {
   "cell_type": "code",
   "execution_count": null,
   "metadata": {},
   "outputs": [],
   "source": [
    "type(mensaje)"
   ]
  },
  {
   "cell_type": "code",
   "execution_count": null,
   "metadata": {},
   "outputs": [],
   "source": [
    "type(n)"
   ]
  },
  {
   "cell_type": "code",
   "execution_count": null,
   "metadata": {},
   "outputs": [],
   "source": [
    "type(pi)"
   ]
  },
  {
   "cell_type": "code",
   "execution_count": null,
   "metadata": {
    "slideshow": {
     "slide_type": "subslide"
    }
   },
   "outputs": [],
   "source": [
    "x = n * pi\n",
    "print(type(x))"
   ]
  },
  {
   "cell_type": "code",
   "execution_count": null,
   "metadata": {},
   "outputs": [],
   "source": [
    "z = n*mensaje\n",
    "print(z)"
   ]
  },
  {
   "cell_type": "code",
   "execution_count": null,
   "metadata": {},
   "outputs": [],
   "source": [
    "p = pi * mensaje\n",
    "print(p)"
   ]
  },
  {
   "cell_type": "markdown",
   "metadata": {
    "slideshow": {
     "slide_type": "slide"
    }
   },
   "source": [
    "### Nombre de Variables y Palabras Claves (keywords)"
   ]
  },
  {
   "cell_type": "code",
   "execution_count": null,
   "metadata": {},
   "outputs": [],
   "source": [
    "b = \"Hola\"\n",
    "B = 5\n",
    "v = B * b\n",
    "print(v)"
   ]
  },
  {
   "cell_type": "markdown",
   "metadata": {},
   "source": [
    "- Nombres de variables pueden tener un tamaño arbitrariamente de caracteres.\n",
    "\n",
    "\n",
    "- Pueden contener letras y números, pero <strong>SIEMPRE</strong> deben empezar por una letra.\n",
    "\n",
    "\n",
    "- Es **\"Kool\"** usar letras en mayúscula, pero es una buena práctica empezar los nombres de variables en minúscula.\n",
    "\n",
    "\n",
    "- El carácter \"guión bajo\" (*underscore*), `_` , puede aparecer en el nombre de una variable. Usado frecuentemente en variables cuyo nombre está compuesto por diferentes palabras.\n",
    "\n",
    "\n",
    "- Si da a una variable un nombre ilegal, obtendrá un error de sintaxis."
   ]
  },
  {
   "cell_type": "code",
   "execution_count": null,
   "metadata": {
    "slideshow": {
     "slide_type": "subslide"
    }
   },
   "outputs": [],
   "source": [
    "este_puede_ser_el_nombre_valido_de_una_variable = 1\n",
    "print(este_puede_ser_el_nombre_valido_de_una_variable)"
   ]
  },
  {
   "cell_type": "code",
   "execution_count": null,
   "metadata": {},
   "outputs": [],
   "source": [
    "estaEsUnaVariable = 3\n",
    "print(estaEsUnaVariable)"
   ]
  },
  {
   "cell_type": "code",
   "execution_count": null,
   "metadata": {
    "slideshow": {
     "slide_type": "subslide"
    }
   },
   "outputs": [],
   "source": [
    "mamá = 3\n",
    "print(mamá)"
   ]
  },
  {
   "cell_type": "code",
   "execution_count": null,
   "metadata": {
    "slideshow": {
     "slide_type": "subslide"
    }
   },
   "outputs": [],
   "source": [
    "76Pesos = 76\n",
    "print(76Pesos)"
   ]
  },
  {
   "cell_type": "code",
   "execution_count": null,
   "metadata": {
    "slideshow": {
     "slide_type": "subslide"
    }
   },
   "outputs": [],
   "source": [
    "P3s0s 76 = 76\n",
    "print(P3s0s76)"
   ]
  },
  {
   "cell_type": "code",
   "execution_count": null,
   "metadata": {
    "slideshow": {
     "slide_type": "subslide"
    }
   },
   "outputs": [],
   "source": [
    "mas@ = 5.3 "
   ]
  },
  {
   "cell_type": "code",
   "execution_count": null,
   "metadata": {
    "slideshow": {
     "slide_type": "subslide"
    }
   },
   "outputs": [],
   "source": [
    "esta variable = 2.5"
   ]
  },
  {
   "cell_type": "code",
   "execution_count": null,
   "metadata": {
    "slideshow": {
     "slide_type": "subslide"
    }
   },
   "outputs": [],
   "source": [
    "print = \"Avanzado\""
   ]
  },
  {
   "cell_type": "code",
   "execution_count": null,
   "metadata": {},
   "outputs": [],
   "source": [
    "print(class1)"
   ]
  },
  {
   "cell_type": "markdown",
   "metadata": {
    "slideshow": {
     "slide_type": "slide"
    }
   },
   "source": [
    "### Palabras Clave (keywords) y funciones integradas (builtins)\n",
    "\n",
    "El archivo `keyword.py` se distribuye junto con la librería estándar de `Python`. Es generado automáticamente a partir del archivo `graminit.c`, perteneciente al código fuente del intérprete. Incorpora una lista que contiene el conjunto de palabras resevadas, y una simple función que determina la existencia de un `keyword` a partir de una cadena."
   ]
  },
  {
   "cell_type": "code",
   "execution_count": 2,
   "metadata": {
    "slideshow": {
     "slide_type": "-"
    }
   },
   "outputs": [
    {
     "name": "stdout",
     "output_type": "stream",
     "text": [
      "['False', 'None', 'True', 'and', 'as', 'assert', 'async', 'await', 'break', 'class', 'continue', 'def', 'del', 'elif', 'else', 'except', 'finally', 'for', 'from', 'global', 'if', 'import', 'in', 'is', 'lambda', 'nonlocal', 'not', 'or', 'pass', 'raise', 'return', 'try', 'while', 'with', 'yield']\n",
      "35\n"
     ]
    }
   ],
   "source": [
    "# Palabras clave\n",
    "\n",
    "import keyword\n",
    "listkw = keyword.kwlist\n",
    "print(listkw)\n",
    "print(len(listkw))"
   ]
  },
  {
   "cell_type": "code",
   "execution_count": 3,
   "metadata": {},
   "outputs": [
    {
     "name": "stdout",
     "output_type": "stream",
     "text": [
      "['ArithmeticError', 'AssertionError', 'AttributeError', 'BaseException', 'BlockingIOError', 'BrokenPipeError', 'BufferError', 'BytesWarning', 'ChildProcessError', 'ConnectionAbortedError', 'ConnectionError', 'ConnectionRefusedError', 'ConnectionResetError', 'DeprecationWarning', 'EOFError', 'Ellipsis', 'EnvironmentError', 'Exception', 'False', 'FileExistsError', 'FileNotFoundError', 'FloatingPointError', 'FutureWarning', 'GeneratorExit', 'IOError', 'ImportError', 'ImportWarning', 'IndentationError', 'IndexError', 'InterruptedError', 'IsADirectoryError', 'KeyError', 'KeyboardInterrupt', 'LookupError', 'MemoryError', 'ModuleNotFoundError', 'NameError', 'None', 'NotADirectoryError', 'NotImplemented', 'NotImplementedError', 'OSError', 'OverflowError', 'PendingDeprecationWarning', 'PermissionError', 'ProcessLookupError', 'RecursionError', 'ReferenceError', 'ResourceWarning', 'RuntimeError', 'RuntimeWarning', 'StopAsyncIteration', 'StopIteration', 'SyntaxError', 'SyntaxWarning', 'SystemError', 'SystemExit', 'TabError', 'TimeoutError', 'True', 'TypeError', 'UnboundLocalError', 'UnicodeDecodeError', 'UnicodeEncodeError', 'UnicodeError', 'UnicodeTranslateError', 'UnicodeWarning', 'UserWarning', 'ValueError', 'Warning', 'ZeroDivisionError', '__IPYTHON__', '__build_class__', '__debug__', '__doc__', '__import__', '__loader__', '__name__', '__package__', '__spec__', 'abs', 'all', 'any', 'ascii', 'bin', 'bool', 'breakpoint', 'bytearray', 'bytes', 'callable', 'chr', 'classmethod', 'compile', 'complex', 'copyright', 'credits', 'delattr', 'dict', 'dir', 'display', 'divmod', 'enumerate', 'eval', 'exec', 'filter', 'float', 'format', 'frozenset', 'get_ipython', 'getattr', 'globals', 'hasattr', 'hash', 'help', 'hex', 'id', 'input', 'int', 'isinstance', 'issubclass', 'iter', 'len', 'license', 'list', 'locals', 'map', 'max', 'memoryview', 'min', 'next', 'object', 'oct', 'open', 'ord', 'pow', 'print', 'property', 'range', 'repr', 'reversed', 'round', 'set', 'setattr', 'slice', 'sorted', 'staticmethod', 'str', 'sum', 'super', 'tuple', 'type', 'vars', 'zip']\n",
      "153\n"
     ]
    }
   ],
   "source": [
    "# Funciones integradas\n",
    "\n",
    "import builtins\n",
    "list_bins = dir(builtins)\n",
    "print(list_bins)\n",
    "print(len(list_bins))"
   ]
  },
  {
   "cell_type": "markdown",
   "metadata": {},
   "source": [
    "### Ayuda (documentación)"
   ]
  },
  {
   "cell_type": "code",
   "execution_count": 4,
   "metadata": {},
   "outputs": [
    {
     "name": "stdout",
     "output_type": "stream",
     "text": [
      "Boolean operations\n",
      "******************\n",
      "\n",
      "   or_test  ::= and_test | or_test \"or\" and_test\n",
      "   and_test ::= not_test | and_test \"and\" not_test\n",
      "   not_test ::= comparison | \"not\" not_test\n",
      "\n",
      "In the context of Boolean operations, and also when expressions are\n",
      "used by control flow statements, the following values are interpreted\n",
      "as false: \"False\", \"None\", numeric zero of all types, and empty\n",
      "strings and containers (including strings, tuples, lists,\n",
      "dictionaries, sets and frozensets).  All other values are interpreted\n",
      "as true.  User-defined objects can customize their truth value by\n",
      "providing a \"__bool__()\" method.\n",
      "\n",
      "The operator \"not\" yields \"True\" if its argument is false, \"False\"\n",
      "otherwise.\n",
      "\n",
      "The expression \"x and y\" first evaluates *x*; if *x* is false, its\n",
      "value is returned; otherwise, *y* is evaluated and the resulting value\n",
      "is returned.\n",
      "\n",
      "The expression \"x or y\" first evaluates *x*; if *x* is true, its value\n",
      "is returned; otherwise, *y* is evaluated and the resulting value is\n",
      "returned.\n",
      "\n",
      "Note that neither \"and\" nor \"or\" restrict the value and type they\n",
      "return to \"False\" and \"True\", but rather return the last evaluated\n",
      "argument.  This is sometimes useful, e.g., if \"s\" is a string that\n",
      "should be replaced by a default value if it is empty, the expression\n",
      "\"s or 'foo'\" yields the desired value.  Because \"not\" has to create a\n",
      "new value, it returns a boolean value regardless of the type of its\n",
      "argument (for example, \"not 'foo'\" produces \"False\" rather than \"''\".)\n",
      "\n",
      "Related help topics: EXPRESSIONS, TRUTHVALUE\n",
      "\n"
     ]
    }
   ],
   "source": [
    "help(\"and\")"
   ]
  },
  {
   "cell_type": "markdown",
   "metadata": {
    "slideshow": {
     "slide_type": "slide"
    }
   },
   "source": [
    "### Asignación Múltiple"
   ]
  },
  {
   "cell_type": "markdown",
   "metadata": {
    "slideshow": {
     "slide_type": "-"
    }
   },
   "source": [
    "- Otra de las ventajas que *Python* nos provee, es la de poder asignar en una sola instrucción, múltiples variables."
   ]
  },
  {
   "cell_type": "code",
   "execution_count": 5,
   "metadata": {
    "slideshow": {
     "slide_type": "subslide"
    }
   },
   "outputs": [],
   "source": [
    "a, b, c, d = \"class\", 15, True, 3.8"
   ]
  },
  {
   "cell_type": "code",
   "execution_count": 6,
   "metadata": {},
   "outputs": [
    {
     "data": {
      "text/plain": [
       "bool"
      ]
     },
     "execution_count": 6,
     "metadata": {},
     "output_type": "execute_result"
    }
   ],
   "source": [
    "type(c)"
   ]
  },
  {
   "cell_type": "code",
   "execution_count": 7,
   "metadata": {},
   "outputs": [
    {
     "name": "stdout",
     "output_type": "stream",
     "text": [
      "class\n",
      "15\n",
      "True\n",
      "3.8\n"
     ]
    }
   ],
   "source": [
    "print(a)\n",
    "print(b)\n",
    "print(c)\n",
    "print(d)"
   ]
  },
  {
   "cell_type": "markdown",
   "metadata": {
    "slideshow": {
     "slide_type": "slide"
    }
   },
   "source": [
    "## Operadores y Operandos"
   ]
  },
  {
   "cell_type": "markdown",
   "metadata": {},
   "source": [
    "* Los operadores son símbolos especiales que representan cálculos: \n",
    "  - Suma: `+`\n",
    "  - Resta: `-`\n",
    "  - Multiplicación: `*`\n",
    "  - División: `/`\n",
    "  - Potenciación: `**`\n",
    "  - División entera: `//`\n",
    "  - Módulo: `%`"
   ]
  },
  {
   "cell_type": "code",
   "execution_count": 8,
   "metadata": {
    "slideshow": {
     "slide_type": "subslide"
    }
   },
   "outputs": [
    {
     "name": "stdout",
     "output_type": "stream",
     "text": [
      "5\n"
     ]
    }
   ],
   "source": [
    "r = 3 + 2\n",
    "print(r)"
   ]
  },
  {
   "cell_type": "code",
   "execution_count": 9,
   "metadata": {
    "slideshow": {
     "slide_type": "subslide"
    }
   },
   "outputs": [
    {
     "name": "stdout",
     "output_type": "stream",
     "text": [
      "-3\n"
     ]
    }
   ],
   "source": [
    "r = 1 - 4\n",
    "print(r)"
   ]
  },
  {
   "cell_type": "code",
   "execution_count": 10,
   "metadata": {
    "slideshow": {
     "slide_type": "subslide"
    }
   },
   "outputs": [
    {
     "name": "stdout",
     "output_type": "stream",
     "text": [
      "243\n"
     ]
    }
   ],
   "source": [
    "r = 3 ** 5\n",
    "print(r)"
   ]
  },
  {
   "cell_type": "code",
   "execution_count": 15,
   "metadata": {
    "slideshow": {
     "slide_type": "subslide"
    }
   },
   "outputs": [
    {
     "name": "stdout",
     "output_type": "stream",
     "text": [
      "1.6666666666666667\n"
     ]
    }
   ],
   "source": [
    "r = 5 / 3\n",
    "print(r)"
   ]
  },
  {
   "cell_type": "code",
   "execution_count": 16,
   "metadata": {
    "slideshow": {
     "slide_type": "subslide"
    }
   },
   "outputs": [
    {
     "name": "stdout",
     "output_type": "stream",
     "text": [
      "1\n"
     ]
    }
   ],
   "source": [
    "r = 5 // 3\n",
    "print(r)"
   ]
  },
  {
   "cell_type": "code",
   "execution_count": 17,
   "metadata": {
    "slideshow": {
     "slide_type": "subslide"
    }
   },
   "outputs": [
    {
     "name": "stdout",
     "output_type": "stream",
     "text": [
      "0\n"
     ]
    }
   ],
   "source": [
    "r = 40 % 4\n",
    "print(r)"
   ]
  },
  {
   "cell_type": "markdown",
   "metadata": {
    "slideshow": {
     "slide_type": "slide"
    }
   },
   "source": [
    "#### Observaciones!\n",
    "\n",
    "- En *Python* el operador \" `^` \" representa el operador bit a bit `XOR`.\n",
    "\n",
    "\n",
    "- En *Python 2.x*, el operador división puede no hacer lo que usted esperaría que hiciera:"
   ]
  },
  {
   "cell_type": "code",
   "execution_count": 18,
   "metadata": {
    "slideshow": {
     "slide_type": "subslide"
    }
   },
   "outputs": [
    {
     "data": {
      "text/plain": [
       "0.9833333333333333"
      ]
     },
     "execution_count": 18,
     "metadata": {},
     "output_type": "execute_result"
    }
   ],
   "source": [
    "minuto = 59\n",
    "minuto/60"
   ]
  },
  {
   "cell_type": "code",
   "execution_count": 19,
   "metadata": {},
   "outputs": [
    {
     "data": {
      "text/plain": [
       "3.5"
      ]
     },
     "execution_count": 19,
     "metadata": {},
     "output_type": "execute_result"
    }
   ],
   "source": [
    "7/2."
   ]
  },
  {
   "cell_type": "markdown",
   "metadata": {
    "slideshow": {
     "slide_type": "subslide"
    }
   },
   "source": [
    "- En *Python 2.x* el operador `/` realiza la operación \"*floor division*\". Cuando los operandos son enteros, el resultado es la parte entera.\n",
    "\n",
    "\n",
    "- En *Python 3.x*, el resultado es un número de punto flotante."
   ]
  },
  {
   "cell_type": "markdown",
   "metadata": {
    "slideshow": {
     "slide_type": "slide"
    }
   },
   "source": [
    "### Operadores a nivel de bit"
   ]
  },
  {
   "cell_type": "markdown",
   "metadata": {},
   "source": [
    "- Operador `&` (*and*): devuelve $1$ si el primer bit operando es $1$ y el segundo bit operando es $1$. Se devuelve $0$ en caso contrario.\n",
    "\n",
    "\n",
    "- Operador `|` (*or*): devuelve $1$ si el primer operando es $1$ o el segundo operandos $1$. Para el resto de casos se devuelve $0$.\n",
    "\n",
    "\n",
    "- Operador `^` (*xor*): devuelve $1$ si uno de los operandos es $1$ y el otro no lo es.\n",
    "\n",
    "\n",
    "- Operador `~` (*not*): sirve para negar uno a uno cada bit; es decir, si el operando es $0$, cambia a $1$ y si es $1$, cambia a $0$."
   ]
  },
  {
   "cell_type": "code",
   "execution_count": null,
   "metadata": {},
   "outputs": [],
   "source": []
  },
  {
   "cell_type": "code",
   "execution_count": null,
   "metadata": {
    "slideshow": {
     "slide_type": "slide"
    }
   },
   "outputs": [],
   "source": [
    "from IPython.core.display import HTML\n",
    "def css_styling():\n",
    "    styles = open(\"custom.css\", \"r\").read()\n",
    "    return HTML(styles)\n",
    "css_styling()"
   ]
  }
 ],
 "metadata": {
  "celltoolbar": "Slideshow",
  "kernelspec": {
   "display_name": "Python 3",
   "language": "python",
   "name": "python3"
  },
  "language_info": {
   "codemirror_mode": {
    "name": "ipython",
    "version": 3
   },
   "file_extension": ".py",
   "mimetype": "text/x-python",
   "name": "python",
   "nbconvert_exporter": "python",
   "pygments_lexer": "ipython3",
   "version": "3.7.3"
  },
  "latex_envs": {
   "LaTeX_envs_menu_present": true,
   "autocomplete": true,
   "bibliofile": "biblio.bib",
   "cite_by": "apalike",
   "current_citInitial": 1,
   "eqLabelWithNumbers": true,
   "eqNumInitial": 1,
   "hotkeys": {
    "equation": "Ctrl-E",
    "itemize": "Ctrl-I"
   },
   "labels_anchors": false,
   "latex_user_defs": false,
   "report_style_numbering": true,
   "user_envs_cfg": true
  }
 },
 "nbformat": 4,
 "nbformat_minor": 2
}
