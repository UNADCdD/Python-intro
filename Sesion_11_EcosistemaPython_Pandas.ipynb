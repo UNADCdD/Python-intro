{
 "cells": [
  {
   "cell_type": "markdown",
   "metadata": {},
   "source": [
    "![Logo_unad](https://upload.wikimedia.org/wikipedia/commons/5/5f/Logo_unad.png)\n",
    "\n",
    "<font size=3 color=\"midnightblue\" face=\"arial\">\n",
    "<h1 align=\"center\">Escuela de Ciencias Básicas, Tecnología e Ingeniería</h1>\n",
    "</font>\n",
    "\n",
    "<font size=3 color=\"navy\" face=\"arial\">\n",
    "<h1 align=\"center\">ECBTI</h1>\n",
    "</font>\n",
    "\n",
    "<font size=2 color=\"darkorange\" face=\"arial\">\n",
    "<h1 align=\"center\">Curso:</h1>\n",
    "</font>\n",
    "\n",
    "<font size=2 color=\"navy\" face=\"arial\">\n",
    "<h1 align=\"center\">Introducción al lenguaje de programación Python</h1>\n",
    "</font>\n",
    "\n",
    "<font size=1 color=\"darkorange\" face=\"arial\">\n",
    "<h1 align=\"center\">Febrero de 2020</h1>\n",
    "</font>"
   ]
  },
  {
   "cell_type": "markdown",
   "metadata": {},
   "source": [
    "<h2 align=\"center\">Sesión 11 - Ecosistema Python - Pandas</h2>"
   ]
  },
  {
   "cell_type": "markdown",
   "metadata": {},
   "source": [
    "## Instructor:\n",
    "> <strong> *Carlos Alberto Álvarez Henao, I.C. Ph.D.* </strong> "
   ]
  },
  {
   "cell_type": "markdown",
   "metadata": {},
   "source": [
    "## *Pandas*"
   ]
  },
  {
   "cell_type": "markdown",
   "metadata": {},
   "source": [
    "Es un módulo (biblioteca) en *Python* de código abierto (open source) que proporciona estructuras de datos flexibles y permite trabajar con la información de forma eficiente (gran parte de Pandas está implementado usando `C/Cython` para obtener un buen rendimiento).\n",
    "\n",
    "Desde [este enlace](http://pandas.pydata.org \"Pandas\") podrás acceder a la página oficial de Pandas."
   ]
  },
  {
   "cell_type": "markdown",
   "metadata": {},
   "source": [
    "Antes de *Pandas*, *Python* se utilizó principalmente para la manipulación y preparación de datos. Tenía muy poca contribución al análisis de datos. *Pandas* resolvió este problema. Usando *Pandas*, podemos lograr cinco pasos típicos en el procesamiento y análisis de datos, independientemente del origen de los datos: \n",
    "\n",
    "- cargar, \n",
    "\n",
    "\n",
    "- preparar, \n",
    "\n",
    "\n",
    "- manipular, \n",
    "\n",
    "\n",
    "- modelar, y \n",
    "\n",
    "\n",
    "- analizar."
   ]
  },
  {
   "cell_type": "markdown",
   "metadata": {},
   "source": [
    "## Principales características de *Pandas*\n",
    "\n",
    "- Objeto tipo DataFrame rápido y eficiente con indexación predeterminada y personalizada.\n",
    "\n",
    "- Herramientas para cargar datos en objetos de datos en memoria desde diferentes formatos de archivo.\n",
    "\n",
    "- Alineación de datos y manejo integrado de datos faltantes.\n",
    "\n",
    "- Remodelación y pivoteo de conjuntos de datos.\n",
    "\n",
    "- Etiquetado de corte, indexación y subconjunto de grandes conjuntos de datos.\n",
    "\n",
    "- Las columnas de una estructura de datos se pueden eliminar o insertar.\n",
    "\n",
    "- Agrupamiento por datos para agregación y transformaciones.\n",
    "\n",
    "- Alto rendimiento de fusión y unión de datos.\n",
    "\n",
    "- Funcionalidad de series de tiempo\n"
   ]
  },
  {
   "cell_type": "markdown",
   "metadata": {},
   "source": [
    "### Configuración de *Pandas*"
   ]
  },
  {
   "cell_type": "markdown",
   "metadata": {},
   "source": [
    "La distribución estándar del no incluye el módulo de `pandas`. Es necesario realizar el procedimiento de instalacion y difiere del ambiente o el sistema operativo empleados.\n",
    "\n",
    "Si usa el ambiente *[Anaconda](https://anaconda.org/)*, la alternativa más simple es usar el comando:"
   ]
  },
  {
   "cell_type": "raw",
   "metadata": {},
   "source": [
    "pip install pandas"
   ]
  },
  {
   "cell_type": "markdown",
   "metadata": {},
   "source": [
    "o empleando *conda*:"
   ]
  },
  {
   "cell_type": "raw",
   "metadata": {},
   "source": [
    "conda install -c anaconda pandas"
   ]
  },
  {
   "cell_type": "markdown",
   "metadata": {},
   "source": [
    "### Estructuras de datos en *Pandas*\n",
    "\n",
    "Ofrece varias estructuras de datos que nos resultarán de mucha utilidad y que vamos a ir viendo poco a poco. Todas las posibles estructuras de datos que ofrece a día de hoy son:\n",
    "\n",
    "\n",
    "- **`Series`:** Son arrays unidimensionales con indexación (arrays con índice o etiquetados), similar a los diccionarios. Pueden generarse a partir de diccionarios o de listas.\n",
    " \n",
    " \n",
    "- **`DataFrame`:** Similares a las tablas de bases de datos relacionales como `SQL`.\n",
    " \n",
    " \n",
    "- **`Panel`, `Panel4D` y `PanelND`:** Permiten trabajar con más de dos dimensiones. Dado que es algo complejo y poco utilizado trabajar con arrays de más de dos dimensiones no trataremos los paneles en estos tutoriales de introducción a Pandas."
   ]
  },
  {
   "cell_type": "markdown",
   "metadata": {},
   "source": [
    "## Dimensionado y Descripción"
   ]
  },
  {
   "cell_type": "markdown",
   "metadata": {},
   "source": [
    "La mejor manera para pensar sobre estas estructuras de datos es que la estructura de dato de dimension mayor contiene a la estructura de datos de menor dimensión.\n",
    "\n",
    "`DataFrame` contiene a las `Series`, `Panel` contiene al `DataFrame`\n",
    "\n",
    "\n",
    "| Data Structure | Dimension | Descripción |\n",
    "|----------------|:---------:|-------------|\n",
    "|`Series`          | 1         | Arreglo 1-Dimensional homogéneo de tamaño inmutable |\n",
    "|`DataFrames`      | 2         | Estructura tabular 2-Dimensional, tamaño mutable con columnas heterogéneas|\n",
    "|`Panel`           | 3         | Arreglo general 3-Dimensional, tamaño variable|\n",
    "\n",
    "La construcción y el manejo de dos o más matrices dimensionales es una tarea tediosa, se le impone una carga al usuario para considerar la orientación del conjunto de datos cuando se escriben las funciones. Pero al usar las estructuras de datos de *Pandas*, se reduce el esfuerzo mental del usuario.\n",
    "\n",
    "- Por ejemplo, con datos tabulares (`DataFrame`), es más útil semánticamente pensar en el índice (las filas) y las columnas, en lugar del eje 0 y el eje 1."
   ]
  },
  {
   "cell_type": "markdown",
   "metadata": {},
   "source": [
    "### Mutabilidad\n",
    "\n",
    "Las estructuras en *Pandas* son de valor mutable (se pueden cambiar), y excepto las `Series`, todas son de tamaño mutables. Los `DataFrames` son los más usados, los `Panel` no se usan tanto."
   ]
  },
  {
   "cell_type": "markdown",
   "metadata": {},
   "source": [
    "## Cargando el módulo *Pandas*"
   ]
  },
  {
   "cell_type": "code",
   "execution_count": 1,
   "metadata": {},
   "outputs": [],
   "source": [
    "import pandas as pd\n",
    "import numpy as np"
   ]
  },
  {
   "cell_type": "markdown",
   "metadata": {},
   "source": [
    "## `Series`:\n",
    "\n",
    "Las series se definen de la siguiente manera:"
   ]
  },
  {
   "cell_type": "raw",
   "metadata": {},
   "source": [
    "serie = pd.Series(data, index, dtype, copy)"
   ]
  },
  {
   "cell_type": "markdown",
   "metadata": {},
   "source": [
    "donde: \n",
    "\n",
    "- `data` es el vector de datos \n",
    "\n",
    "\n",
    "- `index` (opcional) es el vector de índices que usará la serie. Si los índices son datos de fechas directamente se creará una instancia de una `TimeSeries` en lugar de una instancia de `Series`. Si se omite, por defecto es: `np.arrange(n)`\n",
    "\n",
    "- `dtype`, tipo de dato. Si se omite, el tipo de dato se infiere.\n",
    "\n",
    "\n",
    "- `copy`, copia datos, por defecto es `False`.\n",
    "\n",
    "\n",
    "Veamos un ejemplo de como crear este tipo de contenedor de datos. Primero vamos a crear una `Series` y `Pandas` nos creará índices automáticamente:"
   ]
  },
  {
   "cell_type": "markdown",
   "metadata": {},
   "source": [
    "#### Creando una `Series` sin datos (vacía, `empty`)"
   ]
  },
  {
   "cell_type": "code",
   "execution_count": 2,
   "metadata": {},
   "outputs": [
    {
     "name": "stdout",
     "output_type": "stream",
     "text": [
      "Series([], dtype: float64)\n"
     ]
    }
   ],
   "source": [
    "s = pd.Series()\n",
    "print(s)"
   ]
  },
  {
   "cell_type": "markdown",
   "metadata": {},
   "source": [
    "#### Creando una *Serie* con datos"
   ]
  },
  {
   "cell_type": "markdown",
   "metadata": {},
   "source": [
    "Si los datos provienen de un `ndarray`, el índice pasado debe ser de la misma longitud. Si no se pasa ningún índice, el índice predeterminado será `range(n)` donde `n` es la longitud del arreglo, es decir, $[0,1,2, \\ldots rango(len(array))-1]$."
   ]
  },
  {
   "cell_type": "code",
   "execution_count": 3,
   "metadata": {},
   "outputs": [
    {
     "name": "stdout",
     "output_type": "stream",
     "text": [
      "0    a\n",
      "1    b\n",
      "2    c\n",
      "3    d\n",
      "dtype: object\n"
     ]
    }
   ],
   "source": [
    "data = np.array(['a','b','c','d'])\n",
    "s = pd.Series(data)\n",
    "print(s)"
   ]
  },
  {
   "cell_type": "markdown",
   "metadata": {},
   "source": [
    "- Obsérvese que no se pasó ningún índice, por lo que, de forma predeterminada, se asignaron los índices que van de `0` a `len(datos) - 1`, es decir, de `0` a `3`."
   ]
  },
  {
   "cell_type": "code",
   "execution_count": 4,
   "metadata": {},
   "outputs": [
    {
     "name": "stdout",
     "output_type": "stream",
     "text": [
      "150     a\n",
      "1       b\n",
      "can?    c\n",
      "10      d\n",
      "dtype: object\n"
     ]
    }
   ],
   "source": [
    "data = np.array(['a','b','c','d'])\n",
    "s = pd.Series(data,index=[150,1,\"can?\",10])\n",
    "print(s)"
   ]
  },
  {
   "cell_type": "markdown",
   "metadata": {},
   "source": [
    "- Aquí pasamos los valores del índice. Ahora podemos ver los valores indexados de forma personalizada en la salida."
   ]
  },
  {
   "cell_type": "markdown",
   "metadata": {},
   "source": [
    "#### Creando una `Series` desde un diccionario"
   ]
  },
  {
   "cell_type": "code",
   "execution_count": 8,
   "metadata": {},
   "outputs": [
    {
     "name": "stdout",
     "output_type": "stream",
     "text": [
      "a       0.0\n",
      "b       1.0\n",
      "True    2.0\n",
      "dtype: float64\n"
     ]
    }
   ],
   "source": [
    "data = {'a' : 0., 'b' : 1.,True : 2.}\n",
    "s = pd.Series(data)\n",
    "print(s)"
   ]
  },
  {
   "cell_type": "markdown",
   "metadata": {},
   "source": [
    "- La `clave` del diccionario es usada para construir el índice."
   ]
  },
  {
   "cell_type": "code",
   "execution_count": 9,
   "metadata": {},
   "outputs": [
    {
     "name": "stdout",
     "output_type": "stream",
     "text": [
      "b    1.0\n",
      "c    2.0\n",
      "d    NaN\n",
      "a    0.0\n",
      "dtype: float64\n"
     ]
    }
   ],
   "source": [
    "data = {'a' : 0., 'b' : 1., 'c' : 2.}\n",
    "s = pd.Series(data,index=['b','c','d','a'])\n",
    "print(s)"
   ]
  },
  {
   "cell_type": "markdown",
   "metadata": {},
   "source": [
    "- El orden del índice se conserva y el elemento faltante se llena con `NaN` (*Not a Number*)."
   ]
  },
  {
   "cell_type": "markdown",
   "metadata": {},
   "source": [
    "#### Creando una *Serie* desde un escalar"
   ]
  },
  {
   "cell_type": "code",
   "execution_count": 10,
   "metadata": {},
   "outputs": [
    {
     "name": "stdout",
     "output_type": "stream",
     "text": [
      "0    5\n",
      "1    5\n",
      "2    5\n",
      "3    5\n",
      "dtype: int64\n"
     ]
    }
   ],
   "source": [
    "s = pd.Series(5, index=[0, 1, 2, 3])\n",
    "print(s)"
   ]
  },
  {
   "cell_type": "markdown",
   "metadata": {},
   "source": [
    "#### Accesando a los datos desde la `Series` con la posición"
   ]
  },
  {
   "cell_type": "markdown",
   "metadata": {},
   "source": [
    "Los datos en una `Series` se pueden acceder de forma similar a un `ndarray`"
   ]
  },
  {
   "cell_type": "code",
   "execution_count": 13,
   "metadata": {},
   "outputs": [
    {
     "name": "stdout",
     "output_type": "stream",
     "text": [
      "3\n"
     ]
    }
   ],
   "source": [
    "s = pd.Series([1,2,3,4,5],index = ['a','b','c','d','e'])\n",
    "print(s['c']) # recupera el primer elemento"
   ]
  },
  {
   "cell_type": "markdown",
   "metadata": {},
   "source": [
    "Ahora, recuperemos los tres primeros elementos en la `Series`. Si se inserta `a:` delante, se extraerán todos los elementos de ese índice en adelante. Si se usan dos parámetros (con `:` entre ellos), se extraerán los elementos entre los dos índices (sin incluir el índice de detención)."
   ]
  },
  {
   "cell_type": "code",
   "execution_count": 14,
   "metadata": {},
   "outputs": [
    {
     "name": "stdout",
     "output_type": "stream",
     "text": [
      "a    1\n",
      "b    2\n",
      "c    3\n",
      "dtype: int64\n"
     ]
    }
   ],
   "source": [
    "print(s[:3]) # recupera los tres primeros elementos"
   ]
  },
  {
   "cell_type": "markdown",
   "metadata": {},
   "source": [
    "Recupere los tres últimos elementos"
   ]
  },
  {
   "cell_type": "code",
   "execution_count": 15,
   "metadata": {},
   "outputs": [
    {
     "name": "stdout",
     "output_type": "stream",
     "text": [
      "c    3\n",
      "d    4\n",
      "e    5\n",
      "dtype: int64\n"
     ]
    }
   ],
   "source": [
    "print(s[-3:])"
   ]
  },
  {
   "cell_type": "markdown",
   "metadata": {},
   "source": [
    "#### Recuperando los datos usando indexación\n",
    "\n",
    "Recupere un único elemento usando el valor del índice"
   ]
  },
  {
   "cell_type": "code",
   "execution_count": null,
   "metadata": {},
   "outputs": [],
   "source": [
    "print(s['a'])"
   ]
  },
  {
   "cell_type": "markdown",
   "metadata": {},
   "source": [
    "Recupere múltiples elementos usando una lista de valores de los índices"
   ]
  },
  {
   "cell_type": "code",
   "execution_count": 16,
   "metadata": {},
   "outputs": [
    {
     "name": "stdout",
     "output_type": "stream",
     "text": [
      "a    1\n",
      "c    3\n",
      "d    4\n",
      "dtype: int64\n"
     ]
    }
   ],
   "source": [
    "print(s[['a','c','d']])"
   ]
  },
  {
   "cell_type": "markdown",
   "metadata": {},
   "source": [
    "Si una etiqueta no está contenida, se emitirá un mensaje de excepción (error)"
   ]
  },
  {
   "cell_type": "code",
   "execution_count": 17,
   "metadata": {
    "collapsed": true
   },
   "outputs": [
    {
     "ename": "KeyError",
     "evalue": "'f'",
     "output_type": "error",
     "traceback": [
      "\u001b[0;31m---------------------------------------------------------------------------\u001b[0m",
      "\u001b[0;31mTypeError\u001b[0m                                 Traceback (most recent call last)",
      "\u001b[0;32m~/anaconda3/lib/python3.7/site-packages/pandas/core/indexes/base.py\u001b[0m in \u001b[0;36mget_value\u001b[0;34m(self, series, key)\u001b[0m\n\u001b[1;32m   4380\u001b[0m             \u001b[0;32mtry\u001b[0m\u001b[0;34m:\u001b[0m\u001b[0;34m\u001b[0m\u001b[0;34m\u001b[0m\u001b[0m\n\u001b[0;32m-> 4381\u001b[0;31m                 \u001b[0;32mreturn\u001b[0m \u001b[0mlibindex\u001b[0m\u001b[0;34m.\u001b[0m\u001b[0mget_value_box\u001b[0m\u001b[0;34m(\u001b[0m\u001b[0ms\u001b[0m\u001b[0;34m,\u001b[0m \u001b[0mkey\u001b[0m\u001b[0;34m)\u001b[0m\u001b[0;34m\u001b[0m\u001b[0;34m\u001b[0m\u001b[0m\n\u001b[0m\u001b[1;32m   4382\u001b[0m             \u001b[0;32mexcept\u001b[0m \u001b[0mIndexError\u001b[0m\u001b[0;34m:\u001b[0m\u001b[0;34m\u001b[0m\u001b[0;34m\u001b[0m\u001b[0m\n",
      "\u001b[0;32mpandas/_libs/index.pyx\u001b[0m in \u001b[0;36mpandas._libs.index.get_value_box\u001b[0;34m()\u001b[0m\n",
      "\u001b[0;32mpandas/_libs/index.pyx\u001b[0m in \u001b[0;36mpandas._libs.index.get_value_at\u001b[0;34m()\u001b[0m\n",
      "\u001b[0;32mpandas/_libs/util.pxd\u001b[0m in \u001b[0;36mpandas._libs.util.get_value_at\u001b[0;34m()\u001b[0m\n",
      "\u001b[0;32mpandas/_libs/util.pxd\u001b[0m in \u001b[0;36mpandas._libs.util.validate_indexer\u001b[0;34m()\u001b[0m\n",
      "\u001b[0;31mTypeError\u001b[0m: 'str' object cannot be interpreted as an integer",
      "\nDuring handling of the above exception, another exception occurred:\n",
      "\u001b[0;31mKeyError\u001b[0m                                  Traceback (most recent call last)",
      "\u001b[0;32m<ipython-input-17-facc49cb689c>\u001b[0m in \u001b[0;36m<module>\u001b[0;34m\u001b[0m\n\u001b[0;32m----> 1\u001b[0;31m \u001b[0mprint\u001b[0m\u001b[0;34m(\u001b[0m\u001b[0ms\u001b[0m\u001b[0;34m[\u001b[0m\u001b[0;34m'f'\u001b[0m\u001b[0;34m]\u001b[0m\u001b[0;34m)\u001b[0m\u001b[0;34m\u001b[0m\u001b[0;34m\u001b[0m\u001b[0m\n\u001b[0m",
      "\u001b[0;32m~/anaconda3/lib/python3.7/site-packages/pandas/core/series.py\u001b[0m in \u001b[0;36m__getitem__\u001b[0;34m(self, key)\u001b[0m\n\u001b[1;32m    866\u001b[0m         \u001b[0mkey\u001b[0m \u001b[0;34m=\u001b[0m \u001b[0mcom\u001b[0m\u001b[0;34m.\u001b[0m\u001b[0mapply_if_callable\u001b[0m\u001b[0;34m(\u001b[0m\u001b[0mkey\u001b[0m\u001b[0;34m,\u001b[0m \u001b[0mself\u001b[0m\u001b[0;34m)\u001b[0m\u001b[0;34m\u001b[0m\u001b[0;34m\u001b[0m\u001b[0m\n\u001b[1;32m    867\u001b[0m         \u001b[0;32mtry\u001b[0m\u001b[0;34m:\u001b[0m\u001b[0;34m\u001b[0m\u001b[0;34m\u001b[0m\u001b[0m\n\u001b[0;32m--> 868\u001b[0;31m             \u001b[0mresult\u001b[0m \u001b[0;34m=\u001b[0m \u001b[0mself\u001b[0m\u001b[0;34m.\u001b[0m\u001b[0mindex\u001b[0m\u001b[0;34m.\u001b[0m\u001b[0mget_value\u001b[0m\u001b[0;34m(\u001b[0m\u001b[0mself\u001b[0m\u001b[0;34m,\u001b[0m \u001b[0mkey\u001b[0m\u001b[0;34m)\u001b[0m\u001b[0;34m\u001b[0m\u001b[0;34m\u001b[0m\u001b[0m\n\u001b[0m\u001b[1;32m    869\u001b[0m \u001b[0;34m\u001b[0m\u001b[0m\n\u001b[1;32m    870\u001b[0m             \u001b[0;32mif\u001b[0m \u001b[0;32mnot\u001b[0m \u001b[0mis_scalar\u001b[0m\u001b[0;34m(\u001b[0m\u001b[0mresult\u001b[0m\u001b[0;34m)\u001b[0m\u001b[0;34m:\u001b[0m\u001b[0;34m\u001b[0m\u001b[0;34m\u001b[0m\u001b[0m\n",
      "\u001b[0;32m~/anaconda3/lib/python3.7/site-packages/pandas/core/indexes/base.py\u001b[0m in \u001b[0;36mget_value\u001b[0;34m(self, series, key)\u001b[0m\n\u001b[1;32m   4387\u001b[0m                     \u001b[0;32mraise\u001b[0m \u001b[0mInvalidIndexError\u001b[0m\u001b[0;34m(\u001b[0m\u001b[0mkey\u001b[0m\u001b[0;34m)\u001b[0m\u001b[0;34m\u001b[0m\u001b[0;34m\u001b[0m\u001b[0m\n\u001b[1;32m   4388\u001b[0m                 \u001b[0;32melse\u001b[0m\u001b[0;34m:\u001b[0m\u001b[0;34m\u001b[0m\u001b[0;34m\u001b[0m\u001b[0m\n\u001b[0;32m-> 4389\u001b[0;31m                     \u001b[0;32mraise\u001b[0m \u001b[0me1\u001b[0m\u001b[0;34m\u001b[0m\u001b[0;34m\u001b[0m\u001b[0m\n\u001b[0m\u001b[1;32m   4390\u001b[0m             \u001b[0;32mexcept\u001b[0m \u001b[0mException\u001b[0m\u001b[0;34m:\u001b[0m  \u001b[0;31m# pragma: no cover\u001b[0m\u001b[0;34m\u001b[0m\u001b[0;34m\u001b[0m\u001b[0m\n\u001b[1;32m   4391\u001b[0m                 \u001b[0;32mraise\u001b[0m \u001b[0me1\u001b[0m\u001b[0;34m\u001b[0m\u001b[0;34m\u001b[0m\u001b[0m\n",
      "\u001b[0;32m~/anaconda3/lib/python3.7/site-packages/pandas/core/indexes/base.py\u001b[0m in \u001b[0;36mget_value\u001b[0;34m(self, series, key)\u001b[0m\n\u001b[1;32m   4373\u001b[0m         \u001b[0;32mtry\u001b[0m\u001b[0;34m:\u001b[0m\u001b[0;34m\u001b[0m\u001b[0;34m\u001b[0m\u001b[0m\n\u001b[1;32m   4374\u001b[0m             return self._engine.get_value(s, k,\n\u001b[0;32m-> 4375\u001b[0;31m                                           tz=getattr(series.dtype, 'tz', None))\n\u001b[0m\u001b[1;32m   4376\u001b[0m         \u001b[0;32mexcept\u001b[0m \u001b[0mKeyError\u001b[0m \u001b[0;32mas\u001b[0m \u001b[0me1\u001b[0m\u001b[0;34m:\u001b[0m\u001b[0;34m\u001b[0m\u001b[0;34m\u001b[0m\u001b[0m\n\u001b[1;32m   4377\u001b[0m             \u001b[0;32mif\u001b[0m \u001b[0mlen\u001b[0m\u001b[0;34m(\u001b[0m\u001b[0mself\u001b[0m\u001b[0;34m)\u001b[0m \u001b[0;34m>\u001b[0m \u001b[0;36m0\u001b[0m \u001b[0;32mand\u001b[0m \u001b[0;34m(\u001b[0m\u001b[0mself\u001b[0m\u001b[0;34m.\u001b[0m\u001b[0mholds_integer\u001b[0m\u001b[0;34m(\u001b[0m\u001b[0;34m)\u001b[0m \u001b[0;32mor\u001b[0m \u001b[0mself\u001b[0m\u001b[0;34m.\u001b[0m\u001b[0mis_boolean\u001b[0m\u001b[0;34m(\u001b[0m\u001b[0;34m)\u001b[0m\u001b[0;34m)\u001b[0m\u001b[0;34m:\u001b[0m\u001b[0;34m\u001b[0m\u001b[0;34m\u001b[0m\u001b[0m\n",
      "\u001b[0;32mpandas/_libs/index.pyx\u001b[0m in \u001b[0;36mpandas._libs.index.IndexEngine.get_value\u001b[0;34m()\u001b[0m\n",
      "\u001b[0;32mpandas/_libs/index.pyx\u001b[0m in \u001b[0;36mpandas._libs.index.IndexEngine.get_value\u001b[0;34m()\u001b[0m\n",
      "\u001b[0;32mpandas/_libs/index.pyx\u001b[0m in \u001b[0;36mpandas._libs.index.IndexEngine.get_loc\u001b[0;34m()\u001b[0m\n",
      "\u001b[0;32mpandas/_libs/hashtable_class_helper.pxi\u001b[0m in \u001b[0;36mpandas._libs.hashtable.PyObjectHashTable.get_item\u001b[0;34m()\u001b[0m\n",
      "\u001b[0;32mpandas/_libs/hashtable_class_helper.pxi\u001b[0m in \u001b[0;36mpandas._libs.hashtable.PyObjectHashTable.get_item\u001b[0;34m()\u001b[0m\n",
      "\u001b[0;31mKeyError\u001b[0m: 'f'"
     ]
    }
   ],
   "source": [
    "print(s['f'])"
   ]
  },
  {
   "cell_type": "markdown",
   "metadata": {},
   "source": [
    "  * Vamos a crear una serie con índices generados aleatoriamente (de forma automática)"
   ]
  },
  {
   "cell_type": "code",
   "execution_count": 18,
   "metadata": {},
   "outputs": [
    {
     "name": "stdout",
     "output_type": "stream",
     "text": [
      "Serie con índices automáticos\n",
      "0    0.975859\n",
      "1    0.638077\n",
      "2    0.448323\n",
      "3    0.436982\n",
      "4    0.291624\n",
      "5    0.137938\n",
      "6    0.850435\n",
      "7    0.554056\n",
      "8    0.595432\n",
      "9    0.060182\n",
      "dtype: float64\n",
      "<class 'pandas.core.series.Series'>\n"
     ]
    }
   ],
   "source": [
    "# serie con índices automáticos\n",
    "serie = pd.Series(np.random.random(10))\n",
    "print('Serie con índices automáticos'.format())\n",
    "print('{}'.format(serie))\n",
    "print(type(serie))"
   ]
  },
  {
   "cell_type": "markdown",
   "metadata": {},
   "source": [
    "  * Ahora vamos a crear una serie donde nosotros le vamos a decir los índices que queremos usar (definidos por el usuario)"
   ]
  },
  {
   "cell_type": "code",
   "execution_count": 19,
   "metadata": {},
   "outputs": [
    {
     "name": "stdout",
     "output_type": "stream",
     "text": [
      "Serie con índices definidos\n",
      "itzi          0.472222\n",
      "kikolas      -0.241706\n",
      "dieguete      0.095845\n",
      "nicolasete   -0.497357\n",
      "dtype: float64\n",
      "<class 'pandas.core.series.Series'>\n"
     ]
    }
   ],
   "source": [
    "serie = pd.Series(np.random.randn(4),\n",
    "                  index = ['itzi','kikolas','dieguete','nicolasete'])\n",
    "print('Serie con índices definidos')\n",
    "print('{}'.format(serie))\n",
    "print(type(serie))"
   ]
  },
  {
   "cell_type": "markdown",
   "metadata": {},
   "source": [
    "  * Por último, vamos a crear una serie temporal usando índices que son fechas."
   ]
  },
  {
   "cell_type": "code",
   "execution_count": 22,
   "metadata": {
    "collapsed": true
   },
   "outputs": [
    {
     "name": "stdout",
     "output_type": "stream",
     "text": [
      "Serie temporal con índices de fechas\n",
      "2001-01-01   -0.644895\n",
      "2001-01-02    0.565821\n",
      "2001-01-03   -0.373456\n",
      "2001-01-04   -1.804044\n",
      "2001-01-05    0.789562\n",
      "2001-01-06    1.089039\n",
      "2001-01-07    0.555049\n",
      "2001-01-08   -1.117275\n",
      "2001-01-09    0.951007\n",
      "2001-01-10    0.570231\n",
      "2001-01-11   -0.621267\n",
      "2001-01-12    0.783843\n",
      "2001-01-13    0.166866\n",
      "2001-01-14    0.038586\n",
      "2001-01-15    1.266768\n",
      "2001-01-16    0.133382\n",
      "2001-01-17   -0.014160\n",
      "2001-01-18   -0.519427\n",
      "2001-01-19    2.213708\n",
      "2001-01-20    0.779634\n",
      "2001-01-21    0.803705\n",
      "2001-01-22   -0.307845\n",
      "2001-01-23    0.255089\n",
      "2001-01-24   -0.208658\n",
      "2001-01-25    0.372216\n",
      "2001-01-26   -0.019649\n",
      "2001-01-27    2.962986\n",
      "2001-01-28   -2.282310\n",
      "2001-01-29    0.021721\n",
      "2001-01-30   -0.156564\n",
      "2001-01-31    1.459959\n",
      "2001-02-01    0.124899\n",
      "2001-02-02    0.927461\n",
      "2001-02-03    1.080677\n",
      "2001-02-04    0.244661\n",
      "2001-02-05   -0.293810\n",
      "2001-02-06   -0.497230\n",
      "2001-02-07   -0.216070\n",
      "2001-02-08   -0.036613\n",
      "2001-02-09    0.539374\n",
      "2001-02-10    0.462854\n",
      "2001-02-11   -0.206390\n",
      "2001-02-12   -1.735542\n",
      "2001-02-13   -0.229763\n",
      "2001-02-14    0.198808\n",
      "2001-02-15    1.120697\n",
      "2001-02-16    1.251387\n",
      "2001-02-17   -0.512982\n",
      "2001-02-18    1.906729\n",
      "2001-02-19    0.638418\n",
      "2001-02-20   -0.171920\n",
      "2001-02-21   -0.409196\n",
      "2001-02-22    0.630868\n",
      "2001-02-23    0.232251\n",
      "2001-02-24   -0.009072\n",
      "2001-02-25    0.844716\n",
      "2001-02-26   -0.555795\n",
      "2001-02-27   -0.154690\n",
      "2001-02-28   -0.351706\n",
      "2001-03-01    1.815298\n",
      "Freq: D, dtype: float64\n",
      "<class 'pandas.core.series.Series'>\n"
     ]
    }
   ],
   "source": [
    "# serie(serie temporal) con índices que son fechas\n",
    "n = 60\n",
    "serie = pd.Series(np.random.randn(n),\n",
    "                  index = pd.date_range('2001/01/01', periods = n))\n",
    "print('Serie temporal con índices de fechas')\n",
    "print('{}'.format(serie))\n",
    "print(type(serie))"
   ]
  },
  {
   "cell_type": "code",
   "execution_count": null,
   "metadata": {},
   "outputs": [],
   "source": [
    "pd."
   ]
  },
  {
   "cell_type": "markdown",
   "metadata": {},
   "source": [
    "En los ejemplos anteriores hemos creado las series a partir de un `numpy array` pero las podemos crear a partir de muchas otras cosas: listas, diccionarios, numpy arrays,... Veamos ejemplos:"
   ]
  },
  {
   "cell_type": "raw",
   "metadata": {},
   "source": [
    "Serie a partir de una lista..."
   ]
  },
  {
   "cell_type": "code",
   "execution_count": 23,
   "metadata": {},
   "outputs": [
    {
     "name": "stdout",
     "output_type": "stream",
     "text": [
      "Serie a partir de una lista\n",
      "0     0\n",
      "1     1\n",
      "2     4\n",
      "3     9\n",
      "4    16\n",
      "5    25\n",
      "6    36\n",
      "7    49\n",
      "8    64\n",
      "9    81\n",
      "dtype: int64\n"
     ]
    }
   ],
   "source": [
    "serie_lista = pd.Series([i*i for i in range(10)])\n",
    "print('Serie a partir de una lista')\n",
    "print('{}'.format(serie_lista))"
   ]
  },
  {
   "cell_type": "markdown",
   "metadata": {},
   "source": [
    "Serie a partir de un diccionario"
   ]
  },
  {
   "cell_type": "code",
   "execution_count": 24,
   "metadata": {},
   "outputs": [
    {
     "name": "stdout",
     "output_type": "stream",
     "text": [
      "Serie a partir de un diccionario \n",
      "cuadrado de 0     0\n",
      "cuadrado de 1     1\n",
      "cuadrado de 2     4\n",
      "cuadrado de 3     9\n",
      "cuadrado de 4    16\n",
      "cuadrado de 5    25\n",
      "cuadrado de 6    36\n",
      "cuadrado de 7    49\n",
      "cuadrado de 8    64\n",
      "cuadrado de 9    81\n",
      "dtype: int64\n"
     ]
    }
   ],
   "source": [
    "dicc = {'cuadrado de {}'.format(i) : i*i for i in range(10)}\n",
    "serie_dicc = pd.Series(dicc)\n",
    "print('Serie a partir de un diccionario ')\n",
    "print('{}'.format(serie_dicc))"
   ]
  },
  {
   "cell_type": "markdown",
   "metadata": {},
   "source": [
    "Serie a partir de valores de otra serie..."
   ]
  },
  {
   "cell_type": "code",
   "execution_count": 25,
   "metadata": {},
   "outputs": [
    {
     "name": "stdout",
     "output_type": "stream",
     "text": [
      "Serie a partir de los valores de otra (pandas) serie\n",
      "0     0\n",
      "1     1\n",
      "2     4\n",
      "3     9\n",
      "4    16\n",
      "5    25\n",
      "6    36\n",
      "7    49\n",
      "8    64\n",
      "9    81\n",
      "dtype: int64\n"
     ]
    }
   ],
   "source": [
    "serie_serie = pd.Series(serie_dicc.values)\n",
    "print('Serie a partir de los valores de otra (pandas) serie')\n",
    "print('{}'.format(serie_serie))"
   ]
  },
  {
   "cell_type": "markdown",
   "metadata": {},
   "source": [
    "Serie a partir de un valor constante ..."
   ]
  },
  {
   "cell_type": "code",
   "execution_count": 26,
   "metadata": {},
   "outputs": [
    {
     "name": "stdout",
     "output_type": "stream",
     "text": [
      "Serie a partir de un valor constante\n",
      "0   -999\n",
      "1   -999\n",
      "2   -999\n",
      "3   -999\n",
      "4   -999\n",
      "5   -999\n",
      "6   -999\n",
      "7   -999\n",
      "8   -999\n",
      "9   -999\n",
      "dtype: int64\n"
     ]
    }
   ],
   "source": [
    "serie_cte = pd.Series(-999, index = np.arange(10))\n",
    "print('Serie a partir de un valor constante')\n",
    "print('{}'.format(serie_cte))"
   ]
  },
  {
   "cell_type": "markdown",
   "metadata": {},
   "source": [
    "Una serie (`Series` o `TimeSeries`) se puede manejar igual que si tuviéramos un `numpy array` de una dimensión o igual que si tuviéramos un diccionario. Vemos ejemplos de esto:"
   ]
  },
  {
   "cell_type": "code",
   "execution_count": 27,
   "metadata": {},
   "outputs": [
    {
     "name": "stdout",
     "output_type": "stream",
     "text": [
      "Serie que vamos a usar en este ejemplo:\n",
      "a   -0.156616\n",
      "b    0.633206\n",
      "c    0.131619\n",
      "d   -1.255318\n",
      "e   -0.511742\n",
      "f   -1.823514\n",
      "g   -2.185952\n",
      "h    0.228921\n",
      "i    2.373985\n",
      "j   -0.557017\n",
      "dtype: float64\n"
     ]
    }
   ],
   "source": [
    "serie = pd.Series(np.random.randn(10),\n",
    "                  index = ['a','b','c','d','e','f','g','h','i','j'])\n",
    "print('Serie que vamos a usar en este ejemplo:')\n",
    "print('{}'.format(serie))"
   ]
  },
  {
   "cell_type": "markdown",
   "metadata": {},
   "source": [
    "Ejemplos de comportamiento como `numpy array`"
   ]
  },
  {
   "cell_type": "code",
   "execution_count": 28,
   "metadata": {},
   "outputs": [
    {
     "name": "stdout",
     "output_type": "stream",
     "text": [
      "serie.max() 2.373985183706578\n",
      "serie.sum() -3.1224268780098985\n",
      "serie.abs()\n",
      "a    0.156616\n",
      "b    0.633206\n",
      "c    0.131619\n",
      "d    1.255318\n",
      "e    0.511742\n",
      "f    1.823514\n",
      "g    2.185952\n",
      "h    0.228921\n",
      "i    2.373985\n",
      "j    0.557017\n",
      "dtype: float64\n",
      "serie[serie > 0]\n",
      "b    0.633206\n",
      "c    0.131619\n",
      "h    0.228921\n",
      "i    2.373985\n",
      "dtype: float64\n",
      "\n",
      "\n"
     ]
    }
   ],
   "source": [
    "print('serie.max() {}'.format(serie.max()))\n",
    "print('serie.sum() {}'.format(serie.sum()))\n",
    "print('serie.abs()')\n",
    "print('{}'.format(serie.abs()))\n",
    "print('serie[serie > 0]')\n",
    "print('{}'.format(serie[serie > 0]))\n",
    "#...\n",
    "print('\\n')"
   ]
  },
  {
   "cell_type": "markdown",
   "metadata": {},
   "source": [
    "Ejemplos de comportamiento como diccionario"
   ]
  },
  {
   "cell_type": "code",
   "execution_count": 29,
   "metadata": {},
   "outputs": [
    {
     "name": "stdout",
     "output_type": "stream",
     "text": [
      "Se comporta como un diccionario:\n",
      "================================\n",
      "serie['a'] \n",
      " -0.15661590864805106\n",
      "'a' en la serie \n",
      " True\n",
      "'z' en la serie \n",
      " False\n"
     ]
    }
   ],
   "source": [
    "print(\"Se comporta como un diccionario:\")\n",
    "print(\"================================\")\n",
    "print(\"serie['a'] \\n {}\".format(serie['a']))\n",
    "print(\"'a' en la serie \\n {}\".format('a' in serie))\n",
    "print(\"'z' en la serie \\n {}\".format('z' in serie))"
   ]
  },
  {
   "cell_type": "markdown",
   "metadata": {},
   "source": [
    "Las operaciones están 'vectorizadas' y se hacen elemento a elemento con los elementos alineados en función del índice. \n",
    "\n",
    "\n",
    "- Si se hace, por ejemplo, una suma de dos series, si en una de las dos series no existe un elemento, i.e. el índice no existe en la serie, el resultado para ese índice será `NAN`. \n",
    "\n",
    "\n",
    "- En resumen, estamos haciendo una unión de los índices y funciona diferente a los `numpy arrays`. \n",
    "\n",
    "\n",
    "Se puede ver el esquema en el siguiente ejemplo:"
   ]
  },
  {
   "cell_type": "code",
   "execution_count": null,
   "metadata": {},
   "outputs": [],
   "source": [
    "s1 = serie[1:]\n",
    "s2 = serie[:-1]\n",
    "suma = s1 + s2\n",
    "print(' s1 s2 s1 + s2')\n",
    "print('------------------ ------------------ ------------------')\n",
    "for clave in sorted(set(list(s1.keys()) + list(s2.keys()))):\n",
    "    print('{0:1} {1:20} + {0:1} {2:20} = {0:1} {3:20}'.format(clave,\n",
    "                                                          s1.get(clave),\n",
    "                                                          s2.get(clave),\n",
    "                                                          suma.get(clave)))"
   ]
  },
  {
   "cell_type": "markdown",
   "metadata": {},
   "source": [
    "En la anterior línea de código se usa el método `get` para no obtener un `KeyError`, como sí obtendría si se usa, p.e., `s1['a']`"
   ]
  },
  {
   "cell_type": "markdown",
   "metadata": {},
   "source": [
    "## `DataFrame`"
   ]
  },
  {
   "cell_type": "markdown",
   "metadata": {},
   "source": [
    "Un `DataFrame` es una estructura 2-Dimensional, es decir, los datos se alinean en forma tabular por filas y columnas."
   ]
  },
  {
   "cell_type": "markdown",
   "metadata": {},
   "source": [
    "### Características del`DataFrame`\n",
    "\n",
    "- Las columnas pueden ser de diferente tipo.\n",
    "\n",
    "- Tamaño cambiable.\n",
    "\n",
    "- Ejes etiquetados (filas y columnas).\n",
    "\n",
    "- Se pueden desarrollar operaciones aritméticas en filas y columnas."
   ]
  },
  {
   "cell_type": "markdown",
   "metadata": {},
   "source": [
    "### `pandas.DataFrame`\n",
    "\n",
    "una estructura de `DataFrame` puede crearse usando el siguiente constructor:"
   ]
  },
  {
   "cell_type": "raw",
   "metadata": {},
   "source": [
    "pandas.DataFrame(data, index, columns, dtype, copy) "
   ]
  },
  {
   "cell_type": "markdown",
   "metadata": {},
   "source": [
    "Los parámetros de este constructor son los siguientes:"
   ]
  },
  {
   "cell_type": "markdown",
   "metadata": {},
   "source": [
    "- **`data`:** Pueden ser de diferentes formas como `ndarray`, `Series`, `map`, `lists`, `dict`, constantes o también otro `DataFrame`.\n",
    "\n",
    "- **`index`:** para las etiquetas de fila, el índice que se utilizará para la trama resultante es dado de forma opcional por defecto por `np.arange(n)`, si no se especifica ningún índice.\n",
    "\n",
    "- **`columns`:** para las etiquetas de columnas, la sintaxis por defecto es `np.arange(n)`. Esto es así si no se especifíca ningún índice.\n",
    "\n",
    "- **`dtype`:** tipo de dato para cada columna\n",
    "\n",
    "- **`copy`:*** Es usado para copiar los datos. Por defecto es `False`."
   ]
  },
  {
   "cell_type": "markdown",
   "metadata": {},
   "source": [
    "#### Creando un `DataFrame`\n",
    "\n",
    "Un `DataFrame` en Pandas se puede crear usando diferentes entradas, como: `listas`, `diccionarios`, `Series`, `ndarrays`, otros `DataFrame`."
   ]
  },
  {
   "cell_type": "markdown",
   "metadata": {},
   "source": [
    "#### Creando un `DataFrame`\n",
    "vacío"
   ]
  },
  {
   "cell_type": "code",
   "execution_count": 30,
   "metadata": {},
   "outputs": [
    {
     "name": "stdout",
     "output_type": "stream",
     "text": [
      "Empty DataFrame\n",
      "Columns: []\n",
      "Index: []\n"
     ]
    }
   ],
   "source": [
    "df = pd.DataFrame()\n",
    "print(df)"
   ]
  },
  {
   "cell_type": "markdown",
   "metadata": {},
   "source": [
    "#### Creando un `DataFrame` desde listas"
   ]
  },
  {
   "cell_type": "code",
   "execution_count": 31,
   "metadata": {},
   "outputs": [
    {
     "name": "stdout",
     "output_type": "stream",
     "text": [
      "   0\n",
      "0  1\n",
      "1  2\n",
      "2  3\n",
      "3  4\n",
      "4  5\n"
     ]
    }
   ],
   "source": [
    "data = [1,2,3,4,5]\n",
    "df = pd.DataFrame(data)\n",
    "print(df)"
   ]
  },
  {
   "cell_type": "code",
   "execution_count": 35,
   "metadata": {},
   "outputs": [
    {
     "name": "stdout",
     "output_type": "stream",
     "text": [
      "     Name  Age\n",
      "0    Alex   10\n",
      "1     Bob   12\n",
      "2  Clarke   13\n"
     ]
    }
   ],
   "source": [
    "data = [['Alex',10],['Bob',12],['Clarke',13]]\n",
    "df = pd.DataFrame(data,columns=['Name','Age'])\n",
    "print(df)"
   ]
  },
  {
   "cell_type": "code",
   "execution_count": 36,
   "metadata": {},
   "outputs": [
    {
     "name": "stdout",
     "output_type": "stream",
     "text": [
      "     Name   Age\n",
      "0    Alex  10.0\n",
      "1     Bob  12.0\n",
      "2  Clarke  13.0\n"
     ]
    }
   ],
   "source": [
    "df = pd.DataFrame(data,columns=['Name','Age'],dtype=float)\n",
    "print(df)"
   ]
  },
  {
   "cell_type": "markdown",
   "metadata": {},
   "source": [
    "#### Creando un `DataFrame` desde diccionarios de `ndarrays`/`lists`\n",
    "\n",
    "Todos los `ndarrays` deben ser de la misma longitud. Si se pasa el índice, entonces la longitud del índice debe ser igual a la longitud de las matrices.\n",
    "\n",
    "Si no se pasa ningún índice, de manera predeterminada, el índice será `range(n)`, donde `n` es la longitud del arreglo."
   ]
  },
  {
   "cell_type": "code",
   "execution_count": 37,
   "metadata": {},
   "outputs": [
    {
     "name": "stdout",
     "output_type": "stream",
     "text": [
      "    Name  Age\n",
      "0    Tom   28\n",
      "1   Jack   34\n",
      "2  Steve   29\n",
      "3  Ricky   42\n"
     ]
    }
   ],
   "source": [
    "data = {'Name':['Tom', 'Jack', 'Steve', 'Ricky'],'Age':[28,34,29,42]}\n",
    "df = pd.DataFrame(data)\n",
    "print(df)"
   ]
  },
  {
   "cell_type": "markdown",
   "metadata": {},
   "source": [
    "- Observe los valores $0,1,2,3$. Son el índice predeterminado asignado a cada uno usando la función `range(n)`."
   ]
  },
  {
   "cell_type": "markdown",
   "metadata": {},
   "source": [
    "Ahora crearemos un `DataFrame` indexado usando `arrays`"
   ]
  },
  {
   "cell_type": "code",
   "execution_count": 38,
   "metadata": {},
   "outputs": [
    {
     "name": "stdout",
     "output_type": "stream",
     "text": [
      "        Name  Age\n",
      "rank1    Tom   28\n",
      "rank2   Jack   34\n",
      "rank3  Steve   29\n",
      "rank4  Ricky   42\n"
     ]
    }
   ],
   "source": [
    "df = pd.DataFrame(data, index=['rank1','rank2','rank3','rank4'])\n",
    "print(df)"
   ]
  },
  {
   "cell_type": "markdown",
   "metadata": {},
   "source": [
    "#### Creando un `DataFrame` desde listas de diccionarios\n",
    "\n",
    "Se puede pasar una lista de diccionarios como datos de entrada para crear un `DataFrame`. Las `claves` serán usadas por defecto como los nombres de las columnas."
   ]
  },
  {
   "cell_type": "code",
   "execution_count": 39,
   "metadata": {},
   "outputs": [
    {
     "name": "stdout",
     "output_type": "stream",
     "text": [
      "   a   b     c\n",
      "0  1   2   NaN\n",
      "1  5  10  20.0\n"
     ]
    }
   ],
   "source": [
    "data = [{'a': 1, 'b': 2},{'a': 5, 'b': 10, 'c': 20}]\n",
    "df = pd.DataFrame(data)\n",
    "print(df)"
   ]
  },
  {
   "cell_type": "markdown",
   "metadata": {},
   "source": [
    "- un `NaN` aparece en donde no hay datos."
   ]
  },
  {
   "cell_type": "markdown",
   "metadata": {},
   "source": [
    "El siguiente ejemplo muestra como se crea un `DataFrame` pasando una lista de diccionarios y los índices de las filas:"
   ]
  },
  {
   "cell_type": "code",
   "execution_count": 40,
   "metadata": {},
   "outputs": [
    {
     "name": "stdout",
     "output_type": "stream",
     "text": [
      "        a   b     c\n",
      "first   1   2   NaN\n",
      "second  5  10  20.0\n"
     ]
    }
   ],
   "source": [
    "df = pd.DataFrame(data, index=['first', 'second'])\n",
    "print(df)"
   ]
  },
  {
   "cell_type": "markdown",
   "metadata": {},
   "source": [
    "El siguiente ejemplo muestra como se crea un `DataFrame` pasando una lista de diccionarios, y los índices de las filas y columnas:"
   ]
  },
  {
   "cell_type": "code",
   "execution_count": 41,
   "metadata": {},
   "outputs": [
    {
     "name": "stdout",
     "output_type": "stream",
     "text": [
      "        a   b\n",
      "first   1   2\n",
      "second  5  10\n",
      "        a  b1\n",
      "first   1 NaN\n",
      "second  5 NaN\n"
     ]
    }
   ],
   "source": [
    "# Con dos índices de columnas, los valores son iguales que las claves del diccionario\n",
    "df1 = pd.DataFrame(data, index=['first', 'second'], columns=['a', 'b'])\n",
    "\n",
    "# Con dos índices de columna y con un índice con otro nombre\n",
    "df2 = pd.DataFrame(data, index=['first', 'second'], columns=['a', 'b1'])\n",
    "print(df1)\n",
    "print(df2)"
   ]
  },
  {
   "cell_type": "markdown",
   "metadata": {},
   "source": [
    "- Observe que el `DataFrame` `df2`  se crea con un índice de columna que no es la clave del diccionario; por lo tanto, se generan los `NaN` en su lugar. Mientras que, `df1` se crea con índices de columnas iguales a las claves del diccionario, por lo que no se agrega `NaN`."
   ]
  },
  {
   "cell_type": "markdown",
   "metadata": {},
   "source": [
    "#### Creando un `DataFrame` desde un diccionario de `Series`\n",
    "\n",
    "Se puede pasar una Serie de diccionarios para formar un `DataFrame`. El índice resultante es la unión de todos los índices de serie pasados."
   ]
  },
  {
   "cell_type": "code",
   "execution_count": 44,
   "metadata": {},
   "outputs": [
    {
     "name": "stdout",
     "output_type": "stream",
     "text": [
      "   one  two\n",
      "a  1.0    1\n",
      "b  2.0    2\n",
      "c  3.0    3\n",
      "d  NaN    4\n"
     ]
    }
   ],
   "source": [
    "d = {'one' : pd.Series([1, 2, 3], index=['a', 'b', 'c']),\n",
    "      'two' : pd.Series([1, 2, 3, 4], index=['a', 'b', 'c', 'd'])}\n",
    "\n",
    "df = pd.DataFrame(d)\n",
    "print(df)"
   ]
  },
  {
   "cell_type": "markdown",
   "metadata": {},
   "source": [
    "- para la serie `one`, no hay una etiqueta `'d'` pasada, pero en el resultado, para la etiqueta `d`, se agrega `NaN`.\n",
    "\n",
    "Ahora vamos a entender la selección, adición y eliminación de columnas a través de ejemplos."
   ]
  },
  {
   "cell_type": "markdown",
   "metadata": {},
   "source": [
    "#### Selección de columna"
   ]
  },
  {
   "cell_type": "code",
   "execution_count": 45,
   "metadata": {},
   "outputs": [
    {
     "name": "stdout",
     "output_type": "stream",
     "text": [
      "a    1.0\n",
      "b    2.0\n",
      "c    3.0\n",
      "d    NaN\n",
      "Name: one, dtype: float64\n"
     ]
    }
   ],
   "source": [
    "df = pd.DataFrame(d)\n",
    "print(df['one'])"
   ]
  },
  {
   "cell_type": "markdown",
   "metadata": {},
   "source": [
    "#### Adición de columna"
   ]
  },
  {
   "cell_type": "code",
   "execution_count": 46,
   "metadata": {},
   "outputs": [
    {
     "name": "stdout",
     "output_type": "stream",
     "text": [
      "Adicionando una nueva columna pasando como Serie:, \n",
      "\n",
      "   one  two  three\n",
      "a  1.0    1   10.0\n",
      "b  2.0    2   20.0\n",
      "c  3.0    3   30.0\n",
      "d  NaN    4    NaN \n",
      "\n",
      "Adicionando una nueva columna usando las columnas existentes en el DataFrame:\n",
      "\n",
      "   one  two  three  four\n",
      "a  1.0    1   10.0  11.0\n",
      "b  2.0    2   20.0  22.0\n",
      "c  3.0    3   30.0  33.0\n",
      "d  NaN    4    NaN   NaN\n"
     ]
    }
   ],
   "source": [
    "df = pd.DataFrame(d)\n",
    "\n",
    "# Adding a new column to an existing DataFrame object with column label by passing new series\n",
    "\n",
    "print (\"Adicionando una nueva columna pasando como Serie:, \\n\")\n",
    "df['three']=pd.Series([10,20,30],index=['a','b','c'])\n",
    "print(df,'\\n')\n",
    "\n",
    "print (\"Adicionando una nueva columna usando las columnas existentes en el DataFrame:\\n\")\n",
    "df['four']=df['one']+df['three']\n",
    "\n",
    "print(df)"
   ]
  },
  {
   "cell_type": "markdown",
   "metadata": {},
   "source": [
    "#### Borrado de columna"
   ]
  },
  {
   "cell_type": "code",
   "execution_count": 47,
   "metadata": {},
   "outputs": [
    {
     "name": "stdout",
     "output_type": "stream",
     "text": [
      "Our dataframe is:\n",
      "\n",
      "   one  two  three\n",
      "a  1.0    1   10.0\n",
      "b  2.0    2   20.0\n",
      "c  3.0    3   30.0\n",
      "d  NaN    4    NaN \n",
      "\n",
      "Deleting the first column using DEL function:\n",
      "\n",
      "   two  three\n",
      "a    1   10.0\n",
      "b    2   20.0\n",
      "c    3   30.0\n",
      "d    4    NaN \n",
      "\n",
      "Deleting another column using POP function:\n",
      "\n",
      "   three\n",
      "a   10.0\n",
      "b   20.0\n",
      "c   30.0\n",
      "d    NaN\n"
     ]
    }
   ],
   "source": [
    "d = {'one' : pd.Series([1, 2, 3], index=['a', 'b', 'c']), \n",
    "     'two' : pd.Series([1, 2, 3, 4], index=['a', 'b', 'c', 'd']), \n",
    "     'three' : pd.Series([10,20,30], index=['a','b','c'])}\n",
    "\n",
    "df = pd.DataFrame(d)\n",
    "print (\"Our dataframe is:\\n\")\n",
    "print(df, '\\n')\n",
    "\n",
    "# using del function\n",
    "print (\"Deleting the first column using DEL function:\\n\")\n",
    "del df['one']\n",
    "print(df,'\\n')\n",
    "\n",
    "# using pop function\n",
    "print (\"Deleting another column using POP function:\\n\")\n",
    "df.pop('two')\n",
    "print(df)"
   ]
  },
  {
   "cell_type": "markdown",
   "metadata": {},
   "source": [
    "### Selección, Adición y Borrado de fila"
   ]
  },
  {
   "cell_type": "markdown",
   "metadata": {},
   "source": [
    "#### Selección por etiqueta\n",
    "\n",
    "Las filas se pueden seleccionar pasando la etiqueta de fila por la función `loc`"
   ]
  },
  {
   "cell_type": "code",
   "execution_count": 51,
   "metadata": {},
   "outputs": [
    {
     "name": "stdout",
     "output_type": "stream",
     "text": [
      "   one  two\n",
      "a  1.0    1\n",
      "b  2.0    2\n",
      "c  3.0    3\n",
      "d  NaN    4\n",
      "one    2.0\n",
      "two    2.0\n",
      "Name: b, dtype: float64\n"
     ]
    }
   ],
   "source": [
    "d = {'one' : pd.Series([1, 2, 3], index=['a', 'b', 'c']), \n",
    "     'two' : pd.Series([1, 2, 3, 4], index=['a', 'b', 'c', 'd'])}\n",
    "\n",
    "df = pd.DataFrame(d)\n",
    "print(df)\n",
    "print(df.loc['b'])"
   ]
  },
  {
   "cell_type": "markdown",
   "metadata": {},
   "source": [
    "- El resultado es una serie con etiquetas como nombres de columna del `DataFrame`. Y, el Nombre de la serie es la etiqueta con la que se recupera."
   ]
  },
  {
   "cell_type": "markdown",
   "metadata": {},
   "source": [
    "#### Selección por ubicación entera\n",
    "\n",
    "Las filas se pueden seleccionar pasando la ubicación entera a una función `iloc`."
   ]
  },
  {
   "cell_type": "code",
   "execution_count": 52,
   "metadata": {},
   "outputs": [
    {
     "name": "stdout",
     "output_type": "stream",
     "text": [
      "one    3.0\n",
      "two    3.0\n",
      "Name: c, dtype: float64\n"
     ]
    }
   ],
   "source": [
    "df = pd.DataFrame(d)\n",
    "print(df.iloc[2])"
   ]
  },
  {
   "cell_type": "markdown",
   "metadata": {},
   "source": [
    "#### Porcion de fila\n",
    "\n",
    "Múltiples filas se pueden seleccionar usando el operador `:`"
   ]
  },
  {
   "cell_type": "code",
   "execution_count": 53,
   "metadata": {},
   "outputs": [
    {
     "name": "stdout",
     "output_type": "stream",
     "text": [
      "   one  two\n",
      "c  3.0    3\n",
      "d  NaN    4\n"
     ]
    }
   ],
   "source": [
    "df = pd.DataFrame(d)\n",
    "print(df[2:4])"
   ]
  },
  {
   "cell_type": "markdown",
   "metadata": {},
   "source": [
    "#### Adición de filas\n",
    "\n",
    "Adicionar nuevas filas al `DataFrame` usando la función `append`. Esta función adiciona las filas al final."
   ]
  },
  {
   "cell_type": "code",
   "execution_count": 55,
   "metadata": {},
   "outputs": [
    {
     "name": "stdout",
     "output_type": "stream",
     "text": [
      "   0  1\n",
      "0  1  2\n",
      "1  3  4\n",
      "   0  1\n",
      "0  1  2\n",
      "1  3  4\n",
      "0  5  6\n",
      "1  7  8\n"
     ]
    }
   ],
   "source": [
    "df = pd.DataFrame([[1, 2], [3, 4]])\n",
    "df2 = pd.DataFrame([[5, 6], [7, 8]])\n",
    "\n",
    "print(df)\n",
    "\n",
    "df = df.append(df2)\n",
    "print(df)"
   ]
  },
  {
   "cell_type": "markdown",
   "metadata": {},
   "source": [
    "#### Borrado de filas\n",
    "\n",
    "Use la etiqueta de índice para eliminar o cortar filas de un `DataFrame`. Si la etiqueta está duplicada, se eliminarán varias filas.\n",
    "\n",
    "Si observa, en el ejemplo anterior, las etiquetas están duplicadas. Cortemos una etiqueta y veamos cuántas filas se descartarán."
   ]
  },
  {
   "cell_type": "code",
   "execution_count": 57,
   "metadata": {},
   "outputs": [
    {
     "name": "stdout",
     "output_type": "stream",
     "text": [
      "   a  b\n",
      "0  1  2\n",
      "1  3  4\n",
      "0  5  6\n",
      "1  7  8\n",
      "   a  b\n",
      "0  1  2\n",
      "0  5  6\n"
     ]
    }
   ],
   "source": [
    "df = pd.DataFrame([[1, 2], [3, 4]], columns = ['a','b'])\n",
    "df2 = pd.DataFrame([[5, 6], [7, 8]], columns = ['a','b'])\n",
    "\n",
    "df = df.append(df2)\n",
    "print(df)\n",
    "# Drop rows with label 0\n",
    "df = df.drop(1)\n",
    "\n",
    "print(df)"
   ]
  },
  {
   "cell_type": "markdown",
   "metadata": {},
   "source": [
    "- En el ejemplo anterior se quitaron dos filas porque éstas dos contenían la misma etiqueta `0`."
   ]
  },
  {
   "cell_type": "markdown",
   "metadata": {},
   "source": [
    "### Lectura / Escritura en Pandas"
   ]
  },
  {
   "cell_type": "markdown",
   "metadata": {},
   "source": [
    "Una de las grandes capacidades de *`Pandas`* es la potencia que aporta a lo hora de leer y/o escribir archivos de datos.\n",
    "\n",
    "- Pandas es capaz de leer datos de archivos `csv`, `excel`, `HDF5`, `sql`, `json`, `html`,...\n",
    "\n",
    "Si se emplean datos de terceros, que pueden provenir de muy diversas fuentes, una de las partes más tediosas del trabajo será tener los datos listos para empezar a trabajar: Limpiar huecos, poner fechas en formato usable, saltarse cabeceros,...\n",
    "\n",
    "Sin duda, una de las funciones que más se usarán será `read_csv()` que permite una gran flexibilidad a la hora de leer un archivo de texto plano."
   ]
  },
  {
   "cell_type": "code",
   "execution_count": null,
   "metadata": {},
   "outputs": [],
   "source": [
    "help(pd.read_csv)"
   ]
  },
  {
   "cell_type": "markdown",
   "metadata": {},
   "source": [
    "En [este enlace](http://pandas.pydata.org/pandas-docs/stable/io.html \"pandas docs\") se pueden encontrar todos los posibles formatos con los que Pandas trabaja:\n",
    "\n",
    "Cada uno de estos métodos de lectura de determinados formatos (`read_NombreFormato`) tiene infinidad de parámetros que se pueden ver en la documentación y que no vamos a explicar por lo extensísima que seria esta explicación. \n",
    "\n",
    "Para la mayoría de los casos que nos vamos a encontrar los parámetros serían los siguientes:"
   ]
  },
  {
   "cell_type": "raw",
   "metadata": {},
   "source": [
    "pd.read_table(dir_fichero, engine='python', sep=';', header=True|False, names=[lista con nombre columnas])"
   ]
  },
  {
   "cell_type": "markdown",
   "metadata": {},
   "source": [
    "Básicamente hay que pasarle el archivo a leer, cual es su separador, si la primera linea del archivo contiene el nombre de las columnas y en el caso de que no las tenga pasarle en `names` el nombre de las columnas. \n",
    "\n",
    "\n",
    "Veamos un ejemplo de un dataset del  cómo leeriamos el archivo con los datos de los usuarios, siendo el contenido de las 10 primeras lineas el siguiente:"
   ]
  },
  {
   "cell_type": "code",
   "execution_count": 59,
   "metadata": {
    "collapsed": true
   },
   "outputs": [
    {
     "name": "stdout",
     "output_type": "stream",
     "text": [
      "# 10 primeros usuarios: \n",
      "     ID Sexo  Edad  Ocupacion   PBOX\n",
      "0     1    F     1         10  48067\n",
      "1     2    M    56         16  70072\n",
      "2     3    M    25         15  55117\n",
      "3     4    M    45          7  02460\n",
      "4     5    M    25         20  55455\n",
      "5     6    F    50          9  55117\n",
      "6     7    M    35          1  06810\n",
      "7     8    M    25         12  11413\n",
      "8     9    M    25         17  61614\n",
      "9    10    F    35          1  95370\n",
      "10   11    F    25          1  04093\n",
      "11   12    M    25         12  32793\n",
      "12   13    M    45          1  93304\n",
      "13   14    M    35          0  60126\n",
      "14   15    M    25          7  22903\n",
      "15   16    F    35          0  20670\n",
      "16   17    M    50          1  95350\n",
      "17   18    F    18          3  95825\n",
      "18   19    M     1         10  48073\n",
      "19   20    M    25         14  55113\n",
      "20   21    M    18         16  99353\n",
      "21   22    M    18         15  53706\n",
      "22   23    M    35          0  90049\n",
      "23   24    F    25          7  10023\n",
      "24   25    M    18          4  01609\n",
      "25   26    M    25          7  23112\n",
      "26   27    M    25         11  19130\n",
      "27   28    F    25          1  14607\n",
      "28   29    M    35          7  33407\n",
      "29   30    F    35          7  19143\n",
      "..  ...  ...   ...        ...    ...\n",
      "70   71    M    25         14  95008\n",
      "71   72    F    45          0  55122\n",
      "72   73    M    18          4  53706\n",
      "73   74    M    35         14  94530\n",
      "74   75    F     1         10  01748\n",
      "75   76    M    35          7  55413\n",
      "76   77    M    18          4  15321\n",
      "77   78    F    45          1  98029\n",
      "78   79    F    45          0  98103\n",
      "79   80    M    56          1  49327\n",
      "80   81    F    25          0  60640\n",
      "81   82    M    25         17  48380\n",
      "82   83    F    25          2  94609\n",
      "83   84    M    18          4  53140\n",
      "84   85    M    18          4  94945\n",
      "85   86    F     1         10  54467\n",
      "86   87    M    25         14  48360\n",
      "87   88    F    45          1  02476\n",
      "88   89    F    56          9  85749\n",
      "89   90    M    56         13  85749\n",
      "90   91    M    35          7  07650\n",
      "91   92    F    18          4  44243\n",
      "92   93    M    25         17  95825\n",
      "93   94    M    25         17  28601\n",
      "94   95    M    45          0  98201\n",
      "95   96    F    25         16  78028\n",
      "96   97    F    35          3  66210\n",
      "97   98    F    35          7  33547\n",
      "98   99    F     1         10  19390\n",
      "99  100    M    35         17  95401\n",
      "\n",
      "[100 rows x 5 columns]\n"
     ]
    }
   ],
   "source": [
    "# Load users info\n",
    "userHeader = ['ID', 'Sexo', 'Edad', 'Ocupacion', 'PBOX']\n",
    "users = pd.read_csv('Datasets/users.txt', engine='python', sep='::', header=None, names=userHeader)\n",
    "\n",
    "# print 5 first users\n",
    "print ('# 10 primeros usuarios: \\n%s' % users[:100])"
   ]
  },
  {
   "cell_type": "markdown",
   "metadata": {},
   "source": [
    "Para escribir un `DataFrame` en un archivo de texto se pueden utilizar los [método de escritura](http://pandas.pydata.org/pandas-docs/stable/io.html) para escribirlos en el formato que se quiera. \n",
    "\n",
    "\n",
    "- Por ejemplo si utilizamos el método `to_csv()` nos escribirá el `DataFrame` en este formato estandar que separa los campos por comas; pero por ejemplo, podemos decirle al método que en vez de que utilice como separador una coma, que utilice por ejemplo un guión. \n",
    "\n",
    "\n",
    "Si queremos escribir en un archivo el `DataFrame` `users` con estas características lo podemos hacer de la siguiente manera:"
   ]
  },
  {
   "cell_type": "code",
   "execution_count": 60,
   "metadata": {},
   "outputs": [],
   "source": [
    "users.to_csv('Datasets/MyUsers3.txt', sep='-')"
   ]
  },
  {
   "cell_type": "markdown",
   "metadata": {},
   "source": [
    "### Merge"
   ]
  },
  {
   "cell_type": "markdown",
   "metadata": {},
   "source": [
    "Una funcionalidad muy potente que ofrece Pandas es la de poder juntar, `merge` (en bases de datos sería hacer un `JOIN`) datos siempre y cuando este sea posible. \n",
    "\n",
    "\n",
    "En el ejemplo que estamos haciendo con el dataset podemos ver esta funcionalidad de forma muy intuitiva, ya que los datos de este data set se han obtenido a partir de una bases de datos relacional. \n",
    "\n",
    "\n",
    "Veamos a continuación como hacer un `JOIN` o un `merge` de los archivos `users.txt` y `ratings.txt` a partir del `user_id`:"
   ]
  },
  {
   "cell_type": "code",
   "execution_count": 61,
   "metadata": {},
   "outputs": [
    {
     "name": "stdout",
     "output_type": "stream",
     "text": [
      "   user_id gender  age  ocupation    zip  movie_id  rating  timestamp\n",
      "0        1      F    1         10  48067      1193       5  978300760\n",
      "1        1      F    1         10  48067       661       3  978302109\n",
      "2        1      F    1         10  48067       914       3  978301968\n",
      "3        1      F    1         10  48067      3408       4  978300275\n",
      "4        1      F    1         10  48067      2355       5  978824291\n",
      "5        1      F    1         10  48067      1197       3  978302268\n",
      "6        1      F    1         10  48067      1287       5  978302039\n",
      "7        1      F    1         10  48067      2804       5  978300719\n",
      "8        1      F    1         10  48067       594       4  978302268\n",
      "9        1      F    1         10  48067       919       4  978301368\n"
     ]
    }
   ],
   "source": [
    "# Load users info\n",
    "userHeader = ['user_id', 'gender', 'age', 'ocupation', 'zip']\n",
    "users = pd.read_csv('Datasets/users.txt', engine='python', sep='::', header=None, names=userHeader)\n",
    "# Load ratings\n",
    "ratingHeader = ['user_id', 'movie_id', 'rating', 'timestamp']\n",
    "ratings = pd.read_csv('Datasets/ratings.txt', engine='python', sep='::', header=None, names=ratingHeader)\n",
    "\n",
    "# Merge tables users + ratings by user_id field\n",
    "merger_ratings_users = pd.merge(users, ratings)\n",
    "print('%s' % merger_ratings_users[:10])"
   ]
  },
  {
   "cell_type": "markdown",
   "metadata": {},
   "source": [
    "De la misma forma que hemos hecho el `JOIN` de los usuarios y los votos, podemos hacer lo mismo añadiendo también los datos relativos a las películas:"
   ]
  },
  {
   "cell_type": "code",
   "execution_count": 62,
   "metadata": {},
   "outputs": [],
   "source": [
    "userHeader = ['user_id', 'gender', 'age', 'ocupation', 'zip']\n",
    "users = pd.read_csv('Datasets/users.txt', engine='python', sep='::', header=None, names=userHeader)\n",
    "\n",
    "movieHeader = ['movie_id', 'title', 'genders']\n",
    "movies = pd.read_csv('Datasets/movies.txt', engine='python', sep='::', header=None, names=movieHeader)\n",
    "\n",
    "ratingHeader = ['user_id', 'movie_id', 'rating', 'timestamp']\n",
    "ratings = pd.read_csv('Datasets/ratings.txt', engine='python', sep='::', header=None, names=ratingHeader)\n",
    "\n",
    "# Merge data\n",
    "#mergeRatings = pd.merge(pd.merge(users, ratings), movies)\n",
    "mergeRatings = pd.merge(merger_ratings_users, movies)"
   ]
  },
  {
   "cell_type": "markdown",
   "metadata": {},
   "source": [
    "Si quisiésemos ver por ejemplo un elemento de este nuevo `JOIN` creado (por ejemplo la posición 1000), lo podríamos hacer de la siguiente forma:"
   ]
  },
  {
   "cell_type": "code",
   "execution_count": 63,
   "metadata": {
    "scrolled": true
   },
   "outputs": [
    {
     "name": "stdout",
     "output_type": "stream",
     "text": [
      "Info of 1000 position of the table: \n",
      "user_id                                        3612\n",
      "gender                                            M\n",
      "age                                              25\n",
      "ocupation                                        14\n",
      "zip                                           29609\n",
      "movie_id                                       1193\n",
      "rating                                            5\n",
      "timestamp                                 966605873\n",
      "title        One Flew Over the Cuckoo's Nest (1975)\n",
      "genders                                       Drama\n",
      "Name: 1000, dtype: object\n"
     ]
    }
   ],
   "source": [
    "info1000 = mergeRatings.loc[1000]\n",
    "print('Info of 1000 position of the table: \\n%s' % info1000[:1000])"
   ]
  },
  {
   "cell_type": "markdown",
   "metadata": {},
   "source": [
    "### Trabajando con Datos, Indexación, Selección\n",
    "\n",
    "¿Cómo podemos seleccionar, añadir, eliminar, mover,..., columnas, filas,...?\n",
    "\n",
    "\n",
    "- Para seleccionar una columna solo hay que usar el nombre de la columna y pasarlo como si fuera un diccionario (o un atributo).\n",
    "\n",
    "\n",
    "- Para añadir una columna simplemente hay que usar un nombre de columna no existente y pasarle los valores para esa columna.\n",
    "\n",
    "\n",
    "- Para eliminar una columna podemos usar `del` o el método `pop` del `DataFrame`.\n",
    "\n",
    "\n",
    "- Para mover una columna podemos usar una combinación de las metodologías anteriores.\n",
    "\n",
    "\n",
    "Como ejemplo, vamos crear un `DataFrame`con datos aleatorios y a seleccionar los valores de una columna:"
   ]
  },
  {
   "cell_type": "code",
   "execution_count": 70,
   "metadata": {},
   "outputs": [
    {
     "name": "stdout",
     "output_type": "stream",
     "text": [
      "         velocidad  temperatura   presion\n",
      "primero   1.657614     1.106117 -0.465712\n",
      "segundo   0.024792    -0.569864 -0.131773\n",
      "tercero  -0.245517    -0.821585  0.693599\n",
      "cuarto   -0.642441    -0.803830  1.145184\n",
      "quinto    0.491180    -1.159043 -0.627036\n",
      "primero    1.657614\n",
      "segundo    0.024792\n",
      "tercero   -0.245517\n",
      "cuarto    -0.642441\n",
      "quinto     0.491180\n",
      "Name: velocidad, dtype: float64\n",
      "primero    1.657614\n",
      "segundo    0.024792\n",
      "tercero   -0.245517\n",
      "cuarto    -0.642441\n",
      "quinto     0.491180\n",
      "Name: velocidad, dtype: float64\n"
     ]
    }
   ],
   "source": [
    "df = pd.DataFrame(np.random.randn(5,3),\n",
    "                  index = ['primero','segundo','tercero','cuarto','quinto'],\n",
    "                  columns = ['velocidad', 'temperatura','presion'])\n",
    "print(df)\n",
    "print(df['velocidad'])\n",
    "print(df.velocidad)"
   ]
  },
  {
   "cell_type": "markdown",
   "metadata": {},
   "source": [
    "Para acceder a la columna `velocidad` lo podemos hacer de dos formas. \n",
    "\n",
    "\n",
    "- O bien usando el nombre de la columna como si fuera una clave de un diccionario \n",
    "\n",
    "\n",
    "- O bien usando el nombre de la columna como si fuera un atributo. \n",
    "\n",
    "\n",
    "En el caso de que los nombres de las columnas sean números, la segunda opción no podríais usarla...\n",
    "\n",
    "\n",
    "Vamos a añadir una columna nueva al `DataFrame`. Es algo tan sencillo como usar un nombre de columna no existente y pasarle los datos:"
   ]
  },
  {
   "cell_type": "code",
   "execution_count": 71,
   "metadata": {},
   "outputs": [
    {
     "name": "stdout",
     "output_type": "stream",
     "text": [
      "         velocidad  temperatura   presion  velocidad_maxima\n",
      "primero   1.657614     1.106117 -0.465712          0.522077\n",
      "segundo   0.024792    -0.569864 -0.131773          0.990787\n",
      "tercero  -0.245517    -0.821585  0.693599          0.927056\n",
      "cuarto   -0.642441    -0.803830  1.145184         -0.147118\n",
      "quinto    0.491180    -1.159043 -0.627036         -0.016672\n"
     ]
    }
   ],
   "source": [
    "df['velocidad_maxima'] = np.random.randn(df.shape[0])\n",
    "print(df)"
   ]
  },
  {
   "cell_type": "markdown",
   "metadata": {},
   "source": [
    "Pero qué pasa si quiero añadir la columna en un lugar específico. Para ello podemos usar el método `insert` (y de paso vemos como podemos borrar una columna):\n",
    "\n",
    "**Forma 1:**\n",
    "\n",
    "- Borramos la columna 'velocidad_maxima' que está al final del df usando `del`\n",
    "\n",
    "\n",
    "- Colocamos la columna eliminada en la posición que especifiquemos"
   ]
  },
  {
   "cell_type": "code",
   "execution_count": 72,
   "metadata": {},
   "outputs": [
    {
     "name": "stdout",
     "output_type": "stream",
     "text": [
      "         velocidad  temperatura   presion  velocidad_maxima\n",
      "primero   1.657614     1.106117 -0.465712          0.522077\n",
      "segundo   0.024792    -0.569864 -0.131773          0.990787\n",
      "tercero  -0.245517    -0.821585  0.693599          0.927056\n",
      "cuarto   -0.642441    -0.803830  1.145184         -0.147118\n",
      "quinto    0.491180    -1.159043 -0.627036         -0.016672\n",
      "         velocidad  velocidad_maxima  temperatura   presion\n",
      "primero   1.657614          0.522077     1.106117 -0.465712\n",
      "segundo   0.024792          0.990787    -0.569864 -0.131773\n",
      "tercero  -0.245517          0.927056    -0.821585  0.693599\n",
      "cuarto   -0.642441         -0.147118    -0.803830  1.145184\n",
      "quinto    0.491180         -0.016672    -1.159043 -0.627036\n"
     ]
    }
   ],
   "source": [
    "print(df)\n",
    "columna = df['velocidad_maxima']\n",
    "del df['velocidad_maxima']\n",
    "df.insert(1, 'velocidad_maxima', columna)\n",
    "print(df)"
   ]
  },
  {
   "cell_type": "markdown",
   "metadata": {},
   "source": [
    "**Forma 2:** Usando el método `pop`: borramos usando el método `pop` y añadimos la columna borrada en la última posición de nuevo."
   ]
  },
  {
   "cell_type": "code",
   "execution_count": 73,
   "metadata": {},
   "outputs": [
    {
     "name": "stdout",
     "output_type": "stream",
     "text": [
      "         velocidad  velocidad_maxima  temperatura   presion\n",
      "primero   1.657614          0.522077     1.106117 -0.465712\n",
      "segundo   0.024792          0.990787    -0.569864 -0.131773\n",
      "tercero  -0.245517          0.927056    -0.821585  0.693599\n",
      "cuarto   -0.642441         -0.147118    -0.803830  1.145184\n",
      "quinto    0.491180         -0.016672    -1.159043 -0.627036\n",
      "         velocidad  temperatura   presion\n",
      "primero   1.657614     1.106117 -0.465712\n",
      "segundo   0.024792    -0.569864 -0.131773\n",
      "tercero  -0.245517    -0.821585  0.693599\n",
      "cuarto   -0.642441    -0.803830  1.145184\n",
      "quinto    0.491180    -1.159043 -0.627036\n",
      "         velocidad  temperatura   presion  velocidad_maxima\n",
      "primero   1.657614     1.106117 -0.465712          0.522077\n",
      "segundo   0.024792    -0.569864 -0.131773          0.990787\n",
      "tercero  -0.245517    -0.821585  0.693599          0.927056\n",
      "cuarto   -0.642441    -0.803830  1.145184         -0.147118\n",
      "quinto    0.491180    -1.159043 -0.627036         -0.016672\n"
     ]
    }
   ],
   "source": [
    "print(df)\n",
    "columna = df.pop('velocidad_maxima')\n",
    "print(df)\n",
    "#print(columna)\n",
    "df.insert(3, 'velocidad_maxima', columna)\n",
    "print(df)"
   ]
  },
  {
   "cell_type": "markdown",
   "metadata": {},
   "source": [
    "Para seleccionar datos concretos de un `DataFrame` podemos usar el índice, una rebanada (*slicing*), valores booleanos, la columna,...\n",
    "\n",
    "\n",
    "- Seleccionamos la columna de velocidades:"
   ]
  },
  {
   "cell_type": "code",
   "execution_count": 75,
   "metadata": {},
   "outputs": [
    {
     "name": "stdout",
     "output_type": "stream",
     "text": [
      "primero    1.657614\n",
      "segundo    0.024792\n",
      "tercero   -0.245517\n",
      "cuarto    -0.642441\n",
      "quinto     0.491180\n",
      "Name: velocidad, dtype: float64\n"
     ]
    }
   ],
   "source": [
    "print(df.velocidad)"
   ]
  },
  {
   "cell_type": "markdown",
   "metadata": {},
   "source": [
    "- Seleccionamos todas las columnas cuyo índice es igual a tercero:"
   ]
  },
  {
   "cell_type": "code",
   "execution_count": null,
   "metadata": {},
   "outputs": [],
   "source": [
    "print(df.xs('tercero'))"
   ]
  },
  {
   "cell_type": "markdown",
   "metadata": {},
   "source": [
    "- Seleccionamos todas las columnas cuyo índice está entre tercero y quinto (en este caso los índices son inclusivos)"
   ]
  },
  {
   "cell_type": "code",
   "execution_count": null,
   "metadata": {},
   "outputs": [],
   "source": [
    "print(df.loc['tercero':'quinto'])"
   ]
  },
  {
   "cell_type": "markdown",
   "metadata": {},
   "source": [
    "- Seleccionamos todos los valores de velocidad donde la temperatura > 0"
   ]
  },
  {
   "cell_type": "code",
   "execution_count": null,
   "metadata": {},
   "outputs": [],
   "source": [
    "print(df['velocidad'][df['temperatura']>0])"
   ]
  },
  {
   "cell_type": "markdown",
   "metadata": {},
   "source": [
    "Seleccionamos todos los valores de una columna por índice usando una rebanada (`slice`) de enteros.\n",
    "\n",
    "\n",
    "- En este caso el límite superior de la rebanada no se incluye (Python tradicional)"
   ]
  },
  {
   "cell_type": "code",
   "execution_count": null,
   "metadata": {},
   "outputs": [],
   "source": [
    "print(df.iloc[1:3])"
   ]
  },
  {
   "cell_type": "markdown",
   "metadata": {},
   "source": [
    "- Seleccionamos filas y columnas"
   ]
  },
  {
   "cell_type": "code",
   "execution_count": null,
   "metadata": {},
   "outputs": [],
   "source": [
    "print(df.iloc[1:3, ['velocidad', 'presion']])"
   ]
  },
  {
   "cell_type": "code",
   "execution_count": null,
   "metadata": {},
   "outputs": [],
   "source": [
    "help(df.ix)"
   ]
  }
 ],
 "metadata": {
  "kernelspec": {
   "display_name": "Python 3",
   "language": "python",
   "name": "python3"
  },
  "language_info": {
   "codemirror_mode": {
    "name": "ipython",
    "version": 3
   },
   "file_extension": ".py",
   "mimetype": "text/x-python",
   "name": "python",
   "nbconvert_exporter": "python",
   "pygments_lexer": "ipython3",
   "version": "3.6.8"
  },
  "latex_envs": {
   "LaTeX_envs_menu_present": true,
   "autocomplete": true,
   "bibliofile": "biblio.bib",
   "cite_by": "apalike",
   "current_citInitial": 1,
   "eqLabelWithNumbers": true,
   "eqNumInitial": 1,
   "hotkeys": {
    "equation": "Ctrl-E",
    "itemize": "Ctrl-I"
   },
   "labels_anchors": false,
   "latex_user_defs": false,
   "report_style_numbering": true,
   "user_envs_cfg": true
  }
 },
 "nbformat": 4,
 "nbformat_minor": 2
}
